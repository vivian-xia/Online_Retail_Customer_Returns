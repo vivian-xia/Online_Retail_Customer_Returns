{
 "cells": [
  {
   "cell_type": "code",
   "execution_count": 3,
   "metadata": {},
   "outputs": [],
   "source": [
    "import pandas as pd\n",
    "import numpy as np\n",
    "import matplotlib.pyplot as plt\n",
    "import seaborn as sns\n",
    "\n",
    "pd.set_option('display.max_columns', None)\n",
    "pd.set_option('display.max_rows', None)\n"
   ]
  },
  {
   "cell_type": "code",
   "execution_count": 4,
   "metadata": {},
   "outputs": [
    {
     "data": {
      "text/plain": [
       "IsReturn\n",
       "0    789533\n",
       "1     16087\n",
       "Name: count, dtype: int64"
      ]
     },
     "execution_count": 4,
     "metadata": {},
     "output_type": "execute_result"
    }
   ],
   "source": [
    "df = pd.read_csv('online_retail_cleaned.csv')\n",
    "df.IsReturn.value_counts()"
   ]
  },
  {
   "cell_type": "code",
   "execution_count": 21,
   "metadata": {},
   "outputs": [],
   "source": [
    "df[\"InvoiceDate\"] = pd.to_datetime(df[\"InvoiceDate\"], errors=\"coerce\")\n",
    "df[\"Year_Month\"] = df[\"InvoiceDate\"].dt.strftime('%Y-%m')"
   ]
  },
  {
   "cell_type": "code",
   "execution_count": 22,
   "metadata": {},
   "outputs": [
    {
     "data": {
      "text/plain": [
       "np.float64(32224.8)"
      ]
     },
     "execution_count": 22,
     "metadata": {},
     "output_type": "execute_result"
    }
   ],
   "source": [
    "(df.groupby('Year_Month')['Invoice'].count()).mean() #average monthly purchases"
   ]
  },
  {
   "cell_type": "code",
   "execution_count": 23,
   "metadata": {},
   "outputs": [
    {
     "data": {
      "text/plain": [
       "np.float64(19.799999999999997)"
      ]
     },
     "execution_count": 23,
     "metadata": {},
     "output_type": "execute_result"
    }
   ],
   "source": [
    "avg_return_value = df[df[\"IsReturn\"] == 1][\"TotalLineValue\"].median()\n",
    "avg_return_value"
   ]
  },
  {
   "cell_type": "code",
   "execution_count": 24,
   "metadata": {},
   "outputs": [
    {
     "data": {
      "text/plain": [
       "np.float64(40.0)"
      ]
     },
     "execution_count": 24,
     "metadata": {},
     "output_type": "execute_result"
    }
   ],
   "source": [
    "top25percent_return_value = df[df[\"IsReturn\"] == 1][\"TotalLineValue\"].quantile(0.75)\n",
    "top25percent_return_value"
   ]
  },
  {
   "cell_type": "markdown",
   "metadata": {},
   "source": [
    "Simulate Precision@k for Model 9"
   ]
  },
  {
   "cell_type": "code",
   "execution_count": 57,
   "metadata": {},
   "outputs": [],
   "source": [
    "def simulate_roi_for_high_value_segment(\n",
    "    total_monthly_orders=32224,\n",
    "    high_value_percent=0.25,  # You only care about the top 25% of orders\n",
    "    outreach_cost=1,\n",
    "    savings_per_return=40,\n",
    "    model_precisions={\"5\": 0.1853, \"3\": 0.2475, \"2\": 0.3097}\n",
    "):\n",
    "    results = []\n",
    "\n",
    "    # Step 1: Only keep top 25% high-value orders\n",
    "    high_value_orders = int(total_monthly_orders * high_value_percent)\n",
    "\n",
    "    for model_id, precision in model_precisions.items():\n",
    "        # Get the % to target within the high-value segment\n",
    "        top_k_percent = float(model_id.replace(\"Top \", \"\").replace(\"%\", \"\")) / 100\n",
    "        targeted_orders = int(high_value_orders * top_k_percent)\n",
    "        true_positives = int(targeted_orders * precision)\n",
    "\n",
    "        estimated_savings = round(true_positives * savings_per_return, 2)\n",
    "        outreach_cost_total = targeted_orders * outreach_cost\n",
    "        net_roi = round(estimated_savings - outreach_cost_total, 2)\n",
    "        roi_percent = round((net_roi / outreach_cost_total) * 100, 2) if outreach_cost_total > 0 else 0\n",
    "\n",
    "        results.append({\n",
    "            \"Top %\": model_id,\n",
    "            \"Total Monthly Orders\": total_monthly_orders,\n",
    "            \"High-Value Orders (Top 25% of Total Monthly Orders)\": high_value_orders,\n",
    "            \"Targeted (High-Risk)\": targeted_orders,\n",
    "            \"Returners Caught\": true_positives,\n",
    "            \"Estimated Savings ($)\": estimated_savings,\n",
    "            \"Outreach Cost ($)\": outreach_cost_total,\n",
    "            \"Net ROI ($)\": net_roi,\n",
    "            \"ROI (%)\": roi_percent\n",
    "        })\n",
    "\n",
    "    return pd.DataFrame(results)\n"
   ]
  },
  {
   "cell_type": "code",
   "execution_count": 58,
   "metadata": {},
   "outputs": [
    {
     "data": {
      "text/html": [
       "<div>\n",
       "<style scoped>\n",
       "    .dataframe tbody tr th:only-of-type {\n",
       "        vertical-align: middle;\n",
       "    }\n",
       "\n",
       "    .dataframe tbody tr th {\n",
       "        vertical-align: top;\n",
       "    }\n",
       "\n",
       "    .dataframe thead th {\n",
       "        text-align: right;\n",
       "    }\n",
       "</style>\n",
       "<table border=\"1\" class=\"dataframe\">\n",
       "  <thead>\n",
       "    <tr style=\"text-align: right;\">\n",
       "      <th></th>\n",
       "      <th>Top %</th>\n",
       "      <th>Total Monthly Orders</th>\n",
       "      <th>High-Value Orders (Top 25% of Total Monthly Orders)</th>\n",
       "      <th>Targeted (High-Risk)</th>\n",
       "      <th>Returners Caught</th>\n",
       "      <th>Estimated Savings ($)</th>\n",
       "      <th>Outreach Cost ($)</th>\n",
       "      <th>Net ROI ($)</th>\n",
       "      <th>ROI (%)</th>\n",
       "    </tr>\n",
       "  </thead>\n",
       "  <tbody>\n",
       "    <tr>\n",
       "      <th>0</th>\n",
       "      <td>5</td>\n",
       "      <td>32224</td>\n",
       "      <td>8056</td>\n",
       "      <td>402</td>\n",
       "      <td>74</td>\n",
       "      <td>2960</td>\n",
       "      <td>402</td>\n",
       "      <td>2558</td>\n",
       "      <td>636.32</td>\n",
       "    </tr>\n",
       "    <tr>\n",
       "      <th>1</th>\n",
       "      <td>3</td>\n",
       "      <td>32224</td>\n",
       "      <td>8056</td>\n",
       "      <td>241</td>\n",
       "      <td>59</td>\n",
       "      <td>2360</td>\n",
       "      <td>241</td>\n",
       "      <td>2119</td>\n",
       "      <td>879.25</td>\n",
       "    </tr>\n",
       "    <tr>\n",
       "      <th>2</th>\n",
       "      <td>2</td>\n",
       "      <td>32224</td>\n",
       "      <td>8056</td>\n",
       "      <td>161</td>\n",
       "      <td>49</td>\n",
       "      <td>1960</td>\n",
       "      <td>161</td>\n",
       "      <td>1799</td>\n",
       "      <td>1117.39</td>\n",
       "    </tr>\n",
       "  </tbody>\n",
       "</table>\n",
       "</div>"
      ],
      "text/plain": [
       "  Top %  Total Monthly Orders  \\\n",
       "0     5                 32224   \n",
       "1     3                 32224   \n",
       "2     2                 32224   \n",
       "\n",
       "   High-Value Orders (Top 25% of Total Monthly Orders)  Targeted (High-Risk)  \\\n",
       "0                                               8056                     402   \n",
       "1                                               8056                     241   \n",
       "2                                               8056                     161   \n",
       "\n",
       "   Returners Caught  Estimated Savings ($)  Outreach Cost ($)  Net ROI ($)  \\\n",
       "0                74                   2960                402         2558   \n",
       "1                59                   2360                241         2119   \n",
       "2                49                   1960                161         1799   \n",
       "\n",
       "   ROI (%)  \n",
       "0   636.32  \n",
       "1   879.25  \n",
       "2  1117.39  "
      ]
     },
     "execution_count": 58,
     "metadata": {},
     "output_type": "execute_result"
    }
   ],
   "source": [
    "roi_df = simulate_roi_for_high_value_segment()\n",
    "roi_df"
   ]
  },
  {
   "cell_type": "markdown",
   "metadata": {},
   "source": [
    "As you go higher up the ranked list, your model's precision increases, and you get more value for less cost, resulting in a higher ROI % because it's more efficient."
   ]
  },
  {
   "cell_type": "markdown",
   "metadata": {},
   "source": []
  }
 ],
 "metadata": {
  "kernelspec": {
   "display_name": "Python 3",
   "language": "python",
   "name": "python3"
  },
  "language_info": {
   "codemirror_mode": {
    "name": "ipython",
    "version": 3
   },
   "file_extension": ".py",
   "mimetype": "text/x-python",
   "name": "python",
   "nbconvert_exporter": "python",
   "pygments_lexer": "ipython3",
   "version": "3.13.2"
  }
 },
 "nbformat": 4,
 "nbformat_minor": 2
}
