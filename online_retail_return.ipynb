{
 "cells": [
  {
   "cell_type": "markdown",
   "metadata": {},
   "source": [
    "Transaction level return prediction: Predict IsReturn for each invoice\n",
    "\n",
    "Goal in Real Life Application: Proactively suggest alternatives so recall is more important since it's ok to suggest alternatives to more people but you do want to capture those that will most likely return and suggest alternatives "
   ]
  },
  {
   "cell_type": "code",
   "execution_count": 81,
   "metadata": {},
   "outputs": [],
   "source": [
    "import pandas as pd\n",
    "import numpy as np\n",
    "import matplotlib.pyplot as plt\n",
    "import seaborn as sns\n",
    "from sklearn.model_selection import train_test_split, cross_val_score, cross_val_predict, RandomizedSearchCV, GridSearchCV\n",
    "from xgboost import XGBClassifier\n",
    "import joblib\n",
    "from joblib import load\n",
    "from sklearn.utils import resample\n",
    "\n",
    "from sklearn.metrics import classification_report, roc_auc_score, average_precision_score, make_scorer, recall_score, confusion_matrix, precision_recall_curve\n",
    "from imblearn.over_sampling import SMOTE #install imbalanced-learn\n",
    "import shap\n",
    "import optuna\n"
   ]
  },
  {
   "cell_type": "code",
   "execution_count": 82,
   "metadata": {},
   "outputs": [
    {
     "data": {
      "text/plain": [
       "IsReturn\n",
       "0    789533\n",
       "1     16087\n",
       "Name: count, dtype: int64"
      ]
     },
     "execution_count": 82,
     "metadata": {},
     "output_type": "execute_result"
    }
   ],
   "source": [
    "df = pd.read_csv('online_retail_cleaned.csv')\n",
    "df.IsReturn.value_counts()"
   ]
  },
  {
   "cell_type": "code",
   "execution_count": 83,
   "metadata": {},
   "outputs": [],
   "source": [
    "def cyclical_encode(df, col_name, period):\n",
    "    df[col_name + '_sin'] = np.sin(2 * np.pi * df[col_name] / period)\n",
    "    df[col_name + '_cos'] = np.cos(2 * np.pi * df[col_name] / period)\n",
    "    return df\n",
    "\n",
    "# Assuming your DataFrame is 'df' and the month column is 'InvoiceMonth'\n",
    "df = cyclical_encode(df, 'InvoiceMonth', 12)\n",
    "df = df.drop('InvoiceMonth', axis=1) # Drop the original InvoiceMonth column\n",
    "\n",
    "# Assuming your DataFrame is 'df' and the month column is 'InvoiceHour'\n",
    "df = cyclical_encode(df, 'InvoiceHour', 24)\n",
    "df = df.drop('InvoiceHour', axis=1) "
   ]
  },
  {
   "cell_type": "code",
   "execution_count": 84,
   "metadata": {},
   "outputs": [],
   "source": [
    "# Define target variable\n",
    "y = df['IsReturn']\n",
    "\n",
    "# Drop columns that should not be used as features\n",
    "X = df.drop(columns=['Customer ID','IsReturn', 'Invoice', 'InvoiceDate', 'StockCode','Description',\"Country\"]) "
   ]
  },
  {
   "cell_type": "code",
   "execution_count": 85,
   "metadata": {},
   "outputs": [],
   "source": [
    "X_train, X_test, y_train, y_test = train_test_split(\n",
    "    X, y,\n",
    "    test_size=0.2,\n",
    "    stratify=y,  # Ensures class ratio consistency\n",
    "    random_state=42\n",
    ")"
   ]
  },
  {
   "cell_type": "code",
   "execution_count": 86,
   "metadata": {},
   "outputs": [
    {
     "name": "stdout",
     "output_type": "stream",
     "text": [
      "scale_pos_weight: 49.08\n"
     ]
    }
   ],
   "source": [
    "# weight ratio between the majority class (non-returns) and the minority class (returns) in the training data.\n",
    "scale_pos_weight = (y_train == 0).sum() / (y_train == 1).sum()\n",
    "print(f\"scale_pos_weight: {scale_pos_weight:.2f}\")"
   ]
  },
  {
   "cell_type": "markdown",
   "metadata": {},
   "source": [
    "The scale_pos_weight parameter tells XGBoost to penalize the majority class less and the minority class more, so the model takes returns (IsReturn == 1) more seriously.\n",
    "\n",
    "Each return is treated as 49 times more important than a non-return."
   ]
  },
  {
   "cell_type": "code",
   "execution_count": 87,
   "metadata": {},
   "outputs": [
    {
     "data": {
      "text/html": [
       "<style>#sk-container-id-3 {\n",
       "  /* Definition of color scheme common for light and dark mode */\n",
       "  --sklearn-color-text: #000;\n",
       "  --sklearn-color-text-muted: #666;\n",
       "  --sklearn-color-line: gray;\n",
       "  /* Definition of color scheme for unfitted estimators */\n",
       "  --sklearn-color-unfitted-level-0: #fff5e6;\n",
       "  --sklearn-color-unfitted-level-1: #f6e4d2;\n",
       "  --sklearn-color-unfitted-level-2: #ffe0b3;\n",
       "  --sklearn-color-unfitted-level-3: chocolate;\n",
       "  /* Definition of color scheme for fitted estimators */\n",
       "  --sklearn-color-fitted-level-0: #f0f8ff;\n",
       "  --sklearn-color-fitted-level-1: #d4ebff;\n",
       "  --sklearn-color-fitted-level-2: #b3dbfd;\n",
       "  --sklearn-color-fitted-level-3: cornflowerblue;\n",
       "\n",
       "  /* Specific color for light theme */\n",
       "  --sklearn-color-text-on-default-background: var(--sg-text-color, var(--theme-code-foreground, var(--jp-content-font-color1, black)));\n",
       "  --sklearn-color-background: var(--sg-background-color, var(--theme-background, var(--jp-layout-color0, white)));\n",
       "  --sklearn-color-border-box: var(--sg-text-color, var(--theme-code-foreground, var(--jp-content-font-color1, black)));\n",
       "  --sklearn-color-icon: #696969;\n",
       "\n",
       "  @media (prefers-color-scheme: dark) {\n",
       "    /* Redefinition of color scheme for dark theme */\n",
       "    --sklearn-color-text-on-default-background: var(--sg-text-color, var(--theme-code-foreground, var(--jp-content-font-color1, white)));\n",
       "    --sklearn-color-background: var(--sg-background-color, var(--theme-background, var(--jp-layout-color0, #111)));\n",
       "    --sklearn-color-border-box: var(--sg-text-color, var(--theme-code-foreground, var(--jp-content-font-color1, white)));\n",
       "    --sklearn-color-icon: #878787;\n",
       "  }\n",
       "}\n",
       "\n",
       "#sk-container-id-3 {\n",
       "  color: var(--sklearn-color-text);\n",
       "}\n",
       "\n",
       "#sk-container-id-3 pre {\n",
       "  padding: 0;\n",
       "}\n",
       "\n",
       "#sk-container-id-3 input.sk-hidden--visually {\n",
       "  border: 0;\n",
       "  clip: rect(1px 1px 1px 1px);\n",
       "  clip: rect(1px, 1px, 1px, 1px);\n",
       "  height: 1px;\n",
       "  margin: -1px;\n",
       "  overflow: hidden;\n",
       "  padding: 0;\n",
       "  position: absolute;\n",
       "  width: 1px;\n",
       "}\n",
       "\n",
       "#sk-container-id-3 div.sk-dashed-wrapped {\n",
       "  border: 1px dashed var(--sklearn-color-line);\n",
       "  margin: 0 0.4em 0.5em 0.4em;\n",
       "  box-sizing: border-box;\n",
       "  padding-bottom: 0.4em;\n",
       "  background-color: var(--sklearn-color-background);\n",
       "}\n",
       "\n",
       "#sk-container-id-3 div.sk-container {\n",
       "  /* jupyter's `normalize.less` sets `[hidden] { display: none; }`\n",
       "     but bootstrap.min.css set `[hidden] { display: none !important; }`\n",
       "     so we also need the `!important` here to be able to override the\n",
       "     default hidden behavior on the sphinx rendered scikit-learn.org.\n",
       "     See: https://github.com/scikit-learn/scikit-learn/issues/21755 */\n",
       "  display: inline-block !important;\n",
       "  position: relative;\n",
       "}\n",
       "\n",
       "#sk-container-id-3 div.sk-text-repr-fallback {\n",
       "  display: none;\n",
       "}\n",
       "\n",
       "div.sk-parallel-item,\n",
       "div.sk-serial,\n",
       "div.sk-item {\n",
       "  /* draw centered vertical line to link estimators */\n",
       "  background-image: linear-gradient(var(--sklearn-color-text-on-default-background), var(--sklearn-color-text-on-default-background));\n",
       "  background-size: 2px 100%;\n",
       "  background-repeat: no-repeat;\n",
       "  background-position: center center;\n",
       "}\n",
       "\n",
       "/* Parallel-specific style estimator block */\n",
       "\n",
       "#sk-container-id-3 div.sk-parallel-item::after {\n",
       "  content: \"\";\n",
       "  width: 100%;\n",
       "  border-bottom: 2px solid var(--sklearn-color-text-on-default-background);\n",
       "  flex-grow: 1;\n",
       "}\n",
       "\n",
       "#sk-container-id-3 div.sk-parallel {\n",
       "  display: flex;\n",
       "  align-items: stretch;\n",
       "  justify-content: center;\n",
       "  background-color: var(--sklearn-color-background);\n",
       "  position: relative;\n",
       "}\n",
       "\n",
       "#sk-container-id-3 div.sk-parallel-item {\n",
       "  display: flex;\n",
       "  flex-direction: column;\n",
       "}\n",
       "\n",
       "#sk-container-id-3 div.sk-parallel-item:first-child::after {\n",
       "  align-self: flex-end;\n",
       "  width: 50%;\n",
       "}\n",
       "\n",
       "#sk-container-id-3 div.sk-parallel-item:last-child::after {\n",
       "  align-self: flex-start;\n",
       "  width: 50%;\n",
       "}\n",
       "\n",
       "#sk-container-id-3 div.sk-parallel-item:only-child::after {\n",
       "  width: 0;\n",
       "}\n",
       "\n",
       "/* Serial-specific style estimator block */\n",
       "\n",
       "#sk-container-id-3 div.sk-serial {\n",
       "  display: flex;\n",
       "  flex-direction: column;\n",
       "  align-items: center;\n",
       "  background-color: var(--sklearn-color-background);\n",
       "  padding-right: 1em;\n",
       "  padding-left: 1em;\n",
       "}\n",
       "\n",
       "\n",
       "/* Toggleable style: style used for estimator/Pipeline/ColumnTransformer box that is\n",
       "clickable and can be expanded/collapsed.\n",
       "- Pipeline and ColumnTransformer use this feature and define the default style\n",
       "- Estimators will overwrite some part of the style using the `sk-estimator` class\n",
       "*/\n",
       "\n",
       "/* Pipeline and ColumnTransformer style (default) */\n",
       "\n",
       "#sk-container-id-3 div.sk-toggleable {\n",
       "  /* Default theme specific background. It is overwritten whether we have a\n",
       "  specific estimator or a Pipeline/ColumnTransformer */\n",
       "  background-color: var(--sklearn-color-background);\n",
       "}\n",
       "\n",
       "/* Toggleable label */\n",
       "#sk-container-id-3 label.sk-toggleable__label {\n",
       "  cursor: pointer;\n",
       "  display: flex;\n",
       "  width: 100%;\n",
       "  margin-bottom: 0;\n",
       "  padding: 0.5em;\n",
       "  box-sizing: border-box;\n",
       "  text-align: center;\n",
       "  align-items: start;\n",
       "  justify-content: space-between;\n",
       "  gap: 0.5em;\n",
       "}\n",
       "\n",
       "#sk-container-id-3 label.sk-toggleable__label .caption {\n",
       "  font-size: 0.6rem;\n",
       "  font-weight: lighter;\n",
       "  color: var(--sklearn-color-text-muted);\n",
       "}\n",
       "\n",
       "#sk-container-id-3 label.sk-toggleable__label-arrow:before {\n",
       "  /* Arrow on the left of the label */\n",
       "  content: \"▸\";\n",
       "  float: left;\n",
       "  margin-right: 0.25em;\n",
       "  color: var(--sklearn-color-icon);\n",
       "}\n",
       "\n",
       "#sk-container-id-3 label.sk-toggleable__label-arrow:hover:before {\n",
       "  color: var(--sklearn-color-text);\n",
       "}\n",
       "\n",
       "/* Toggleable content - dropdown */\n",
       "\n",
       "#sk-container-id-3 div.sk-toggleable__content {\n",
       "  max-height: 0;\n",
       "  max-width: 0;\n",
       "  overflow: hidden;\n",
       "  text-align: left;\n",
       "  /* unfitted */\n",
       "  background-color: var(--sklearn-color-unfitted-level-0);\n",
       "}\n",
       "\n",
       "#sk-container-id-3 div.sk-toggleable__content.fitted {\n",
       "  /* fitted */\n",
       "  background-color: var(--sklearn-color-fitted-level-0);\n",
       "}\n",
       "\n",
       "#sk-container-id-3 div.sk-toggleable__content pre {\n",
       "  margin: 0.2em;\n",
       "  border-radius: 0.25em;\n",
       "  color: var(--sklearn-color-text);\n",
       "  /* unfitted */\n",
       "  background-color: var(--sklearn-color-unfitted-level-0);\n",
       "}\n",
       "\n",
       "#sk-container-id-3 div.sk-toggleable__content.fitted pre {\n",
       "  /* unfitted */\n",
       "  background-color: var(--sklearn-color-fitted-level-0);\n",
       "}\n",
       "\n",
       "#sk-container-id-3 input.sk-toggleable__control:checked~div.sk-toggleable__content {\n",
       "  /* Expand drop-down */\n",
       "  max-height: 200px;\n",
       "  max-width: 100%;\n",
       "  overflow: auto;\n",
       "}\n",
       "\n",
       "#sk-container-id-3 input.sk-toggleable__control:checked~label.sk-toggleable__label-arrow:before {\n",
       "  content: \"▾\";\n",
       "}\n",
       "\n",
       "/* Pipeline/ColumnTransformer-specific style */\n",
       "\n",
       "#sk-container-id-3 div.sk-label input.sk-toggleable__control:checked~label.sk-toggleable__label {\n",
       "  color: var(--sklearn-color-text);\n",
       "  background-color: var(--sklearn-color-unfitted-level-2);\n",
       "}\n",
       "\n",
       "#sk-container-id-3 div.sk-label.fitted input.sk-toggleable__control:checked~label.sk-toggleable__label {\n",
       "  background-color: var(--sklearn-color-fitted-level-2);\n",
       "}\n",
       "\n",
       "/* Estimator-specific style */\n",
       "\n",
       "/* Colorize estimator box */\n",
       "#sk-container-id-3 div.sk-estimator input.sk-toggleable__control:checked~label.sk-toggleable__label {\n",
       "  /* unfitted */\n",
       "  background-color: var(--sklearn-color-unfitted-level-2);\n",
       "}\n",
       "\n",
       "#sk-container-id-3 div.sk-estimator.fitted input.sk-toggleable__control:checked~label.sk-toggleable__label {\n",
       "  /* fitted */\n",
       "  background-color: var(--sklearn-color-fitted-level-2);\n",
       "}\n",
       "\n",
       "#sk-container-id-3 div.sk-label label.sk-toggleable__label,\n",
       "#sk-container-id-3 div.sk-label label {\n",
       "  /* The background is the default theme color */\n",
       "  color: var(--sklearn-color-text-on-default-background);\n",
       "}\n",
       "\n",
       "/* On hover, darken the color of the background */\n",
       "#sk-container-id-3 div.sk-label:hover label.sk-toggleable__label {\n",
       "  color: var(--sklearn-color-text);\n",
       "  background-color: var(--sklearn-color-unfitted-level-2);\n",
       "}\n",
       "\n",
       "/* Label box, darken color on hover, fitted */\n",
       "#sk-container-id-3 div.sk-label.fitted:hover label.sk-toggleable__label.fitted {\n",
       "  color: var(--sklearn-color-text);\n",
       "  background-color: var(--sklearn-color-fitted-level-2);\n",
       "}\n",
       "\n",
       "/* Estimator label */\n",
       "\n",
       "#sk-container-id-3 div.sk-label label {\n",
       "  font-family: monospace;\n",
       "  font-weight: bold;\n",
       "  display: inline-block;\n",
       "  line-height: 1.2em;\n",
       "}\n",
       "\n",
       "#sk-container-id-3 div.sk-label-container {\n",
       "  text-align: center;\n",
       "}\n",
       "\n",
       "/* Estimator-specific */\n",
       "#sk-container-id-3 div.sk-estimator {\n",
       "  font-family: monospace;\n",
       "  border: 1px dotted var(--sklearn-color-border-box);\n",
       "  border-radius: 0.25em;\n",
       "  box-sizing: border-box;\n",
       "  margin-bottom: 0.5em;\n",
       "  /* unfitted */\n",
       "  background-color: var(--sklearn-color-unfitted-level-0);\n",
       "}\n",
       "\n",
       "#sk-container-id-3 div.sk-estimator.fitted {\n",
       "  /* fitted */\n",
       "  background-color: var(--sklearn-color-fitted-level-0);\n",
       "}\n",
       "\n",
       "/* on hover */\n",
       "#sk-container-id-3 div.sk-estimator:hover {\n",
       "  /* unfitted */\n",
       "  background-color: var(--sklearn-color-unfitted-level-2);\n",
       "}\n",
       "\n",
       "#sk-container-id-3 div.sk-estimator.fitted:hover {\n",
       "  /* fitted */\n",
       "  background-color: var(--sklearn-color-fitted-level-2);\n",
       "}\n",
       "\n",
       "/* Specification for estimator info (e.g. \"i\" and \"?\") */\n",
       "\n",
       "/* Common style for \"i\" and \"?\" */\n",
       "\n",
       ".sk-estimator-doc-link,\n",
       "a:link.sk-estimator-doc-link,\n",
       "a:visited.sk-estimator-doc-link {\n",
       "  float: right;\n",
       "  font-size: smaller;\n",
       "  line-height: 1em;\n",
       "  font-family: monospace;\n",
       "  background-color: var(--sklearn-color-background);\n",
       "  border-radius: 1em;\n",
       "  height: 1em;\n",
       "  width: 1em;\n",
       "  text-decoration: none !important;\n",
       "  margin-left: 0.5em;\n",
       "  text-align: center;\n",
       "  /* unfitted */\n",
       "  border: var(--sklearn-color-unfitted-level-1) 1pt solid;\n",
       "  color: var(--sklearn-color-unfitted-level-1);\n",
       "}\n",
       "\n",
       ".sk-estimator-doc-link.fitted,\n",
       "a:link.sk-estimator-doc-link.fitted,\n",
       "a:visited.sk-estimator-doc-link.fitted {\n",
       "  /* fitted */\n",
       "  border: var(--sklearn-color-fitted-level-1) 1pt solid;\n",
       "  color: var(--sklearn-color-fitted-level-1);\n",
       "}\n",
       "\n",
       "/* On hover */\n",
       "div.sk-estimator:hover .sk-estimator-doc-link:hover,\n",
       ".sk-estimator-doc-link:hover,\n",
       "div.sk-label-container:hover .sk-estimator-doc-link:hover,\n",
       ".sk-estimator-doc-link:hover {\n",
       "  /* unfitted */\n",
       "  background-color: var(--sklearn-color-unfitted-level-3);\n",
       "  color: var(--sklearn-color-background);\n",
       "  text-decoration: none;\n",
       "}\n",
       "\n",
       "div.sk-estimator.fitted:hover .sk-estimator-doc-link.fitted:hover,\n",
       ".sk-estimator-doc-link.fitted:hover,\n",
       "div.sk-label-container:hover .sk-estimator-doc-link.fitted:hover,\n",
       ".sk-estimator-doc-link.fitted:hover {\n",
       "  /* fitted */\n",
       "  background-color: var(--sklearn-color-fitted-level-3);\n",
       "  color: var(--sklearn-color-background);\n",
       "  text-decoration: none;\n",
       "}\n",
       "\n",
       "/* Span, style for the box shown on hovering the info icon */\n",
       ".sk-estimator-doc-link span {\n",
       "  display: none;\n",
       "  z-index: 9999;\n",
       "  position: relative;\n",
       "  font-weight: normal;\n",
       "  right: .2ex;\n",
       "  padding: .5ex;\n",
       "  margin: .5ex;\n",
       "  width: min-content;\n",
       "  min-width: 20ex;\n",
       "  max-width: 50ex;\n",
       "  color: var(--sklearn-color-text);\n",
       "  box-shadow: 2pt 2pt 4pt #999;\n",
       "  /* unfitted */\n",
       "  background: var(--sklearn-color-unfitted-level-0);\n",
       "  border: .5pt solid var(--sklearn-color-unfitted-level-3);\n",
       "}\n",
       "\n",
       ".sk-estimator-doc-link.fitted span {\n",
       "  /* fitted */\n",
       "  background: var(--sklearn-color-fitted-level-0);\n",
       "  border: var(--sklearn-color-fitted-level-3);\n",
       "}\n",
       "\n",
       ".sk-estimator-doc-link:hover span {\n",
       "  display: block;\n",
       "}\n",
       "\n",
       "/* \"?\"-specific style due to the `<a>` HTML tag */\n",
       "\n",
       "#sk-container-id-3 a.estimator_doc_link {\n",
       "  float: right;\n",
       "  font-size: 1rem;\n",
       "  line-height: 1em;\n",
       "  font-family: monospace;\n",
       "  background-color: var(--sklearn-color-background);\n",
       "  border-radius: 1rem;\n",
       "  height: 1rem;\n",
       "  width: 1rem;\n",
       "  text-decoration: none;\n",
       "  /* unfitted */\n",
       "  color: var(--sklearn-color-unfitted-level-1);\n",
       "  border: var(--sklearn-color-unfitted-level-1) 1pt solid;\n",
       "}\n",
       "\n",
       "#sk-container-id-3 a.estimator_doc_link.fitted {\n",
       "  /* fitted */\n",
       "  border: var(--sklearn-color-fitted-level-1) 1pt solid;\n",
       "  color: var(--sklearn-color-fitted-level-1);\n",
       "}\n",
       "\n",
       "/* On hover */\n",
       "#sk-container-id-3 a.estimator_doc_link:hover {\n",
       "  /* unfitted */\n",
       "  background-color: var(--sklearn-color-unfitted-level-3);\n",
       "  color: var(--sklearn-color-background);\n",
       "  text-decoration: none;\n",
       "}\n",
       "\n",
       "#sk-container-id-3 a.estimator_doc_link.fitted:hover {\n",
       "  /* fitted */\n",
       "  background-color: var(--sklearn-color-fitted-level-3);\n",
       "}\n",
       "</style><div id=\"sk-container-id-3\" class=\"sk-top-container\"><div class=\"sk-text-repr-fallback\"><pre>XGBClassifier(base_score=None, booster=None, callbacks=None,\n",
       "              colsample_bylevel=None, colsample_bynode=None,\n",
       "              colsample_bytree=None, device=None, early_stopping_rounds=None,\n",
       "              enable_categorical=False, eval_metric=&#x27;logloss&#x27;,\n",
       "              feature_types=None, gamma=None, grow_policy=None,\n",
       "              importance_type=None, interaction_constraints=None,\n",
       "              learning_rate=None, max_bin=None, max_cat_threshold=None,\n",
       "              max_cat_to_onehot=None, max_delta_step=None, max_depth=None,\n",
       "              max_leaves=None, min_child_weight=None, missing=nan,\n",
       "              monotone_constraints=None, multi_strategy=None, n_estimators=None,\n",
       "              n_jobs=None, num_parallel_tree=None, random_state=42, ...)</pre><b>In a Jupyter environment, please rerun this cell to show the HTML representation or trust the notebook. <br />On GitHub, the HTML representation is unable to render, please try loading this page with nbviewer.org.</b></div><div class=\"sk-container\" hidden><div class=\"sk-item\"><div class=\"sk-estimator fitted sk-toggleable\"><input class=\"sk-toggleable__control sk-hidden--visually\" id=\"sk-estimator-id-3\" type=\"checkbox\" checked><label for=\"sk-estimator-id-3\" class=\"sk-toggleable__label fitted sk-toggleable__label-arrow\"><div><div>XGBClassifier</div></div><div><span class=\"sk-estimator-doc-link fitted\">i<span>Fitted</span></span></div></label><div class=\"sk-toggleable__content fitted\"><pre>XGBClassifier(base_score=None, booster=None, callbacks=None,\n",
       "              colsample_bylevel=None, colsample_bynode=None,\n",
       "              colsample_bytree=None, device=None, early_stopping_rounds=None,\n",
       "              enable_categorical=False, eval_metric=&#x27;logloss&#x27;,\n",
       "              feature_types=None, gamma=None, grow_policy=None,\n",
       "              importance_type=None, interaction_constraints=None,\n",
       "              learning_rate=None, max_bin=None, max_cat_threshold=None,\n",
       "              max_cat_to_onehot=None, max_delta_step=None, max_depth=None,\n",
       "              max_leaves=None, min_child_weight=None, missing=nan,\n",
       "              monotone_constraints=None, multi_strategy=None, n_estimators=None,\n",
       "              n_jobs=None, num_parallel_tree=None, random_state=42, ...)</pre></div> </div></div></div></div>"
      ],
      "text/plain": [
       "XGBClassifier(base_score=None, booster=None, callbacks=None,\n",
       "              colsample_bylevel=None, colsample_bynode=None,\n",
       "              colsample_bytree=None, device=None, early_stopping_rounds=None,\n",
       "              enable_categorical=False, eval_metric='logloss',\n",
       "              feature_types=None, gamma=None, grow_policy=None,\n",
       "              importance_type=None, interaction_constraints=None,\n",
       "              learning_rate=None, max_bin=None, max_cat_threshold=None,\n",
       "              max_cat_to_onehot=None, max_delta_step=None, max_depth=None,\n",
       "              max_leaves=None, min_child_weight=None, missing=nan,\n",
       "              monotone_constraints=None, multi_strategy=None, n_estimators=None,\n",
       "              n_jobs=None, num_parallel_tree=None, random_state=42, ...)"
      ]
     },
     "execution_count": 87,
     "metadata": {},
     "output_type": "execute_result"
    }
   ],
   "source": [
    "smote = SMOTE(random_state=42)\n",
    "X_train_smote, y_train_smote = smote.fit_resample(X_train, y_train)\n",
    "\n",
    "xgb_model = XGBClassifier(\n",
    "    scale_pos_weight=scale_pos_weight,\n",
    "    eval_metric='logloss',\n",
    "    random_state=42\n",
    ")\n",
    "\n",
    "xgb_model.fit(X_train_smote, y_train_smote)"
   ]
  },
  {
   "cell_type": "code",
   "execution_count": 88,
   "metadata": {},
   "outputs": [],
   "source": [
    "y_pred = xgb_model.predict(X_test)\n",
    "y_pred_proba = xgb_model.predict_proba(X_test)[:, 1]"
   ]
  },
  {
   "cell_type": "code",
   "execution_count": 89,
   "metadata": {},
   "outputs": [
    {
     "name": "stdout",
     "output_type": "stream",
     "text": [
      "              precision    recall  f1-score   support\n",
      "\n",
      "           0       1.00      0.70      0.82    157907\n",
      "           1       0.05      0.86      0.10      3217\n",
      "\n",
      "    accuracy                           0.70    161124\n",
      "   macro avg       0.52      0.78      0.46    161124\n",
      "weighted avg       0.98      0.70      0.80    161124\n",
      "\n",
      "AUC-ROC: 0.8711350982908084\n",
      "AUC-PR: 0.22463149723154444\n"
     ]
    },
    {
     "data": {
      "image/png": "[encoded data removed]",
      "text/plain": [
       "<Figure size 640x480 with 1 Axes>"
      ]
     },
     "metadata": {},
     "output_type": "display_data"
    }
   ],
   "source": [
    "print(classification_report(y_test, y_pred))\n",
    "print(f\"AUC-ROC: {roc_auc_score(y_test, y_pred_proba)}\")\n",
    "print(\"AUC-PR:\", average_precision_score(y_test, y_pred_proba))\n",
    "\n",
    "precision, recall, _ = precision_recall_curve(y_test, y_pred_proba)\n",
    "plt.plot(recall, precision)\n",
    "plt.xlabel(\"Recall\")\n",
    "plt.ylabel(\"Precision\")\n",
    "plt.title(\"Precision-Recall Curve\")\n",
    "plt.show()"
   ]
  },
  {
   "cell_type": "markdown",
   "metadata": {},
   "source": [
    "- Recall: Catching 86% of the actual returns\n",
    "- Precision: Only 5% of the predictions labeled as “return” are actually returns - many false positives \n",
    "- F1: Balance between precision and recall is low - but that’s okay because your goal favors recall\n",
    "- AUC-ROC: Your model ranks returnable transactions well above non-returnables — strong general modeling ability\n",
    "- AUC-PR: Precision is low, especially when trying to keep recall high — expected when the positive class is super rare (~2%) but doing ~11× better than random, which is solid."
   ]
  },
  {
   "cell_type": "code",
   "execution_count": 90,
   "metadata": {},
   "outputs": [
    {
     "data": {
      "image/png": "[encoded data removed]",
      "text/plain": [
       "<Figure size 1000x600 with 1 Axes>"
      ]
     },
     "metadata": {},
     "output_type": "display_data"
    }
   ],
   "source": [
    "# Get feature importances (based on gain by default)\n",
    "importances = pd.Series(xgb_model.feature_importances_, index=X_train.columns)\n",
    "\n",
    "# Plot top features\n",
    "importances.sort_values(ascending=False).head(20).plot(kind='barh', figsize=(10, 6))\n",
    "plt.title(\"Top 20 Feature Importances (XGBoost)\")\n",
    "plt.xlabel(\"Importance Score\")\n",
    "plt.gca().invert_yaxis()\n",
    "plt.tight_layout()\n",
    "plt.show()\n"
   ]
  },
  {
   "cell_type": "code",
   "execution_count": 91,
   "metadata": {},
   "outputs": [
    {
     "data": {
      "text/plain": [
       "['xgb_1.pkl']"
      ]
     },
     "execution_count": 91,
     "metadata": {},
     "output_type": "execute_result"
    }
   ],
   "source": [
    "# Save the model\n",
    "joblib.dump(xgb_model, \"xgb_1.pkl\")\n",
    "# Load it later\n",
    "#loaded_model = joblib.load(\"xgb_1.pkl\")"
   ]
  },
  {
   "cell_type": "markdown",
   "metadata": {},
   "source": [
    "Don't use SMOTE only scale_pos_weight"
   ]
  },
  {
   "cell_type": "code",
   "execution_count": 92,
   "metadata": {},
   "outputs": [],
   "source": [
    "def execute_model(xgb_model, id, scale_pos_weight):\n",
    "    xgb_model = XGBClassifier(\n",
    "        scale_pos_weight=scale_pos_weight,\n",
    "        eval_metric='logloss',\n",
    "        random_state=42\n",
    "    )\n",
    "\n",
    "    xgb_model.fit(X_train, y_train)\n",
    "\n",
    "    y_pred = xgb_model.predict(X_test)\n",
    "    y_pred_proba = xgb_model.predict_proba(X_test)[:, 1]\n",
    "\n",
    "    print(classification_report(y_test, y_pred))\n",
    "    print(f\"AUC-ROC: {roc_auc_score(y_test, y_pred_proba)}\")\n",
    "    print(\"AUC-PR:\", average_precision_score(y_test, y_pred_proba))\n",
    "\n",
    "    precision, recall, _ = precision_recall_curve(y_test, y_pred_proba)\n",
    "    plt.plot(recall, precision)\n",
    "    plt.xlabel(\"Recall\")\n",
    "    plt.ylabel(\"Precision\")\n",
    "    plt.title(\"Precision-Recall Curve\")\n",
    "    plt.show()\n",
    "\n",
    "    # Save the model\n",
    "    joblib.dump(xgb_model, f\"xgb_{id}.pkl\")\n",
    "    \n",
    "    return xgb_model, y_pred, y_pred_proba"
   ]
  },
  {
   "cell_type": "code",
   "execution_count": 93,
   "metadata": {},
   "outputs": [
    {
     "name": "stdout",
     "output_type": "stream",
     "text": [
      "              precision    recall  f1-score   support\n",
      "\n",
      "           0       0.99      0.81      0.89    157907\n",
      "           1       0.08      0.79      0.14      3217\n",
      "\n",
      "    accuracy                           0.81    161124\n",
      "   macro avg       0.54      0.80      0.52    161124\n",
      "weighted avg       0.98      0.81      0.88    161124\n",
      "\n",
      "AUC-ROC: 0.8908735415436045\n",
      "AUC-PR: 0.24261133562512321\n"
     ]
    },
    {
     "data": {
      "image/png": "[encoded data removed]",
      "text/plain": [
       "<Figure size 640x480 with 1 Axes>"
      ]
     },
     "metadata": {},
     "output_type": "display_data"
    }
   ],
   "source": [
    "xgb_model_2, y_pred, y_pred_proba = execute_model(xgb_model,2, scale_pos_weight)"
   ]
  },
  {
   "cell_type": "code",
   "execution_count": 94,
   "metadata": {},
   "outputs": [],
   "source": [
    "# Top 5% Precision\n",
    "def precision_at_k(y_test, y_pred_custom, k_percent=0.05):\n",
    "    df_preds = pd.DataFrame({\n",
    "        'proba': y_pred_custom,         # predicted probabilities for class 1\n",
    "        'actual': y_test               # true labels (0 or 1)\n",
    "    })\n",
    "\n",
    "    # Sort by predicted probability descending (most return-like first)\n",
    "    df_preds = df_preds.sort_values(by='proba', ascending=False).reset_index(drop=True)\n",
    "\n",
    "    # Define Top-K% (e.g., top 5%)\n",
    "    K = int(len(df_preds) * k_percent)\n",
    "\n",
    "    # Slice top K rows\n",
    "    top_k = df_preds.iloc[:K]\n",
    "\n",
    "    # Calculate Top-K Precision\n",
    "    precision_at_k = top_k['actual'].sum() / K\n",
    "    print(f\"Top-{k_percent*100:.0f}% Precision: {precision_at_k:.4f}\")\n",
    "    return df_preds"
   ]
  },
  {
   "cell_type": "code",
   "execution_count": 95,
   "metadata": {},
   "outputs": [
    {
     "name": "stdout",
     "output_type": "stream",
     "text": [
      "Top-5% Precision: 0.1816\n"
     ]
    },
    {
     "data": {
      "image/png": "[encoded data removed]",
      "text/plain": [
       "<Figure size 640x480 with 1 Axes>"
      ]
     },
     "metadata": {},
     "output_type": "display_data"
    }
   ],
   "source": [
    "df_preds = precision_at_k(y_test, y_pred_proba, k_percent=0.05)\n",
    "\n",
    "ks = np.arange(0.01, 0.11, 0.01)  # from 1% to 10%\n",
    "precision_scores = []\n",
    "\n",
    "for k in ks:\n",
    "    K = int(len(df_preds) * k)\n",
    "    top_k = df_preds.iloc[:K]\n",
    "    precision = top_k['actual'].sum() / K\n",
    "    precision_scores.append(precision)\n",
    "\n",
    "plt.plot(ks * 100, precision_scores, marker='o')\n",
    "plt.title(\"Precision@Top-K%\")\n",
    "plt.xlabel(\"Top K% of transactions\")\n",
    "plt.ylabel(\"Precision\")\n",
    "plt.grid(True)\n",
    "plt.show()"
   ]
  },
  {
   "cell_type": "markdown",
   "metadata": {},
   "source": [
    "Among the top 5% most return-like transactions, 18% were actual returns, which is 9x better than your base return rate (~2%)."
   ]
  },
  {
   "cell_type": "markdown",
   "metadata": {},
   "source": [
    "Add a threshold for probability predictions."
   ]
  },
  {
   "cell_type": "code",
   "execution_count": 96,
   "metadata": {},
   "outputs": [
    {
     "name": "stdout",
     "output_type": "stream",
     "text": [
      "Best threshold: 0.874\n",
      "Precision: 0.265, Recall: 0.315, F1: 0.287\n"
     ]
    }
   ],
   "source": [
    "precision, recall, thresholds = precision_recall_curve(y_test, y_pred_proba)\n",
    "f1_scores = 2 * (precision * recall) / (precision + recall + 1e-6)  # Avoid divide-by-zero\n",
    "\n",
    "# Find the threshold that maximizes F1\n",
    "best_idx = np.argmax(f1_scores)\n",
    "best_threshold = thresholds[best_idx]\n",
    "\n",
    "print(f\"Best threshold: {best_threshold:.3f}\")\n",
    "print(f\"Precision: {precision[best_idx]:.3f}, Recall: {recall[best_idx]:.3f}, F1: {f1_scores[best_idx]:.3f}\")"
   ]
  },
  {
   "cell_type": "code",
   "execution_count": 97,
   "metadata": {},
   "outputs": [],
   "source": [
    "y_pred_custom = (y_pred_proba > best_threshold).astype(int)"
   ]
  },
  {
   "cell_type": "code",
   "execution_count": 98,
   "metadata": {},
   "outputs": [
    {
     "name": "stdout",
     "output_type": "stream",
     "text": [
      "              precision    recall  f1-score   support\n",
      "\n",
      "           0       0.99      0.98      0.98    157907\n",
      "           1       0.26      0.31      0.29      3217\n",
      "\n",
      "    accuracy                           0.97    161124\n",
      "   macro avg       0.63      0.65      0.64    161124\n",
      "weighted avg       0.97      0.97      0.97    161124\n",
      "\n",
      "AUC-ROC: 0.8908735415436045\n",
      "AUC-PR: 0.24261133562512321\n"
     ]
    }
   ],
   "source": [
    "print(classification_report(y_test, y_pred_custom))\n",
    "print(f\"AUC-ROC: {roc_auc_score(y_test, y_pred_proba)}\")\n",
    "print(\"AUC-PR:\", average_precision_score(y_test, y_pred_proba))"
   ]
  },
  {
   "cell_type": "code",
   "execution_count": 99,
   "metadata": {},
   "outputs": [
    {
     "name": "stdout",
     "output_type": "stream",
     "text": [
      "Top-5% Precision: 0.1329\n"
     ]
    }
   ],
   "source": [
    "df_preds = precision_at_k(y_test, y_pred_custom, k_percent=0.05)"
   ]
  },
  {
   "cell_type": "markdown",
   "metadata": {},
   "source": [
    "F1 and precision are the highest of the other iterations. However, recall is significantly lower. \n",
    "\n",
    "Try a lower threshold like 0.40 for higher recall. Default is 0.50."
   ]
  },
  {
   "cell_type": "code",
   "execution_count": 100,
   "metadata": {},
   "outputs": [
    {
     "name": "stdout",
     "output_type": "stream",
     "text": [
      "              precision    recall  f1-score   support\n",
      "\n",
      "           0       1.00      0.74      0.85    157907\n",
      "           1       0.06      0.86      0.12      3217\n",
      "\n",
      "    accuracy                           0.74    161124\n",
      "   macro avg       0.53      0.80      0.48    161124\n",
      "weighted avg       0.98      0.74      0.84    161124\n",
      "\n",
      "AUC-ROC: 0.8908735415436045\n",
      "AUC-PR: 0.24261133562512321\n"
     ]
    }
   ],
   "source": [
    "threshold = 0.4\n",
    "y_pred_custom_50 = (y_pred_proba > threshold).astype(int)\n",
    "\n",
    "def metric_result(y_pred_custom):\n",
    "    print(classification_report(y_test, y_pred_custom))\n",
    "    print(f\"AUC-ROC: {roc_auc_score(y_test, y_pred_proba)}\")\n",
    "    print(\"AUC-PR:\", average_precision_score(y_test, y_pred_proba))\n",
    "\n",
    "metric_result(y_pred_custom_50)"
   ]
  },
  {
   "cell_type": "code",
   "execution_count": 101,
   "metadata": {},
   "outputs": [
    {
     "name": "stdout",
     "output_type": "stream",
     "text": [
      "Top-5% Precision: 0.0616\n"
     ]
    }
   ],
   "source": [
    "df_preds = precision_at_k(y_test, y_pred_custom_50, k_percent=0.05)"
   ]
  },
  {
   "cell_type": "markdown",
   "metadata": {},
   "source": [
    "Model without scale_pos_weight for the imbalance."
   ]
  },
  {
   "cell_type": "code",
   "execution_count": 102,
   "metadata": {},
   "outputs": [
    {
     "name": "stdout",
     "output_type": "stream",
     "text": [
      "              precision    recall  f1-score   support\n",
      "\n",
      "           0       0.98      1.00      0.99    157907\n",
      "           1       0.00      0.00      0.00      3217\n",
      "\n",
      "    accuracy                           0.98    161124\n",
      "   macro avg       0.49      0.50      0.49    161124\n",
      "weighted avg       0.96      0.98      0.97    161124\n",
      "\n",
      "AUC-ROC: 0.5\n",
      "AUC-PR: 0.01996598892778233\n"
     ]
    },
    {
     "name": "stderr",
     "output_type": "stream",
     "text": [
      "/Library/Frameworks/Python.framework/Versions/3.13/lib/python3.13/site-packages/sklearn/metrics/_classification.py:1565: UndefinedMetricWarning: Precision is ill-defined and being set to 0.0 in labels with no predicted samples. Use `zero_division` parameter to control this behavior.\n",
      "  _warn_prf(average, modifier, f\"{metric.capitalize()} is\", len(result))\n",
      "/Library/Frameworks/Python.framework/Versions/3.13/lib/python3.13/site-packages/sklearn/metrics/_classification.py:1565: UndefinedMetricWarning: Precision is ill-defined and being set to 0.0 in labels with no predicted samples. Use `zero_division` parameter to control this behavior.\n",
      "  _warn_prf(average, modifier, f\"{metric.capitalize()} is\", len(result))\n",
      "/Library/Frameworks/Python.framework/Versions/3.13/lib/python3.13/site-packages/sklearn/metrics/_classification.py:1565: UndefinedMetricWarning: Precision is ill-defined and being set to 0.0 in labels with no predicted samples. Use `zero_division` parameter to control this behavior.\n",
      "  _warn_prf(average, modifier, f\"{metric.capitalize()} is\", len(result))\n"
     ]
    },
    {
     "data": {
      "image/png": "[encoded data removed]",
      "text/plain": [
       "<Figure size 640x480 with 1 Axes>"
      ]
     },
     "metadata": {},
     "output_type": "display_data"
    }
   ],
   "source": [
    "xgb_model_3, y_pred, y_pred_proba = execute_model(xgb_model,3, 0)"
   ]
  },
  {
   "cell_type": "markdown",
   "metadata": {},
   "source": [
    "With no scale_pos_weight, the model is basically guessing randomly."
   ]
  },
  {
   "cell_type": "markdown",
   "metadata": {},
   "source": [
    "Try with just SMOTE for helping the imbalance."
   ]
  },
  {
   "cell_type": "code",
   "execution_count": 103,
   "metadata": {},
   "outputs": [
    {
     "name": "stdout",
     "output_type": "stream",
     "text": [
      "              precision    recall  f1-score   support\n",
      "\n",
      "           0       0.99      0.98      0.98    157907\n",
      "           1       0.24      0.29      0.26      3217\n",
      "\n",
      "    accuracy                           0.97    161124\n",
      "   macro avg       0.61      0.64      0.62    161124\n",
      "weighted avg       0.97      0.97      0.97    161124\n",
      "\n",
      "AUC-ROC: 0.876464879298374\n",
      "AUC-PR: 0.23386136973973548\n"
     ]
    },
    {
     "data": {
      "image/png": "[encoded data removed]",
      "text/plain": [
       "<Figure size 640x480 with 1 Axes>"
      ]
     },
     "metadata": {},
     "output_type": "display_data"
    },
    {
     "data": {
      "text/plain": [
       "['xgb_4.pkl']"
      ]
     },
     "execution_count": 103,
     "metadata": {},
     "output_type": "execute_result"
    }
   ],
   "source": [
    "smote = SMOTE(random_state=42)\n",
    "X_train_smote, y_train_smote = smote.fit_resample(X_train, y_train)\n",
    "\n",
    "xgb_model = XGBClassifier(\n",
    "    eval_metric='logloss',\n",
    "    random_state=42\n",
    ")\n",
    "\n",
    "xgb_model.fit(X_train_smote, y_train_smote)\n",
    "\n",
    "y_pred = xgb_model.predict(X_test)\n",
    "y_pred_proba = xgb_model.predict_proba(X_test)[:, 1]\n",
    "\n",
    "print(classification_report(y_test, y_pred))\n",
    "print(f\"AUC-ROC: {roc_auc_score(y_test, y_pred_proba)}\")\n",
    "print(\"AUC-PR:\", average_precision_score(y_test, y_pred_proba))\n",
    "\n",
    "precision, recall, _ = precision_recall_curve(y_test, y_pred_proba)\n",
    "\n",
    "plt.plot(recall, precision)\n",
    "plt.xlabel(\"Recall\")\n",
    "plt.ylabel(\"Precision\")\n",
    "plt.title(\"Precision-Recall Curve\")\n",
    "plt.show()\n",
    "\n",
    "# Save the model\n",
    "joblib.dump(xgb_model, \"xgb_4.pkl\")\n"
   ]
  },
  {
   "cell_type": "markdown",
   "metadata": {},
   "source": [
    "#### Feature Importance using Model 2\n",
    "\n",
    "Model 2 gives better top-K precision, which reflects stronger signal in its features -- understand what drives confident return predictions"
   ]
  },
  {
   "cell_type": "code",
   "execution_count": 104,
   "metadata": {},
   "outputs": [],
   "source": [
    "model_2 = joblib.load(\"xgb_2.pkl\")\n",
    "\n",
    "# Initialize the TreeExplainer\n",
    "explainer = shap.Explainer(model_2)\n",
    "\n",
    "# Compute SHAP values\n",
    "shap_values = explainer(X_train)"
   ]
  },
  {
   "cell_type": "code",
   "execution_count": 105,
   "metadata": {},
   "outputs": [
    {
     "data": {
      "image/png": "[encoded data removed]",
      "text/plain": [
       "<Figure size 800x950 with 2 Axes>"
      ]
     },
     "metadata": {},
     "output_type": "display_data"
    }
   ],
   "source": [
    "# Summary plot - shows top features across the entire dataset\n",
    "shap.summary_plot(shap_values, X_train)"
   ]
  },
  {
   "cell_type": "markdown",
   "metadata": {},
   "source": [
    "A SHAP value shows how much a feature pushes a prediction higher or lower (toward predicting a return or not).\n",
    "- Values to the right (positive) increase the model’s predicted probability of a return.\n",
    "- Values to the left (negative) lower the probability of a return.\n",
    "\n",
    "CustomerReturnRate is the most important feature.\n",
    "- high values = strongly increase return prediction.\n",
    "\n",
    "CustomerNumOfReturns\n",
    "- high values = high return prediction\n",
    "- past returners are more likely to return again.\n",
    "\n",
    "TotalLineValue & Price\n",
    "- higher priced items = higher chance of return\n",
    "\n",
    "CustomerTotalSpend\n",
    "- lower total spend = higher return prediction\n",
    "- higher-value customers are less likely to return\n",
    "\n",
    "InvoiceMonth\n",
    "- some months are associated with higher return likelihood\n",
    "\n",
    "CustomerLoyaltySpan / OrdersPlaced / DaysActive\n",
    "- Longer relationship = less likely to return"
   ]
  },
  {
   "cell_type": "markdown",
   "metadata": {},
   "source": [
    "Return rates are lower toward the end of the year (Nov–Dec), then spike back in Jan"
   ]
  },
  {
   "cell_type": "code",
   "execution_count": 106,
   "metadata": {},
   "outputs": [
    {
     "data": {
      "image/png": "[encoded data removed]",
      "text/plain": [
       "<Figure size 1000x600 with 1 Axes>"
      ]
     },
     "metadata": {},
     "output_type": "display_data"
    }
   ],
   "source": [
    "# After computing SHAP values\n",
    "mean_abs_shap = np.abs(shap_values.values).mean(axis=0)\n",
    "sorted_shap = np.sort(mean_abs_shap)[::-1]\n",
    "cumulative = np.cumsum(sorted_shap) / np.sum(sorted_shap)\n",
    "\n",
    "plt.figure(figsize=(10, 6))\n",
    "plt.plot(np.arange(1, len(cumulative)+1), cumulative, marker='o')\n",
    "plt.axhline(y=0.95, color='red', linestyle='--', label='95% Threshold')\n",
    "plt.title(\"Cumulative SHAP Importance by Top-N Features\")\n",
    "plt.xlabel(\"Number of Top Features\")\n",
    "plt.ylabel(\"Cumulative SHAP Importance\")\n",
    "plt.grid(True)\n",
    "plt.legend()\n",
    "plt.tight_layout()\n",
    "plt.show()"
   ]
  },
  {
   "cell_type": "code",
   "execution_count": 107,
   "metadata": {},
   "outputs": [
    {
     "name": "stdout",
     "output_type": "stream",
     "text": [
      "Top 14 features capture 95% of SHAP importance\n"
     ]
    }
   ],
   "source": [
    "# Find the cutoff where 95% of SHAP importance is reached\n",
    "num_features = np.argmax(cumulative >= 0.95) + 1\n",
    "print(f\"Top {num_features} features capture 95% of SHAP importance\")"
   ]
  },
  {
   "cell_type": "markdown",
   "metadata": {},
   "source": [
    "14 features out of 72 "
   ]
  },
  {
   "cell_type": "code",
   "execution_count": 76,
   "metadata": {},
   "outputs": [],
   "source": [
    "def shap_reduce(id, num_features):\n",
    "    shap_importance = pd.DataFrame({\n",
    "        'Feature': X_train.columns,\n",
    "        'MeanAbsSHAP': mean_abs_shap\n",
    "    }).sort_values(by='MeanAbsSHAP', ascending=False)\n",
    "\n",
    "    # Get top features\n",
    "    top_features = shap_importance.head(num_features)['Feature'].tolist()\n",
    "    print(top_features)\n",
    "\n",
    "    # Filter training and test sets to top SHAP features\n",
    "    X_train_reduced = X_train[top_features]\n",
    "    X_test_reduced = X_test[top_features]\n",
    "\n",
    "    # Retrain\n",
    "    xgb_reduced = XGBClassifier(scale_pos_weight=scale_pos_weight,\n",
    "                                use_label_encoder=False,\n",
    "                                eval_metric='logloss',\n",
    "                                random_state=42)\n",
    "    xgb_reduced.fit(X_train_reduced, y_train)\n",
    "\n",
    "    y_pred = xgb_reduced.predict(X_test_reduced)\n",
    "    y_pred_proba = xgb_reduced.predict_proba(X_test_reduced)[:, 1]\n",
    "\n",
    "    print(classification_report(y_test, y_pred))\n",
    "    print(\"AUC-ROC:\", roc_auc_score(y_test, y_pred_proba))\n",
    "    print(\"AUC-PR:\", average_precision_score(y_test, y_pred_proba))\n",
    "\n",
    "    df_preds = precision_at_k(y_test, y_pred, k_percent=0.05)\n",
    "    \n",
    "    joblib.dump((xgb_reduced, top_features), f\"xgb_{id}.pkl\")"
   ]
  },
  {
   "cell_type": "code",
   "execution_count": 110,
   "metadata": {},
   "outputs": [
    {
     "name": "stdout",
     "output_type": "stream",
     "text": [
      "['CustomerReturnRate', 'CustomerNumOfReturns', 'TotalLineValue', 'Price', 'CustomerTotalSpend', 'Quantity', 'CustomerAvgSpend', 'InvoiceMonth_cos', 'CustomerTotalItems', 'InvoiceMonth_sin', 'CustomerOrdersPlaced', 'CustomerLoyaltySpan', 'CustomerAvgBasketSize', 'CustomerDaysActive']\n"
     ]
    },
    {
     "name": "stderr",
     "output_type": "stream",
     "text": [
      "/Library/Frameworks/Python.framework/Versions/3.13/lib/python3.13/site-packages/xgboost/core.py:158: UserWarning: [00:56:27] WARNING: /Users/runner/work/xgboost/xgboost/src/learner.cc:740: \n",
      "Parameters: { \"use_label_encoder\" } are not used.\n",
      "\n",
      "  warnings.warn(smsg, UserWarning)\n"
     ]
    },
    {
     "name": "stdout",
     "output_type": "stream",
     "text": [
      "              precision    recall  f1-score   support\n",
      "\n",
      "           0       0.99      0.80      0.89    157907\n",
      "           1       0.07      0.79      0.14      3217\n",
      "\n",
      "    accuracy                           0.80    161124\n",
      "   macro avg       0.53      0.80      0.51    161124\n",
      "weighted avg       0.98      0.80      0.87    161124\n",
      "\n",
      "AUC-ROC: 0.8874514714524512\n",
      "AUC-PR: 0.23608489817670353\n",
      "Top-5% Precision: 0.0740\n"
     ]
    }
   ],
   "source": [
    "shap_reduce(5, 14)"
   ]
  },
  {
   "cell_type": "code",
   "execution_count": 108,
   "metadata": {},
   "outputs": [
    {
     "name": "stdout",
     "output_type": "stream",
     "text": [
      "Top 17 features capture 98% of SHAP importance\n"
     ]
    }
   ],
   "source": [
    "# Find the cutoff where 98% of SHAP importance is reached\n",
    "num_features = np.argmax(cumulative >= 0.98) + 1\n",
    "print(f\"Top {num_features} features capture 98% of SHAP importance\")"
   ]
  },
  {
   "cell_type": "code",
   "execution_count": 109,
   "metadata": {},
   "outputs": [
    {
     "name": "stdout",
     "output_type": "stream",
     "text": [
      "['CustomerReturnRate', 'CustomerNumOfReturns', 'TotalLineValue', 'Price', 'CustomerTotalSpend', 'Quantity', 'CustomerAvgSpend', 'InvoiceMonth_cos', 'CustomerTotalItems', 'InvoiceMonth_sin', 'CustomerOrdersPlaced', 'CustomerLoyaltySpan', 'CustomerAvgBasketSize', 'CustomerDaysActive', 'InvoiceHour_sin', 'InvoiceDayOfWeek', 'InvoiceHour_cos']\n"
     ]
    },
    {
     "name": "stderr",
     "output_type": "stream",
     "text": [
      "/Library/Frameworks/Python.framework/Versions/3.13/lib/python3.13/site-packages/xgboost/core.py:158: UserWarning: [00:55:47] WARNING: /Users/runner/work/xgboost/xgboost/src/learner.cc:740: \n",
      "Parameters: { \"use_label_encoder\" } are not used.\n",
      "\n",
      "  warnings.warn(smsg, UserWarning)\n"
     ]
    },
    {
     "name": "stdout",
     "output_type": "stream",
     "text": [
      "              precision    recall  f1-score   support\n",
      "\n",
      "           0       0.99      0.81      0.89    157907\n",
      "           1       0.08      0.80      0.14      3217\n",
      "\n",
      "    accuracy                           0.81    161124\n",
      "   macro avg       0.54      0.80      0.52    161124\n",
      "weighted avg       0.98      0.81      0.88    161124\n",
      "\n",
      "AUC-ROC: 0.8911976867651757\n",
      "AUC-PR: 0.2496082482750146\n",
      "Top-5% Precision: 0.0755\n"
     ]
    }
   ],
   "source": [
    "shap_reduce(6, 17)"
   ]
  },
  {
   "cell_type": "code",
   "execution_count": 111,
   "metadata": {},
   "outputs": [],
   "source": [
    "# Combine X and y\n",
    "train_df = X_train.copy()\n",
    "train_df['target'] = y_train\n",
    "\n",
    "# Separate majority and minority classes\n",
    "df_majority = train_df[train_df['target'] == 0]\n",
    "df_minority = train_df[train_df['target'] == 1]\n",
    "\n",
    "# Undersample majority class\n",
    "df_majority_undersampled = resample(\n",
    "    df_majority,\n",
    "    replace=False,\n",
    "    n_samples=len(df_minority) * 3,  # Try 3:1 ratio\n",
    "    random_state=42\n",
    ")\n",
    "\n",
    "# Combine\n",
    "df_undersampled = pd.concat([df_majority_undersampled, df_minority])\n",
    "\n",
    "# Shuffle and split back into X and y\n",
    "X_train_under = df_undersampled.drop(columns='target')\n",
    "y_train_under = df_undersampled['target']\n"
   ]
  },
  {
   "cell_type": "code",
   "execution_count": 112,
   "metadata": {},
   "outputs": [
    {
     "name": "stdout",
     "output_type": "stream",
     "text": [
      "              precision    recall  f1-score   support\n",
      "\n",
      "           0       0.99      0.92      0.95    157907\n",
      "           1       0.13      0.59      0.21      3217\n",
      "\n",
      "    accuracy                           0.91    161124\n",
      "   macro avg       0.56      0.75      0.58    161124\n",
      "weighted avg       0.97      0.91      0.94    161124\n",
      "\n",
      "AUC-ROC: 0.8894769994022227\n",
      "AUC-PR: 0.22063791526010312\n",
      "Top-5% Precision: 0.1331\n"
     ]
    },
    {
     "data": {
      "image/png": "[encoded data removed]",
      "text/plain": [
       "<Figure size 640x480 with 1 Axes>"
      ]
     },
     "metadata": {},
     "output_type": "display_data"
    },
    {
     "data": {
      "text/plain": [
       "['xgb_7.pkl']"
      ]
     },
     "execution_count": 112,
     "metadata": {},
     "output_type": "execute_result"
    }
   ],
   "source": [
    "xgb_model = XGBClassifier(\n",
    "    eval_metric='logloss',\n",
    "    random_state=42\n",
    ")\n",
    "\n",
    "xgb_model.fit(X_train_under, y_train_under)\n",
    "\n",
    "y_pred = xgb_model.predict(X_test)\n",
    "y_pred_proba = xgb_model.predict_proba(X_test)[:, 1]\n",
    "\n",
    "print(classification_report(y_test, y_pred))\n",
    "print(f\"AUC-ROC: {roc_auc_score(y_test, y_pred_proba)}\")\n",
    "print(\"AUC-PR:\", average_precision_score(y_test, y_pred_proba))\n",
    "df_preds = precision_at_k(y_test, y_pred, k_percent=0.05)\n",
    "\n",
    "precision, recall, _ = precision_recall_curve(y_test, y_pred_proba)\n",
    "\n",
    "plt.plot(recall, precision)\n",
    "plt.xlabel(\"Recall\")\n",
    "plt.ylabel(\"Precision\")\n",
    "plt.title(\"Precision-Recall Curve\")\n",
    "plt.show()\n",
    "\n",
    "# Save the model\n",
    "joblib.dump(xgb_model, \"xgb_7.pkl\")\n"
   ]
  },
  {
   "cell_type": "code",
   "execution_count": 113,
   "metadata": {},
   "outputs": [
    {
     "name": "stdout",
     "output_type": "stream",
     "text": [
      "scale_pos_weight: 3.00\n"
     ]
    }
   ],
   "source": [
    "# weight ratio between the majority class (non-returns) and the minority class (returns) in the training data.\n",
    "scale_pos_weight_under = (y_train_under == 0).sum() / (y_train_under == 1).sum()\n",
    "print(f\"scale_pos_weight: {scale_pos_weight_under:.2f}\")"
   ]
  },
  {
   "cell_type": "code",
   "execution_count": 114,
   "metadata": {},
   "outputs": [
    {
     "name": "stderr",
     "output_type": "stream",
     "text": [
      "/Library/Frameworks/Python.framework/Versions/3.13/lib/python3.13/site-packages/xgboost/core.py:158: UserWarning: [00:57:34] WARNING: /Users/runner/work/xgboost/xgboost/src/learner.cc:740: \n",
      "Parameters: { \"use_label_encoder\" } are not used.\n",
      "\n",
      "  warnings.warn(smsg, UserWarning)\n"
     ]
    },
    {
     "name": "stdout",
     "output_type": "stream",
     "text": [
      "              precision    recall  f1-score   support\n",
      "\n",
      "           0       0.99      0.79      0.88    157907\n",
      "           1       0.07      0.80      0.13      3217\n",
      "\n",
      "    accuracy                           0.79    161124\n",
      "   macro avg       0.53      0.80      0.51    161124\n",
      "weighted avg       0.98      0.79      0.87    161124\n",
      "\n",
      "AUC-ROC: 0.888298612527582\n",
      "AUC-PR: 0.22059852138750474\n",
      "Top-5% Precision: 0.0722\n"
     ]
    },
    {
     "data": {
      "image/png": "[encoded data removed]",
      "text/plain": [
       "<Figure size 640x480 with 1 Axes>"
      ]
     },
     "metadata": {},
     "output_type": "display_data"
    },
    {
     "data": {
      "text/plain": [
       "['xgb_8.pkl']"
      ]
     },
     "execution_count": 114,
     "metadata": {},
     "output_type": "execute_result"
    }
   ],
   "source": [
    "xgb_model = XGBClassifier(\n",
    "    use_label_encoder=False,\n",
    "    scale_pos_weight=scale_pos_weight_under,\n",
    "    eval_metric='logloss',\n",
    "    random_state=42\n",
    ")\n",
    "\n",
    "xgb_model.fit(X_train_under, y_train_under)\n",
    "\n",
    "y_pred = xgb_model.predict(X_test)\n",
    "y_pred_proba = xgb_model.predict_proba(X_test)[:, 1]\n",
    "\n",
    "print(classification_report(y_test, y_pred))\n",
    "print(f\"AUC-ROC: {roc_auc_score(y_test, y_pred_proba)}\")\n",
    "print(\"AUC-PR:\", average_precision_score(y_test, y_pred_proba))\n",
    "df_preds = precision_at_k(y_test, y_pred, k_percent=0.05)\n",
    "\n",
    "precision, recall, _ = precision_recall_curve(y_test, y_pred_proba)\n",
    "\n",
    "plt.plot(recall, precision)\n",
    "plt.xlabel(\"Recall\")\n",
    "plt.ylabel(\"Precision\")\n",
    "plt.title(\"Precision-Recall Curve\")\n",
    "plt.show()\n",
    "\n",
    "# Save the model\n",
    "joblib.dump(xgb_model, \"xgb_8.pkl\")"
   ]
  },
  {
   "cell_type": "code",
   "execution_count": 115,
   "metadata": {},
   "outputs": [
    {
     "name": "stdout",
     "output_type": "stream",
     "text": [
      "              precision    recall  f1-score   support\n",
      "\n",
      "           0       0.99      0.90      0.94    157907\n",
      "           1       0.11      0.64      0.19      3217\n",
      "\n",
      "    accuracy                           0.89    161124\n",
      "   macro avg       0.55      0.77      0.57    161124\n",
      "weighted avg       0.97      0.89      0.93    161124\n",
      "\n",
      "AUC-ROC: 0.8894163954675368\n",
      "AUC-PR: 0.22593907640868965\n",
      "Top-5% Precision: 0.1133\n"
     ]
    },
    {
     "data": {
      "image/png": "[encoded data removed]",
      "text/plain": [
       "<Figure size 640x480 with 1 Axes>"
      ]
     },
     "metadata": {},
     "output_type": "display_data"
    },
    {
     "data": {
      "text/plain": [
       "['xgb_9.pkl']"
      ]
     },
     "execution_count": 115,
     "metadata": {},
     "output_type": "execute_result"
    }
   ],
   "source": [
    "smote = SMOTE(random_state=42)\n",
    "X_train_smote, y_train_smote = smote.fit_resample(X_train_under, y_train_under)\n",
    "\n",
    "xgb_model = XGBClassifier(\n",
    "    eval_metric='logloss',\n",
    "    random_state=42\n",
    ")\n",
    "\n",
    "xgb_model.fit(X_train_smote, y_train_smote)\n",
    "\n",
    "y_pred = xgb_model.predict(X_test)\n",
    "y_pred_proba = xgb_model.predict_proba(X_test)[:, 1]\n",
    "\n",
    "print(classification_report(y_test, y_pred))\n",
    "print(f\"AUC-ROC: {roc_auc_score(y_test, y_pred_proba)}\")\n",
    "print(\"AUC-PR:\", average_precision_score(y_test, y_pred_proba))\n",
    "df_preds = precision_at_k(y_test, y_pred, k_percent=0.05)\n",
    "\n",
    "precision, recall, _ = precision_recall_curve(y_test, y_pred_proba)\n",
    "\n",
    "plt.plot(recall, precision)\n",
    "plt.xlabel(\"Recall\")\n",
    "plt.ylabel(\"Precision\")\n",
    "plt.title(\"Precision-Recall Curve\")\n",
    "plt.show()\n",
    "\n",
    "# Save the model\n",
    "joblib.dump(xgb_model, \"xgb_9.pkl\")"
   ]
  },
  {
   "cell_type": "code",
   "execution_count": 116,
   "metadata": {},
   "outputs": [
    {
     "data": {
      "text/plain": [
       "['CustomerReturnRate',\n",
       " 'CustomerNumOfReturns',\n",
       " 'TotalLineValue',\n",
       " 'Price',\n",
       " 'CustomerTotalSpend',\n",
       " 'Quantity',\n",
       " 'CustomerAvgSpend',\n",
       " 'InvoiceMonth_cos',\n",
       " 'CustomerTotalItems',\n",
       " 'InvoiceMonth_sin',\n",
       " 'CustomerOrdersPlaced',\n",
       " 'CustomerLoyaltySpan',\n",
       " 'CustomerAvgBasketSize',\n",
       " 'CustomerDaysActive']"
      ]
     },
     "execution_count": 116,
     "metadata": {},
     "output_type": "execute_result"
    }
   ],
   "source": [
    "xgb_model, top_features = load(\"xgb_5.pkl\")\n",
    "top_features"
   ]
  },
  {
   "cell_type": "code",
   "execution_count": 117,
   "metadata": {},
   "outputs": [
    {
     "name": "stdout",
     "output_type": "stream",
     "text": [
      "              precision    recall  f1-score   support\n",
      "\n",
      "           0       0.99      0.80      0.89    157907\n",
      "           1       0.07      0.79      0.14      3217\n",
      "\n",
      "    accuracy                           0.80    161124\n",
      "   macro avg       0.53      0.80      0.51    161124\n",
      "weighted avg       0.98      0.80      0.87    161124\n",
      "\n",
      "AUC-ROC: 0.8874514714524512\n",
      "AUC-PR: 0.23608489817670353\n",
      "Top-5% Precision: 0.0740\n"
     ]
    }
   ],
   "source": [
    "X_test_reduced = X_test[top_features]\n",
    "y_pred = xgb_model.predict(X_test_reduced)\n",
    "y_pred_proba = xgb_model.predict_proba(X_test_reduced)[:, 1]\n",
    "\n",
    "print(classification_report(y_test, y_pred))\n",
    "print(f\"AUC-ROC: {roc_auc_score(y_test, y_pred_proba)}\")\n",
    "print(\"AUC-PR:\", average_precision_score(y_test, y_pred_proba))\n",
    "df_preds = precision_at_k(y_test, y_pred, k_percent=0.05)"
   ]
  },
  {
   "cell_type": "code",
   "execution_count": 118,
   "metadata": {},
   "outputs": [
    {
     "name": "stdout",
     "output_type": "stream",
     "text": [
      "              precision    recall  f1-score   support\n",
      "\n",
      "           0       1.00      0.73      0.84    157907\n",
      "           1       0.06      0.86      0.12      3217\n",
      "\n",
      "    accuracy                           0.73    161124\n",
      "   macro avg       0.53      0.80      0.48    161124\n",
      "weighted avg       0.98      0.73      0.83    161124\n",
      "\n",
      "Top-5% Precision: 0.0605\n"
     ]
    }
   ],
   "source": [
    "threshold = 0.4\n",
    "y_pred_custom = (y_pred_proba > threshold).astype(int)\n",
    "print(classification_report(y_test, y_pred_custom))\n",
    "df_preds = precision_at_k(y_test, y_pred_custom, k_percent=0.05)"
   ]
  },
  {
   "cell_type": "markdown",
   "metadata": {},
   "source": [
    "Go with Model 5 (ID 7) - 12 features modeled after Model 2.\n",
    "- Good recall - catching most returns\n",
    "- Decent precision (0.07) — better than random (baseline is 2%)\n",
    "- Top-5% precision is stronger (0.0744) than threshold = 0.4\n",
    "- 12 SHAP features — simpler, faster, more interpretable"
   ]
  },
  {
   "cell_type": "markdown",
   "metadata": {},
   "source": [
    "#### Tune hyperparameters"
   ]
  },
  {
   "cell_type": "code",
   "execution_count": 119,
   "metadata": {},
   "outputs": [],
   "source": [
    "xgb_model, top_features = joblib.load(\"xgb_5.pkl\")  # ID 7 model\n",
    "X_train = X_train[top_features]\n",
    "X_test = X_test[top_features]"
   ]
  },
  {
   "cell_type": "code",
   "execution_count": 120,
   "metadata": {},
   "outputs": [
    {
     "name": "stdout",
     "output_type": "stream",
     "text": [
      "Fitting 5 folds for each of 20 candidates, totalling 100 fits\n"
     ]
    },
    {
     "name": "stderr",
     "output_type": "stream",
     "text": [
      "/Library/Frameworks/Python.framework/Versions/3.13/lib/python3.13/site-packages/xgboost/core.py:158: UserWarning: [01:00:47] WARNING: /Users/runner/work/xgboost/xgboost/src/learner.cc:740: \n",
      "Parameters: { \"use_label_encoder\" } are not used.\n",
      "\n",
      "  warnings.warn(smsg, UserWarning)\n",
      "/Library/Frameworks/Python.framework/Versions/3.13/lib/python3.13/site-packages/xgboost/core.py:158: UserWarning: [01:00:47] WARNING: /Users/runner/work/xgboost/xgboost/src/learner.cc:740: \n",
      "Parameters: { \"use_label_encoder\" } are not used.\n",
      "\n",
      "  warnings.warn(smsg, UserWarning)\n",
      "/Library/Frameworks/Python.framework/Versions/3.13/lib/python3.13/site-packages/xgboost/core.py:158: UserWarning: [01:00:47] WARNING: /Users/runner/work/xgboost/xgboost/src/learner.cc:740: \n",
      "Parameters: { \"use_label_encoder\" } are not used.\n",
      "\n",
      "  warnings.warn(smsg, UserWarning)\n",
      "/Library/Frameworks/Python.framework/Versions/3.13/lib/python3.13/site-packages/xgboost/core.py:158: UserWarning: [01:00:47] WARNING: /Users/runner/work/xgboost/xgboost/src/learner.cc:740: \n",
      "Parameters: { \"use_label_encoder\" } are not used.\n",
      "\n",
      "  warnings.warn(smsg, UserWarning)\n",
      "/Library/Frameworks/Python.framework/Versions/3.13/lib/python3.13/site-packages/xgboost/core.py:158: UserWarning: [01:00:47] WARNING: /Users/runner/work/xgboost/xgboost/src/learner.cc:740: \n",
      "Parameters: { \"use_label_encoder\" } are not used.\n",
      "\n",
      "  warnings.warn(smsg, UserWarning)\n",
      "/Library/Frameworks/Python.framework/Versions/3.13/lib/python3.13/site-packages/xgboost/core.py:158: UserWarning: [01:00:47] WARNING: /Users/runner/work/xgboost/xgboost/src/learner.cc:740: \n",
      "Parameters: { \"use_label_encoder\" } are not used.\n",
      "\n",
      "  warnings.warn(smsg, UserWarning)\n",
      "/Library/Frameworks/Python.framework/Versions/3.13/lib/python3.13/site-packages/xgboost/core.py:158: UserWarning: [01:00:47] WARNING: /Users/runner/work/xgboost/xgboost/src/learner.cc:740: \n",
      "Parameters: { \"use_label_encoder\" } are not used.\n",
      "\n",
      "  warnings.warn(smsg, UserWarning)\n",
      "/Library/Frameworks/Python.framework/Versions/3.13/lib/python3.13/site-packages/xgboost/core.py:158: UserWarning: [01:00:47] WARNING: /Users/runner/work/xgboost/xgboost/src/learner.cc:740: \n",
      "Parameters: { \"use_label_encoder\" } are not used.\n",
      "\n",
      "  warnings.warn(smsg, UserWarning)\n",
      "/Library/Frameworks/Python.framework/Versions/3.13/lib/python3.13/site-packages/xgboost/core.py:158: UserWarning: [01:00:59] WARNING: /Users/runner/work/xgboost/xgboost/src/learner.cc:740: \n",
      "Parameters: { \"use_label_encoder\" } are not used.\n",
      "\n",
      "  warnings.warn(smsg, UserWarning)\n",
      "/Library/Frameworks/Python.framework/Versions/3.13/lib/python3.13/site-packages/xgboost/core.py:158: UserWarning: [01:00:59] WARNING: /Users/runner/work/xgboost/xgboost/src/learner.cc:740: \n",
      "Parameters: { \"use_label_encoder\" } are not used.\n",
      "\n",
      "  warnings.warn(smsg, UserWarning)\n",
      "/Library/Frameworks/Python.framework/Versions/3.13/lib/python3.13/site-packages/xgboost/core.py:158: UserWarning: [01:00:59] WARNING: /Users/runner/work/xgboost/xgboost/src/learner.cc:740: \n",
      "Parameters: { \"use_label_encoder\" } are not used.\n",
      "\n",
      "  warnings.warn(smsg, UserWarning)\n",
      "/Library/Frameworks/Python.framework/Versions/3.13/lib/python3.13/site-packages/xgboost/core.py:158: UserWarning: [01:01:00] WARNING: /Users/runner/work/xgboost/xgboost/src/learner.cc:740: \n",
      "Parameters: { \"use_label_encoder\" } are not used.\n",
      "\n",
      "  warnings.warn(smsg, UserWarning)\n",
      "/Library/Frameworks/Python.framework/Versions/3.13/lib/python3.13/site-packages/xgboost/core.py:158: UserWarning: [01:01:00] WARNING: /Users/runner/work/xgboost/xgboost/src/learner.cc:740: \n",
      "Parameters: { \"use_label_encoder\" } are not used.\n",
      "\n",
      "  warnings.warn(smsg, UserWarning)\n",
      "/Library/Frameworks/Python.framework/Versions/3.13/lib/python3.13/site-packages/xgboost/core.py:158: UserWarning: [01:01:00] WARNING: /Users/runner/work/xgboost/xgboost/src/learner.cc:740: \n",
      "Parameters: { \"use_label_encoder\" } are not used.\n",
      "\n",
      "  warnings.warn(smsg, UserWarning)\n",
      "/Library/Frameworks/Python.framework/Versions/3.13/lib/python3.13/site-packages/xgboost/core.py:158: UserWarning: [01:01:00] WARNING: /Users/runner/work/xgboost/xgboost/src/learner.cc:740: \n",
      "Parameters: { \"use_label_encoder\" } are not used.\n",
      "\n",
      "  warnings.warn(smsg, UserWarning)\n",
      "/Library/Frameworks/Python.framework/Versions/3.13/lib/python3.13/site-packages/xgboost/core.py:158: UserWarning: [01:01:00] WARNING: /Users/runner/work/xgboost/xgboost/src/learner.cc:740: \n",
      "Parameters: { \"use_label_encoder\" } are not used.\n",
      "\n",
      "  warnings.warn(smsg, UserWarning)\n",
      "/Library/Frameworks/Python.framework/Versions/3.13/lib/python3.13/site-packages/xgboost/core.py:158: UserWarning: [01:01:03] WARNING: /Users/runner/work/xgboost/xgboost/src/learner.cc:740: \n",
      "Parameters: { \"use_label_encoder\" } are not used.\n",
      "\n",
      "  warnings.warn(smsg, UserWarning)\n",
      "/Library/Frameworks/Python.framework/Versions/3.13/lib/python3.13/site-packages/xgboost/core.py:158: UserWarning: [01:01:04] WARNING: /Users/runner/work/xgboost/xgboost/src/learner.cc:740: \n",
      "Parameters: { \"use_label_encoder\" } are not used.\n",
      "\n",
      "  warnings.warn(smsg, UserWarning)\n",
      "/Library/Frameworks/Python.framework/Versions/3.13/lib/python3.13/site-packages/xgboost/core.py:158: UserWarning: [01:01:04] WARNING: /Users/runner/work/xgboost/xgboost/src/learner.cc:740: \n",
      "Parameters: { \"use_label_encoder\" } are not used.\n",
      "\n",
      "  warnings.warn(smsg, UserWarning)\n",
      "/Library/Frameworks/Python.framework/Versions/3.13/lib/python3.13/site-packages/xgboost/core.py:158: UserWarning: [01:01:04] WARNING: /Users/runner/work/xgboost/xgboost/src/learner.cc:740: \n",
      "Parameters: { \"use_label_encoder\" } are not used.\n",
      "\n",
      "  warnings.warn(smsg, UserWarning)\n",
      "/Library/Frameworks/Python.framework/Versions/3.13/lib/python3.13/site-packages/xgboost/core.py:158: UserWarning: [01:01:04] WARNING: /Users/runner/work/xgboost/xgboost/src/learner.cc:740: \n",
      "Parameters: { \"use_label_encoder\" } are not used.\n",
      "\n",
      "  warnings.warn(smsg, UserWarning)\n",
      "/Library/Frameworks/Python.framework/Versions/3.13/lib/python3.13/site-packages/xgboost/core.py:158: UserWarning: [01:01:04] WARNING: /Users/runner/work/xgboost/xgboost/src/learner.cc:740: \n",
      "Parameters: { \"use_label_encoder\" } are not used.\n",
      "\n",
      "  warnings.warn(smsg, UserWarning)\n",
      "/Library/Frameworks/Python.framework/Versions/3.13/lib/python3.13/site-packages/xgboost/core.py:158: UserWarning: [01:01:07] WARNING: /Users/runner/work/xgboost/xgboost/src/learner.cc:740: \n",
      "Parameters: { \"use_label_encoder\" } are not used.\n",
      "\n",
      "  warnings.warn(smsg, UserWarning)\n",
      "/Library/Frameworks/Python.framework/Versions/3.13/lib/python3.13/site-packages/xgboost/core.py:158: UserWarning: [01:01:07] WARNING: /Users/runner/work/xgboost/xgboost/src/learner.cc:740: \n",
      "Parameters: { \"use_label_encoder\" } are not used.\n",
      "\n",
      "  warnings.warn(smsg, UserWarning)\n",
      "/Library/Frameworks/Python.framework/Versions/3.13/lib/python3.13/site-packages/xgboost/core.py:158: UserWarning: [01:01:07] WARNING: /Users/runner/work/xgboost/xgboost/src/learner.cc:740: \n",
      "Parameters: { \"use_label_encoder\" } are not used.\n",
      "\n",
      "  warnings.warn(smsg, UserWarning)\n",
      "/Library/Frameworks/Python.framework/Versions/3.13/lib/python3.13/site-packages/xgboost/core.py:158: UserWarning: [01:01:07] WARNING: /Users/runner/work/xgboost/xgboost/src/learner.cc:740: \n",
      "Parameters: { \"use_label_encoder\" } are not used.\n",
      "\n",
      "  warnings.warn(smsg, UserWarning)\n",
      "/Library/Frameworks/Python.framework/Versions/3.13/lib/python3.13/site-packages/xgboost/core.py:158: UserWarning: [01:01:11] WARNING: /Users/runner/work/xgboost/xgboost/src/learner.cc:740: \n",
      "Parameters: { \"use_label_encoder\" } are not used.\n",
      "\n",
      "  warnings.warn(smsg, UserWarning)\n",
      "/Library/Frameworks/Python.framework/Versions/3.13/lib/python3.13/site-packages/xgboost/core.py:158: UserWarning: [01:01:11] WARNING: /Users/runner/work/xgboost/xgboost/src/learner.cc:740: \n",
      "Parameters: { \"use_label_encoder\" } are not used.\n",
      "\n",
      "  warnings.warn(smsg, UserWarning)\n",
      "/Library/Frameworks/Python.framework/Versions/3.13/lib/python3.13/site-packages/xgboost/core.py:158: UserWarning: [01:01:12] WARNING: /Users/runner/work/xgboost/xgboost/src/learner.cc:740: \n",
      "Parameters: { \"use_label_encoder\" } are not used.\n",
      "\n",
      "  warnings.warn(smsg, UserWarning)\n",
      "/Library/Frameworks/Python.framework/Versions/3.13/lib/python3.13/site-packages/xgboost/core.py:158: UserWarning: [01:01:12] WARNING: /Users/runner/work/xgboost/xgboost/src/learner.cc:740: \n",
      "Parameters: { \"use_label_encoder\" } are not used.\n",
      "\n",
      "  warnings.warn(smsg, UserWarning)\n",
      "/Library/Frameworks/Python.framework/Versions/3.13/lib/python3.13/site-packages/xgboost/core.py:158: UserWarning: [01:01:12] WARNING: /Users/runner/work/xgboost/xgboost/src/learner.cc:740: \n",
      "Parameters: { \"use_label_encoder\" } are not used.\n",
      "\n",
      "  warnings.warn(smsg, UserWarning)\n",
      "/Library/Frameworks/Python.framework/Versions/3.13/lib/python3.13/site-packages/xgboost/core.py:158: UserWarning: [01:01:15] WARNING: /Users/runner/work/xgboost/xgboost/src/learner.cc:740: \n",
      "Parameters: { \"use_label_encoder\" } are not used.\n",
      "\n",
      "  warnings.warn(smsg, UserWarning)\n",
      "/Library/Frameworks/Python.framework/Versions/3.13/lib/python3.13/site-packages/xgboost/core.py:158: UserWarning: [01:01:15] WARNING: /Users/runner/work/xgboost/xgboost/src/learner.cc:740: \n",
      "Parameters: { \"use_label_encoder\" } are not used.\n",
      "\n",
      "  warnings.warn(smsg, UserWarning)\n",
      "/Library/Frameworks/Python.framework/Versions/3.13/lib/python3.13/site-packages/xgboost/core.py:158: UserWarning: [01:01:15] WARNING: /Users/runner/work/xgboost/xgboost/src/learner.cc:740: \n",
      "Parameters: { \"use_label_encoder\" } are not used.\n",
      "\n",
      "  warnings.warn(smsg, UserWarning)\n",
      "/Library/Frameworks/Python.framework/Versions/3.13/lib/python3.13/site-packages/xgboost/core.py:158: UserWarning: [01:01:15] WARNING: /Users/runner/work/xgboost/xgboost/src/learner.cc:740: \n",
      "Parameters: { \"use_label_encoder\" } are not used.\n",
      "\n",
      "  warnings.warn(smsg, UserWarning)\n",
      "/Library/Frameworks/Python.framework/Versions/3.13/lib/python3.13/site-packages/xgboost/core.py:158: UserWarning: [01:01:15] WARNING: /Users/runner/work/xgboost/xgboost/src/learner.cc:740: \n",
      "Parameters: { \"use_label_encoder\" } are not used.\n",
      "\n",
      "  warnings.warn(smsg, UserWarning)\n",
      "/Library/Frameworks/Python.framework/Versions/3.13/lib/python3.13/site-packages/xgboost/core.py:158: UserWarning: [01:01:16] WARNING: /Users/runner/work/xgboost/xgboost/src/learner.cc:740: \n",
      "Parameters: { \"use_label_encoder\" } are not used.\n",
      "\n",
      "  warnings.warn(smsg, UserWarning)\n",
      "/Library/Frameworks/Python.framework/Versions/3.13/lib/python3.13/site-packages/xgboost/core.py:158: UserWarning: [01:01:16] WARNING: /Users/runner/work/xgboost/xgboost/src/learner.cc:740: \n",
      "Parameters: { \"use_label_encoder\" } are not used.\n",
      "\n",
      "  warnings.warn(smsg, UserWarning)\n",
      "/Library/Frameworks/Python.framework/Versions/3.13/lib/python3.13/site-packages/xgboost/core.py:158: UserWarning: [01:01:17] WARNING: /Users/runner/work/xgboost/xgboost/src/learner.cc:740: \n",
      "Parameters: { \"use_label_encoder\" } are not used.\n",
      "\n",
      "  warnings.warn(smsg, UserWarning)\n",
      "/Library/Frameworks/Python.framework/Versions/3.13/lib/python3.13/site-packages/xgboost/core.py:158: UserWarning: [01:01:20] WARNING: /Users/runner/work/xgboost/xgboost/src/learner.cc:740: \n",
      "Parameters: { \"use_label_encoder\" } are not used.\n",
      "\n",
      "  warnings.warn(smsg, UserWarning)\n",
      "/Library/Frameworks/Python.framework/Versions/3.13/lib/python3.13/site-packages/xgboost/core.py:158: UserWarning: [01:01:20] WARNING: /Users/runner/work/xgboost/xgboost/src/learner.cc:740: \n",
      "Parameters: { \"use_label_encoder\" } are not used.\n",
      "\n",
      "  warnings.warn(smsg, UserWarning)\n",
      "/Library/Frameworks/Python.framework/Versions/3.13/lib/python3.13/site-packages/xgboost/core.py:158: UserWarning: [01:01:20] WARNING: /Users/runner/work/xgboost/xgboost/src/learner.cc:740: \n",
      "Parameters: { \"use_label_encoder\" } are not used.\n",
      "\n",
      "  warnings.warn(smsg, UserWarning)\n",
      "/Library/Frameworks/Python.framework/Versions/3.13/lib/python3.13/site-packages/xgboost/core.py:158: UserWarning: [01:01:20] WARNING: /Users/runner/work/xgboost/xgboost/src/learner.cc:740: \n",
      "Parameters: { \"use_label_encoder\" } are not used.\n",
      "\n",
      "  warnings.warn(smsg, UserWarning)\n",
      "/Library/Frameworks/Python.framework/Versions/3.13/lib/python3.13/site-packages/xgboost/core.py:158: UserWarning: [01:01:25] WARNING: /Users/runner/work/xgboost/xgboost/src/learner.cc:740: \n",
      "Parameters: { \"use_label_encoder\" } are not used.\n",
      "\n",
      "  warnings.warn(smsg, UserWarning)\n",
      "/Library/Frameworks/Python.framework/Versions/3.13/lib/python3.13/site-packages/xgboost/core.py:158: UserWarning: [01:01:25] WARNING: /Users/runner/work/xgboost/xgboost/src/learner.cc:740: \n",
      "Parameters: { \"use_label_encoder\" } are not used.\n",
      "\n",
      "  warnings.warn(smsg, UserWarning)\n",
      "/Library/Frameworks/Python.framework/Versions/3.13/lib/python3.13/site-packages/xgboost/core.py:158: UserWarning: [01:01:25] WARNING: /Users/runner/work/xgboost/xgboost/src/learner.cc:740: \n",
      "Parameters: { \"use_label_encoder\" } are not used.\n",
      "\n",
      "  warnings.warn(smsg, UserWarning)\n",
      "/Library/Frameworks/Python.framework/Versions/3.13/lib/python3.13/site-packages/xgboost/core.py:158: UserWarning: [01:01:29] WARNING: /Users/runner/work/xgboost/xgboost/src/learner.cc:740: \n",
      "Parameters: { \"use_label_encoder\" } are not used.\n",
      "\n",
      "  warnings.warn(smsg, UserWarning)\n",
      "/Library/Frameworks/Python.framework/Versions/3.13/lib/python3.13/site-packages/xgboost/core.py:158: UserWarning: [01:01:29] WARNING: /Users/runner/work/xgboost/xgboost/src/learner.cc:740: \n",
      "Parameters: { \"use_label_encoder\" } are not used.\n",
      "\n",
      "  warnings.warn(smsg, UserWarning)\n",
      "/Library/Frameworks/Python.framework/Versions/3.13/lib/python3.13/site-packages/xgboost/core.py:158: UserWarning: [01:01:39] WARNING: /Users/runner/work/xgboost/xgboost/src/learner.cc:740: \n",
      "Parameters: { \"use_label_encoder\" } are not used.\n",
      "\n",
      "  warnings.warn(smsg, UserWarning)\n",
      "/Library/Frameworks/Python.framework/Versions/3.13/lib/python3.13/site-packages/xgboost/core.py:158: UserWarning: [01:01:39] WARNING: /Users/runner/work/xgboost/xgboost/src/learner.cc:740: \n",
      "Parameters: { \"use_label_encoder\" } are not used.\n",
      "\n",
      "  warnings.warn(smsg, UserWarning)\n",
      "/Library/Frameworks/Python.framework/Versions/3.13/lib/python3.13/site-packages/xgboost/core.py:158: UserWarning: [01:01:40] WARNING: /Users/runner/work/xgboost/xgboost/src/learner.cc:740: \n",
      "Parameters: { \"use_label_encoder\" } are not used.\n",
      "\n",
      "  warnings.warn(smsg, UserWarning)\n",
      "/Library/Frameworks/Python.framework/Versions/3.13/lib/python3.13/site-packages/xgboost/core.py:158: UserWarning: [01:01:40] WARNING: /Users/runner/work/xgboost/xgboost/src/learner.cc:740: \n",
      "Parameters: { \"use_label_encoder\" } are not used.\n",
      "\n",
      "  warnings.warn(smsg, UserWarning)\n",
      "/Library/Frameworks/Python.framework/Versions/3.13/lib/python3.13/site-packages/xgboost/core.py:158: UserWarning: [01:01:41] WARNING: /Users/runner/work/xgboost/xgboost/src/learner.cc:740: \n",
      "Parameters: { \"use_label_encoder\" } are not used.\n",
      "\n",
      "  warnings.warn(smsg, UserWarning)\n",
      "/Library/Frameworks/Python.framework/Versions/3.13/lib/python3.13/site-packages/xgboost/core.py:158: UserWarning: [01:01:43] WARNING: /Users/runner/work/xgboost/xgboost/src/learner.cc:740: \n",
      "Parameters: { \"use_label_encoder\" } are not used.\n",
      "\n",
      "  warnings.warn(smsg, UserWarning)\n",
      "/Library/Frameworks/Python.framework/Versions/3.13/lib/python3.13/site-packages/xgboost/core.py:158: UserWarning: [01:01:44] WARNING: /Users/runner/work/xgboost/xgboost/src/learner.cc:740: \n",
      "Parameters: { \"use_label_encoder\" } are not used.\n",
      "\n",
      "  warnings.warn(smsg, UserWarning)\n",
      "/Library/Frameworks/Python.framework/Versions/3.13/lib/python3.13/site-packages/xgboost/core.py:158: UserWarning: [01:01:44] WARNING: /Users/runner/work/xgboost/xgboost/src/learner.cc:740: \n",
      "Parameters: { \"use_label_encoder\" } are not used.\n",
      "\n",
      "  warnings.warn(smsg, UserWarning)\n",
      "/Library/Frameworks/Python.framework/Versions/3.13/lib/python3.13/site-packages/xgboost/core.py:158: UserWarning: [01:01:44] WARNING: /Users/runner/work/xgboost/xgboost/src/learner.cc:740: \n",
      "Parameters: { \"use_label_encoder\" } are not used.\n",
      "\n",
      "  warnings.warn(smsg, UserWarning)\n",
      "/Library/Frameworks/Python.framework/Versions/3.13/lib/python3.13/site-packages/xgboost/core.py:158: UserWarning: [01:01:45] WARNING: /Users/runner/work/xgboost/xgboost/src/learner.cc:740: \n",
      "Parameters: { \"use_label_encoder\" } are not used.\n",
      "\n",
      "  warnings.warn(smsg, UserWarning)\n",
      "/Library/Frameworks/Python.framework/Versions/3.13/lib/python3.13/site-packages/xgboost/core.py:158: UserWarning: [01:01:45] WARNING: /Users/runner/work/xgboost/xgboost/src/learner.cc:740: \n",
      "Parameters: { \"use_label_encoder\" } are not used.\n",
      "\n",
      "  warnings.warn(smsg, UserWarning)\n",
      "/Library/Frameworks/Python.framework/Versions/3.13/lib/python3.13/site-packages/xgboost/core.py:158: UserWarning: [01:01:47] WARNING: /Users/runner/work/xgboost/xgboost/src/learner.cc:740: \n",
      "Parameters: { \"use_label_encoder\" } are not used.\n",
      "\n",
      "  warnings.warn(smsg, UserWarning)\n",
      "/Library/Frameworks/Python.framework/Versions/3.13/lib/python3.13/site-packages/xgboost/core.py:158: UserWarning: [01:01:47] WARNING: /Users/runner/work/xgboost/xgboost/src/learner.cc:740: \n",
      "Parameters: { \"use_label_encoder\" } are not used.\n",
      "\n",
      "  warnings.warn(smsg, UserWarning)\n",
      "/Library/Frameworks/Python.framework/Versions/3.13/lib/python3.13/site-packages/xgboost/core.py:158: UserWarning: [01:01:55] WARNING: /Users/runner/work/xgboost/xgboost/src/learner.cc:740: \n",
      "Parameters: { \"use_label_encoder\" } are not used.\n",
      "\n",
      "  warnings.warn(smsg, UserWarning)\n",
      "/Library/Frameworks/Python.framework/Versions/3.13/lib/python3.13/site-packages/xgboost/core.py:158: UserWarning: [01:01:55] WARNING: /Users/runner/work/xgboost/xgboost/src/learner.cc:740: \n",
      "Parameters: { \"use_label_encoder\" } are not used.\n",
      "\n",
      "  warnings.warn(smsg, UserWarning)\n",
      "/Library/Frameworks/Python.framework/Versions/3.13/lib/python3.13/site-packages/xgboost/core.py:158: UserWarning: [01:01:58] WARNING: /Users/runner/work/xgboost/xgboost/src/learner.cc:740: \n",
      "Parameters: { \"use_label_encoder\" } are not used.\n",
      "\n",
      "  warnings.warn(smsg, UserWarning)\n",
      "/Library/Frameworks/Python.framework/Versions/3.13/lib/python3.13/site-packages/xgboost/core.py:158: UserWarning: [01:01:58] WARNING: /Users/runner/work/xgboost/xgboost/src/learner.cc:740: \n",
      "Parameters: { \"use_label_encoder\" } are not used.\n",
      "\n",
      "  warnings.warn(smsg, UserWarning)\n",
      "/Library/Frameworks/Python.framework/Versions/3.13/lib/python3.13/site-packages/xgboost/core.py:158: UserWarning: [01:01:58] WARNING: /Users/runner/work/xgboost/xgboost/src/learner.cc:740: \n",
      "Parameters: { \"use_label_encoder\" } are not used.\n",
      "\n",
      "  warnings.warn(smsg, UserWarning)\n",
      "/Library/Frameworks/Python.framework/Versions/3.13/lib/python3.13/site-packages/xgboost/core.py:158: UserWarning: [01:01:59] WARNING: /Users/runner/work/xgboost/xgboost/src/learner.cc:740: \n",
      "Parameters: { \"use_label_encoder\" } are not used.\n",
      "\n",
      "  warnings.warn(smsg, UserWarning)\n",
      "/Library/Frameworks/Python.framework/Versions/3.13/lib/python3.13/site-packages/xgboost/core.py:158: UserWarning: [01:02:01] WARNING: /Users/runner/work/xgboost/xgboost/src/learner.cc:740: \n",
      "Parameters: { \"use_label_encoder\" } are not used.\n",
      "\n",
      "  warnings.warn(smsg, UserWarning)\n",
      "/Library/Frameworks/Python.framework/Versions/3.13/lib/python3.13/site-packages/xgboost/core.py:158: UserWarning: [01:02:01] WARNING: /Users/runner/work/xgboost/xgboost/src/learner.cc:740: \n",
      "Parameters: { \"use_label_encoder\" } are not used.\n",
      "\n",
      "  warnings.warn(smsg, UserWarning)\n",
      "/Library/Frameworks/Python.framework/Versions/3.13/lib/python3.13/site-packages/xgboost/core.py:158: UserWarning: [01:02:08] WARNING: /Users/runner/work/xgboost/xgboost/src/learner.cc:740: \n",
      "Parameters: { \"use_label_encoder\" } are not used.\n",
      "\n",
      "  warnings.warn(smsg, UserWarning)\n",
      "/Library/Frameworks/Python.framework/Versions/3.13/lib/python3.13/site-packages/xgboost/core.py:158: UserWarning: [01:02:09] WARNING: /Users/runner/work/xgboost/xgboost/src/learner.cc:740: \n",
      "Parameters: { \"use_label_encoder\" } are not used.\n",
      "\n",
      "  warnings.warn(smsg, UserWarning)\n",
      "/Library/Frameworks/Python.framework/Versions/3.13/lib/python3.13/site-packages/xgboost/core.py:158: UserWarning: [01:02:09] WARNING: /Users/runner/work/xgboost/xgboost/src/learner.cc:740: \n",
      "Parameters: { \"use_label_encoder\" } are not used.\n",
      "\n",
      "  warnings.warn(smsg, UserWarning)\n",
      "/Library/Frameworks/Python.framework/Versions/3.13/lib/python3.13/site-packages/xgboost/core.py:158: UserWarning: [01:02:09] WARNING: /Users/runner/work/xgboost/xgboost/src/learner.cc:740: \n",
      "Parameters: { \"use_label_encoder\" } are not used.\n",
      "\n",
      "  warnings.warn(smsg, UserWarning)\n",
      "/Library/Frameworks/Python.framework/Versions/3.13/lib/python3.13/site-packages/xgboost/core.py:158: UserWarning: [01:02:11] WARNING: /Users/runner/work/xgboost/xgboost/src/learner.cc:740: \n",
      "Parameters: { \"use_label_encoder\" } are not used.\n",
      "\n",
      "  warnings.warn(smsg, UserWarning)\n",
      "/Library/Frameworks/Python.framework/Versions/3.13/lib/python3.13/site-packages/xgboost/core.py:158: UserWarning: [01:02:11] WARNING: /Users/runner/work/xgboost/xgboost/src/learner.cc:740: \n",
      "Parameters: { \"use_label_encoder\" } are not used.\n",
      "\n",
      "  warnings.warn(smsg, UserWarning)\n",
      "/Library/Frameworks/Python.framework/Versions/3.13/lib/python3.13/site-packages/xgboost/core.py:158: UserWarning: [01:02:12] WARNING: /Users/runner/work/xgboost/xgboost/src/learner.cc:740: \n",
      "Parameters: { \"use_label_encoder\" } are not used.\n",
      "\n",
      "  warnings.warn(smsg, UserWarning)\n",
      "/Library/Frameworks/Python.framework/Versions/3.13/lib/python3.13/site-packages/xgboost/core.py:158: UserWarning: [01:02:12] WARNING: /Users/runner/work/xgboost/xgboost/src/learner.cc:740: \n",
      "Parameters: { \"use_label_encoder\" } are not used.\n",
      "\n",
      "  warnings.warn(smsg, UserWarning)\n",
      "/Library/Frameworks/Python.framework/Versions/3.13/lib/python3.13/site-packages/xgboost/core.py:158: UserWarning: [01:02:18] WARNING: /Users/runner/work/xgboost/xgboost/src/learner.cc:740: \n",
      "Parameters: { \"use_label_encoder\" } are not used.\n",
      "\n",
      "  warnings.warn(smsg, UserWarning)\n",
      "/Library/Frameworks/Python.framework/Versions/3.13/lib/python3.13/site-packages/xgboost/core.py:158: UserWarning: [01:02:21] WARNING: /Users/runner/work/xgboost/xgboost/src/learner.cc:740: \n",
      "Parameters: { \"use_label_encoder\" } are not used.\n",
      "\n",
      "  warnings.warn(smsg, UserWarning)\n",
      "/Library/Frameworks/Python.framework/Versions/3.13/lib/python3.13/site-packages/xgboost/core.py:158: UserWarning: [01:02:21] WARNING: /Users/runner/work/xgboost/xgboost/src/learner.cc:740: \n",
      "Parameters: { \"use_label_encoder\" } are not used.\n",
      "\n",
      "  warnings.warn(smsg, UserWarning)\n",
      "/Library/Frameworks/Python.framework/Versions/3.13/lib/python3.13/site-packages/xgboost/core.py:158: UserWarning: [01:02:22] WARNING: /Users/runner/work/xgboost/xgboost/src/learner.cc:740: \n",
      "Parameters: { \"use_label_encoder\" } are not used.\n",
      "\n",
      "  warnings.warn(smsg, UserWarning)\n",
      "/Library/Frameworks/Python.framework/Versions/3.13/lib/python3.13/site-packages/xgboost/core.py:158: UserWarning: [01:02:23] WARNING: /Users/runner/work/xgboost/xgboost/src/learner.cc:740: \n",
      "Parameters: { \"use_label_encoder\" } are not used.\n",
      "\n",
      "  warnings.warn(smsg, UserWarning)\n",
      "/Library/Frameworks/Python.framework/Versions/3.13/lib/python3.13/site-packages/xgboost/core.py:158: UserWarning: [01:02:24] WARNING: /Users/runner/work/xgboost/xgboost/src/learner.cc:740: \n",
      "Parameters: { \"use_label_encoder\" } are not used.\n",
      "\n",
      "  warnings.warn(smsg, UserWarning)\n",
      "/Library/Frameworks/Python.framework/Versions/3.13/lib/python3.13/site-packages/xgboost/core.py:158: UserWarning: [01:02:27] WARNING: /Users/runner/work/xgboost/xgboost/src/learner.cc:740: \n",
      "Parameters: { \"use_label_encoder\" } are not used.\n",
      "\n",
      "  warnings.warn(smsg, UserWarning)\n",
      "/Library/Frameworks/Python.framework/Versions/3.13/lib/python3.13/site-packages/xgboost/core.py:158: UserWarning: [01:02:27] WARNING: /Users/runner/work/xgboost/xgboost/src/learner.cc:740: \n",
      "Parameters: { \"use_label_encoder\" } are not used.\n",
      "\n",
      "  warnings.warn(smsg, UserWarning)\n",
      "/Library/Frameworks/Python.framework/Versions/3.13/lib/python3.13/site-packages/xgboost/core.py:158: UserWarning: [01:02:32] WARNING: /Users/runner/work/xgboost/xgboost/src/learner.cc:740: \n",
      "Parameters: { \"use_label_encoder\" } are not used.\n",
      "\n",
      "  warnings.warn(smsg, UserWarning)\n",
      "/Library/Frameworks/Python.framework/Versions/3.13/lib/python3.13/site-packages/xgboost/core.py:158: UserWarning: [01:02:36] WARNING: /Users/runner/work/xgboost/xgboost/src/learner.cc:740: \n",
      "Parameters: { \"use_label_encoder\" } are not used.\n",
      "\n",
      "  warnings.warn(smsg, UserWarning)\n",
      "/Library/Frameworks/Python.framework/Versions/3.13/lib/python3.13/site-packages/xgboost/core.py:158: UserWarning: [01:02:36] WARNING: /Users/runner/work/xgboost/xgboost/src/learner.cc:740: \n",
      "Parameters: { \"use_label_encoder\" } are not used.\n",
      "\n",
      "  warnings.warn(smsg, UserWarning)\n",
      "/Library/Frameworks/Python.framework/Versions/3.13/lib/python3.13/site-packages/xgboost/core.py:158: UserWarning: [01:02:38] WARNING: /Users/runner/work/xgboost/xgboost/src/learner.cc:740: \n",
      "Parameters: { \"use_label_encoder\" } are not used.\n",
      "\n",
      "  warnings.warn(smsg, UserWarning)\n",
      "/Library/Frameworks/Python.framework/Versions/3.13/lib/python3.13/site-packages/xgboost/core.py:158: UserWarning: [01:02:40] WARNING: /Users/runner/work/xgboost/xgboost/src/learner.cc:740: \n",
      "Parameters: { \"use_label_encoder\" } are not used.\n",
      "\n",
      "  warnings.warn(smsg, UserWarning)\n",
      "/Library/Frameworks/Python.framework/Versions/3.13/lib/python3.13/site-packages/xgboost/core.py:158: UserWarning: [01:02:40] WARNING: /Users/runner/work/xgboost/xgboost/src/learner.cc:740: \n",
      "Parameters: { \"use_label_encoder\" } are not used.\n",
      "\n",
      "  warnings.warn(smsg, UserWarning)\n",
      "/Library/Frameworks/Python.framework/Versions/3.13/lib/python3.13/site-packages/xgboost/core.py:158: UserWarning: [01:02:41] WARNING: /Users/runner/work/xgboost/xgboost/src/learner.cc:740: \n",
      "Parameters: { \"use_label_encoder\" } are not used.\n",
      "\n",
      "  warnings.warn(smsg, UserWarning)\n",
      "/Library/Frameworks/Python.framework/Versions/3.13/lib/python3.13/site-packages/xgboost/core.py:158: UserWarning: [01:02:43] WARNING: /Users/runner/work/xgboost/xgboost/src/learner.cc:740: \n",
      "Parameters: { \"use_label_encoder\" } are not used.\n",
      "\n",
      "  warnings.warn(smsg, UserWarning)\n",
      "/Library/Frameworks/Python.framework/Versions/3.13/lib/python3.13/site-packages/xgboost/core.py:158: UserWarning: [01:02:43] WARNING: /Users/runner/work/xgboost/xgboost/src/learner.cc:740: \n",
      "Parameters: { \"use_label_encoder\" } are not used.\n",
      "\n",
      "  warnings.warn(smsg, UserWarning)\n",
      "/Library/Frameworks/Python.framework/Versions/3.13/lib/python3.13/site-packages/xgboost/core.py:158: UserWarning: [01:02:44] WARNING: /Users/runner/work/xgboost/xgboost/src/learner.cc:740: \n",
      "Parameters: { \"use_label_encoder\" } are not used.\n",
      "\n",
      "  warnings.warn(smsg, UserWarning)\n",
      "/Library/Frameworks/Python.framework/Versions/3.13/lib/python3.13/site-packages/xgboost/core.py:158: UserWarning: [01:02:44] WARNING: /Users/runner/work/xgboost/xgboost/src/learner.cc:740: \n",
      "Parameters: { \"use_label_encoder\" } are not used.\n",
      "\n",
      "  warnings.warn(smsg, UserWarning)\n",
      "/Library/Frameworks/Python.framework/Versions/3.13/lib/python3.13/site-packages/xgboost/core.py:158: UserWarning: [01:02:44] WARNING: /Users/runner/work/xgboost/xgboost/src/learner.cc:740: \n",
      "Parameters: { \"use_label_encoder\" } are not used.\n",
      "\n",
      "  warnings.warn(smsg, UserWarning)\n",
      "/Library/Frameworks/Python.framework/Versions/3.13/lib/python3.13/site-packages/xgboost/core.py:158: UserWarning: [01:02:44] WARNING: /Users/runner/work/xgboost/xgboost/src/learner.cc:740: \n",
      "Parameters: { \"use_label_encoder\" } are not used.\n",
      "\n",
      "  warnings.warn(smsg, UserWarning)\n",
      "/Library/Frameworks/Python.framework/Versions/3.13/lib/python3.13/site-packages/xgboost/core.py:158: UserWarning: [01:02:45] WARNING: /Users/runner/work/xgboost/xgboost/src/learner.cc:740: \n",
      "Parameters: { \"use_label_encoder\" } are not used.\n",
      "\n",
      "  warnings.warn(smsg, UserWarning)\n",
      "/Library/Frameworks/Python.framework/Versions/3.13/lib/python3.13/site-packages/xgboost/core.py:158: UserWarning: [01:02:47] WARNING: /Users/runner/work/xgboost/xgboost/src/learner.cc:740: \n",
      "Parameters: { \"use_label_encoder\" } are not used.\n",
      "\n",
      "  warnings.warn(smsg, UserWarning)\n",
      "/Library/Frameworks/Python.framework/Versions/3.13/lib/python3.13/site-packages/xgboost/core.py:158: UserWarning: [01:02:59] WARNING: /Users/runner/work/xgboost/xgboost/src/learner.cc:740: \n",
      "Parameters: { \"use_label_encoder\" } are not used.\n",
      "\n",
      "  warnings.warn(smsg, UserWarning)\n"
     ]
    },
    {
     "name": "stdout",
     "output_type": "stream",
     "text": [
      "Best parameters found: {'subsample': 0.8, 'n_estimators': 200, 'min_child_weight': 1, 'max_depth': 3, 'learning_rate': 0.1, 'gamma': 0, 'colsample_bytree': 0.8}\n",
      "Best recall score: 0.8341103341103342\n"
     ]
    }
   ],
   "source": [
    "# Define hyperparameter search space\n",
    "param_dist = {\n",
    "    'n_estimators': [50, 100, 200, 300],\n",
    "    'max_depth': [3, 4, 5, 6, 7, 8],\n",
    "    'learning_rate': [0.01, 0.05, 0.1, 0.2],\n",
    "    'subsample': [0.6, 0.8, 1.0],\n",
    "    'colsample_bytree': [0.6, 0.8, 1.0],\n",
    "    'gamma': [0, 0.1, 0.2, 0.3],\n",
    "    'min_child_weight': [1, 3, 5, 7]\n",
    "}\n",
    "\n",
    "from sklearn.model_selection import StratifiedKFold\n",
    "\n",
    "skf = StratifiedKFold(n_splits=5, shuffle=True, random_state=42)\n",
    "\n",
    "random_search = RandomizedSearchCV(\n",
    "    estimator=xgb_model,\n",
    "    param_distributions=param_dist,\n",
    "    n_iter=20,\n",
    "    scoring='recall',\n",
    "    cv=skf,  # use stratified folds\n",
    "    verbose=1,\n",
    "    random_state=42,\n",
    "    n_jobs=-1\n",
    ")\n",
    "\n",
    "# Run the search\n",
    "random_search.fit(X_train, y_train)\n",
    "\n",
    "# Output best parameters\n",
    "print(\"Best parameters found:\", random_search.best_params_)\n",
    "print(\"Best recall score:\", random_search.best_score_)\n"
   ]
  },
  {
   "cell_type": "markdown",
   "metadata": {},
   "source": [
    "{\n",
    "    'subsample': 0.8,\n",
    "    'n_estimators': 200,\n",
    "    'min_child_weight': 1,\n",
    "    'max_depth': 3,\n",
    "    'learning_rate': 0.1,\n",
    "    'gamma': 0,\n",
    "    'colsample_bytree': 0.8\n",
    "}\n"
   ]
  },
  {
   "cell_type": "code",
   "execution_count": 121,
   "metadata": {},
   "outputs": [
    {
     "name": "stderr",
     "output_type": "stream",
     "text": [
      "/Library/Frameworks/Python.framework/Versions/3.13/lib/python3.13/site-packages/xgboost/core.py:158: UserWarning: [01:03:01] WARNING: /Users/runner/work/xgboost/xgboost/src/learner.cc:740: \n",
      "Parameters: { \"use_label_encoder\" } are not used.\n",
      "\n",
      "  warnings.warn(smsg, UserWarning)\n",
      "/Library/Frameworks/Python.framework/Versions/3.13/lib/python3.13/site-packages/xgboost/core.py:158: UserWarning: [01:03:02] WARNING: /Users/runner/work/xgboost/xgboost/src/learner.cc:740: \n",
      "Parameters: { \"use_label_encoder\" } are not used.\n",
      "\n",
      "  warnings.warn(smsg, UserWarning)\n",
      "/Library/Frameworks/Python.framework/Versions/3.13/lib/python3.13/site-packages/xgboost/core.py:158: UserWarning: [01:03:03] WARNING: /Users/runner/work/xgboost/xgboost/src/learner.cc:740: \n",
      "Parameters: { \"use_label_encoder\" } are not used.\n",
      "\n",
      "  warnings.warn(smsg, UserWarning)\n",
      "/Library/Frameworks/Python.framework/Versions/3.13/lib/python3.13/site-packages/xgboost/core.py:158: UserWarning: [01:03:04] WARNING: /Users/runner/work/xgboost/xgboost/src/learner.cc:740: \n",
      "Parameters: { \"use_label_encoder\" } are not used.\n",
      "\n",
      "  warnings.warn(smsg, UserWarning)\n",
      "/Library/Frameworks/Python.framework/Versions/3.13/lib/python3.13/site-packages/xgboost/core.py:158: UserWarning: [01:03:06] WARNING: /Users/runner/work/xgboost/xgboost/src/learner.cc:740: \n",
      "Parameters: { \"use_label_encoder\" } are not used.\n",
      "\n",
      "  warnings.warn(smsg, UserWarning)\n"
     ]
    },
    {
     "name": "stdout",
     "output_type": "stream",
     "text": [
      "              precision    recall  f1-score   support\n",
      "\n",
      "           0       1.00      0.76      0.86    631626\n",
      "           1       0.07      0.83      0.12     12870\n",
      "\n",
      "    accuracy                           0.76    644496\n",
      "   macro avg       0.53      0.79      0.49    644496\n",
      "weighted avg       0.98      0.76      0.85    644496\n",
      "\n"
     ]
    }
   ],
   "source": [
    "# Use the best model from RandomizedSearchCV\n",
    "best_model = random_search.best_estimator_\n",
    "\n",
    "# Predict with cross-validation\n",
    "y_pred = cross_val_predict(best_model, X_train, y_train, cv=5)\n",
    "\n",
    "# Print all metrics\n",
    "print(classification_report(y_train, y_pred))"
   ]
  },
  {
   "cell_type": "code",
   "execution_count": 122,
   "metadata": {},
   "outputs": [
    {
     "name": "stdout",
     "output_type": "stream",
     "text": [
      "Fitting 5 folds for each of 30 candidates, totalling 150 fits\n",
      "Best parameters found: {'subsample': 0.8, 'scale_pos_weight': 60, 'n_estimators': 300, 'min_child_weight': 5, 'max_depth': 3, 'learning_rate': 0.05, 'gamma': 0, 'colsample_bytree': 1.0}\n",
      "Best recall score: 0.8714063714063714\n"
     ]
    }
   ],
   "source": [
    "# Define hyperparameter search space\n",
    "param_dist = {\n",
    "    'n_estimators': [50, 100, 200, 300],\n",
    "    'max_depth': [3, 4, 5, 6, 7, 8],\n",
    "    'learning_rate': [0.01, 0.05, 0.1, 0.2],\n",
    "    'subsample': [0.6, 0.8, 1.0],\n",
    "    'colsample_bytree': [0.6, 0.8, 1.0],\n",
    "    'gamma': [0, 0.1, 0.2, 0.3],\n",
    "    'min_child_weight': [1, 3, 5, 7],\n",
    "    'scale_pos_weight': [30, 40, 50, 60]\n",
    "}\n",
    "\n",
    "\n",
    "skf = StratifiedKFold(n_splits=5, shuffle=True, random_state=42)\n",
    "\n",
    "xgb_model_10 = XGBClassifier()\n",
    "\n",
    "random_search = RandomizedSearchCV(\n",
    "    estimator=xgb_model_10,\n",
    "    param_distributions=param_dist,\n",
    "    n_iter=30,\n",
    "    scoring='recall',\n",
    "    cv=skf,  # use stratified folds\n",
    "    verbose=1,\n",
    "    random_state=42,\n",
    "    n_jobs=-1\n",
    ")\n",
    "\n",
    "# Run the search\n",
    "random_search.fit(X_train, y_train)\n",
    "\n",
    "# Output best parameters\n",
    "print(\"Best parameters found:\", random_search.best_params_)\n",
    "print(\"Best recall score:\", random_search.best_score_)\n"
   ]
  },
  {
   "cell_type": "code",
   "execution_count": 123,
   "metadata": {},
   "outputs": [
    {
     "name": "stdout",
     "output_type": "stream",
     "text": [
      "              precision    recall  f1-score   support\n",
      "\n",
      "           0       1.00      0.71      0.83    631626\n",
      "           1       0.06      0.87      0.11     12870\n",
      "\n",
      "    accuracy                           0.72    644496\n",
      "   macro avg       0.53      0.79      0.47    644496\n",
      "weighted avg       0.98      0.72      0.82    644496\n",
      "\n"
     ]
    }
   ],
   "source": [
    "# Use the best model from RandomizedSearchCV\n",
    "best_model = random_search.best_estimator_\n",
    "\n",
    "# Predict with cross-validation\n",
    "y_pred = cross_val_predict(best_model, X_train, y_train, cv=5)\n",
    "\n",
    "# Print all metrics\n",
    "print(classification_report(y_train, y_pred))"
   ]
  },
  {
   "cell_type": "code",
   "execution_count": 124,
   "metadata": {},
   "outputs": [
    {
     "data": {
      "text/plain": [
       "['xgb_10.pkl']"
      ]
     },
     "execution_count": 124,
     "metadata": {},
     "output_type": "execute_result"
    }
   ],
   "source": [
    "joblib.dump(random_search.best_estimator_, \"xgb_10.pkl\")"
   ]
  },
  {
   "cell_type": "markdown",
   "metadata": {},
   "source": [
    "Grid Search = “Brute force” search.\n",
    "It tries every combination of parameters you give it and finds the one that gives the best performance."
   ]
  },
  {
   "cell_type": "code",
   "execution_count": null,
   "metadata": {},
   "outputs": [
    {
     "name": "stdout",
     "output_type": "stream",
     "text": [
      "Fitting 5 folds for each of 1944 candidates, totalling 9720 fits\n",
      "Best GridSearch Params: {'colsample_bytree': 1.0, 'gamma': 0, 'learning_rate': 0.03, 'max_depth': 3, 'min_child_weight': 3, 'n_estimators': 250, 'scale_pos_weight': 70, 'subsample': 0.8}\n",
      "Best Recall: 0.8979797979797979\n"
     ]
    }
   ],
   "source": [
    "xgb_model_11 = XGBClassifier(eval_metric=\"logloss\")\n",
    "\n",
    "param_grid = {\n",
    "    'max_depth': [3, 4],\n",
    "    'learning_rate': [0.03, 0.05, 0.07],\n",
    "    'n_estimators': [250, 300, 350],\n",
    "    'subsample': [0.7, 0.8, 0.9],\n",
    "    'colsample_bytree': [0.9, 1.0],\n",
    "    'min_child_weight': [3, 5, 7],\n",
    "    'gamma': [0, 0.1],\n",
    "    'scale_pos_weight': [50, 60, 70]\n",
    "}\n",
    "\n",
    "cv = StratifiedKFold(n_splits=5, shuffle=True, random_state=42)\n",
    "\n",
    "grid_search = GridSearchCV(\n",
    "    estimator=xgb_model_11,\n",
    "    param_grid=param_grid,\n",
    "    scoring='recall',\n",
    "    cv=cv,\n",
    "    verbose=1,\n",
    "    n_jobs=-1\n",
    ")\n",
    "\n",
    "grid_search.fit(X_train, y_train)\n",
    "\n",
    "print(\"Best GridSearch Params:\", grid_search.best_params_)\n",
    "print(\"Best Recall:\", grid_search.best_score_)"
   ]
  },
  {
   "cell_type": "code",
   "execution_count": null,
   "metadata": {},
   "outputs": [
    {
     "name": "stdout",
     "output_type": "stream",
     "text": [
      "              precision    recall  f1-score   support\n",
      "\n",
      "           0       1.00      0.67      0.80    631626\n",
      "           1       0.05      0.90      0.10     12870\n",
      "\n",
      "    accuracy                           0.67    644496\n",
      "   macro avg       0.52      0.78      0.45    644496\n",
      "weighted avg       0.98      0.67      0.79    644496\n",
      "\n"
     ]
    }
   ],
   "source": [
    "best_model = grid_search.best_estimator_\n",
    "\n",
    "# Predict with cross-validation\n",
    "y_pred = cross_val_predict(best_model, X_train, y_train, cv=5)\n",
    "\n",
    "# Print all metrics\n",
    "print(classification_report(y_train, y_pred))"
   ]
  },
  {
   "cell_type": "code",
   "execution_count": 132,
   "metadata": {},
   "outputs": [
    {
     "data": {
      "text/plain": [
       "['xgb_11.pkl']"
      ]
     },
     "execution_count": 132,
     "metadata": {},
     "output_type": "execute_result"
    }
   ],
   "source": [
    "joblib.dump(grid_search.best_estimator_, \"xgb_11.pkl\")"
   ]
  },
  {
   "cell_type": "markdown",
   "metadata": {},
   "source": [
    "Try Optuna for hyperparameter tuning"
   ]
  },
  {
   "cell_type": "code",
   "execution_count": 125,
   "metadata": {},
   "outputs": [
    {
     "name": "stderr",
     "output_type": "stream",
     "text": [
      "[I 2025-03-23 01:08:50,062] A new study created in memory with name: no-name-e62af144-934a-40d7-83e8-cc0a69458b69\n",
      "[I 2025-03-23 01:08:59,751] Trial 0 finished with value: 0.8415695415695416 and parameters: {'n_estimators': 193, 'max_depth': 6, 'learning_rate': 0.015906479349849616, 'subsample': 0.8168508876306939, 'colsample_bytree': 0.8139389325180869, 'gamma': 0.2965825111795862, 'min_child_weight': 1, 'scale_pos_weight': 52}. Best is trial 0 with value: 0.8415695415695416.\n",
      "[I 2025-03-23 01:09:06,936] Trial 1 finished with value: 0.8873348873348874 and parameters: {'n_estimators': 159, 'max_depth': 5, 'learning_rate': 0.0695715615646783, 'subsample': 0.8246782242360816, 'colsample_bytree': 0.7305513849850723, 'gamma': 0.128227271464744, 'min_child_weight': 5, 'scale_pos_weight': 69}. Best is trial 1 with value: 0.8873348873348874.\n",
      "[I 2025-03-23 01:09:14,969] Trial 2 finished with value: 0.734965034965035 and parameters: {'n_estimators': 289, 'max_depth': 3, 'learning_rate': 0.033202014516366805, 'subsample': 0.8942256891981902, 'colsample_bytree': 0.95250665664452, 'gamma': 0.14293009381824298, 'min_child_weight': 6, 'scale_pos_weight': 32}. Best is trial 1 with value: 0.8873348873348874.\n",
      "[I 2025-03-23 01:09:24,962] Trial 3 finished with value: 0.8715617715617716 and parameters: {'n_estimators': 250, 'max_depth': 5, 'learning_rate': 0.08685850668939846, 'subsample': 0.861958544323859, 'colsample_bytree': 0.6387323871554085, 'gamma': 0.20852077128870775, 'min_child_weight': 6, 'scale_pos_weight': 68}. Best is trial 1 with value: 0.8873348873348874.\n",
      "[I 2025-03-23 01:09:31,002] Trial 4 finished with value: 0.8464646464646466 and parameters: {'n_estimators': 151, 'max_depth': 5, 'learning_rate': 0.03879282430820727, 'subsample': 0.9120693917816809, 'colsample_bytree': 0.6972637548290795, 'gamma': 0.245732876238073, 'min_child_weight': 4, 'scale_pos_weight': 53}. Best is trial 1 with value: 0.8873348873348874.\n",
      "[I 2025-03-23 01:09:42,642] Trial 5 finished with value: 0.7754467754467754 and parameters: {'n_estimators': 300, 'max_depth': 5, 'learning_rate': 0.07868374729649182, 'subsample': 0.6541398022945297, 'colsample_bytree': 0.7175767832982483, 'gamma': 0.04632056567519135, 'min_child_weight': 1, 'scale_pos_weight': 40}. Best is trial 1 with value: 0.8873348873348874.\n",
      "[I 2025-03-23 01:09:50,749] Trial 6 finished with value: 0.8865578865578867 and parameters: {'n_estimators': 210, 'max_depth': 5, 'learning_rate': 0.055019089228506846, 'subsample': 0.8592996155492153, 'colsample_bytree': 0.819825754688179, 'gamma': 0.01842436020882826, 'min_child_weight': 6, 'scale_pos_weight': 69}. Best is trial 1 with value: 0.8873348873348874.\n",
      "[I 2025-03-23 01:09:59,876] Trial 7 finished with value: 0.7923076923076924 and parameters: {'n_estimators': 263, 'max_depth': 4, 'learning_rate': 0.07590039005396908, 'subsample': 0.6175798541016623, 'colsample_bytree': 0.6145978537045228, 'gamma': 0.1433048571156251, 'min_child_weight': 3, 'scale_pos_weight': 41}. Best is trial 1 with value: 0.8873348873348874.\n",
      "[I 2025-03-23 01:10:09,925] Trial 8 finished with value: 0.905982905982906 and parameters: {'n_estimators': 278, 'max_depth': 4, 'learning_rate': 0.010414663135389055, 'subsample': 0.7308492859380656, 'colsample_bytree': 0.6301178022185321, 'gamma': 0.14855528948588556, 'min_child_weight': 2, 'scale_pos_weight': 68}. Best is trial 8 with value: 0.905982905982906.\n",
      "[I 2025-03-23 01:10:18,038] Trial 9 finished with value: 0.8519813519813519 and parameters: {'n_estimators': 177, 'max_depth': 6, 'learning_rate': 0.032370705702188605, 'subsample': 0.642263583818715, 'colsample_bytree': 0.9319848645249525, 'gamma': 0.1572771279206692, 'min_child_weight': 5, 'scale_pos_weight': 56}. Best is trial 8 with value: 0.905982905982906.\n",
      "[I 2025-03-23 01:10:28,418] Trial 10 finished with value: 0.8786324786324787 and parameters: {'n_estimators': 379, 'max_depth': 3, 'learning_rate': 0.01424163211979007, 'subsample': 0.9985319466760604, 'colsample_bytree': 0.8901625087427931, 'gamma': 0.0636418710942128, 'min_child_weight': 2, 'scale_pos_weight': 61}. Best is trial 8 with value: 0.905982905982906.\n",
      "[I 2025-03-23 01:10:33,240] Trial 11 finished with value: 0.8812742812742813 and parameters: {'n_estimators': 127, 'max_depth': 4, 'learning_rate': 0.06006630862210169, 'subsample': 0.7347499489054038, 'colsample_bytree': 0.7090240070558694, 'gamma': 0.097074843023815, 'min_child_weight': 4, 'scale_pos_weight': 63}. Best is trial 8 with value: 0.905982905982906.\n",
      "[I 2025-03-23 01:10:44,828] Trial 12 finished with value: 0.8875679875679875 and parameters: {'n_estimators': 349, 'max_depth': 4, 'learning_rate': 0.06296126916762373, 'subsample': 0.7446185046500489, 'colsample_bytree': 0.7558464467686346, 'gamma': 0.1904559422342037, 'min_child_weight': 3, 'scale_pos_weight': 70}. Best is trial 8 with value: 0.905982905982906.\n",
      "[I 2025-03-23 01:10:57,028] Trial 13 finished with value: 0.862082362082362 and parameters: {'n_estimators': 365, 'max_depth': 4, 'learning_rate': 0.09502391525637602, 'subsample': 0.7303713614741567, 'colsample_bytree': 0.7817716344252278, 'gamma': 0.2081825146391701, 'min_child_weight': 3, 'scale_pos_weight': 62}. Best is trial 8 with value: 0.905982905982906.\n",
      "[I 2025-03-23 01:11:06,761] Trial 14 finished with value: 0.8118104118104117 and parameters: {'n_estimators': 334, 'max_depth': 3, 'learning_rate': 0.044178369859349365, 'subsample': 0.7305389740336381, 'colsample_bytree': 0.655731846896402, 'gamma': 0.2005867622406566, 'min_child_weight': 2, 'scale_pos_weight': 44}. Best is trial 8 with value: 0.905982905982906.\n",
      "[I 2025-03-23 01:11:17,886] Trial 15 finished with value: 0.8571872571872572 and parameters: {'n_estimators': 334, 'max_depth': 4, 'learning_rate': 0.06237020181285487, 'subsample': 0.7641200414010969, 'colsample_bytree': 0.7734816255961199, 'gamma': 0.18036201485422534, 'min_child_weight': 2, 'scale_pos_weight': 58}. Best is trial 8 with value: 0.905982905982906.\n",
      "[I 2025-03-23 01:11:30,939] Trial 16 finished with value: 0.8774669774669774 and parameters: {'n_estimators': 398, 'max_depth': 4, 'learning_rate': 0.04642773458941635, 'subsample': 0.7114149623669741, 'colsample_bytree': 0.878339590067889, 'gamma': 0.2515460192073281, 'min_child_weight': 3, 'scale_pos_weight': 65}. Best is trial 8 with value: 0.905982905982906.\n",
      "[I 2025-03-23 01:11:38,213] Trial 17 finished with value: 0.8312354312354312 and parameters: {'n_estimators': 236, 'max_depth': 3, 'learning_rate': 0.024205257140310413, 'subsample': 0.6791639788235029, 'colsample_bytree': 0.9970842199316807, 'gamma': 0.09430729187917156, 'min_child_weight': 2, 'scale_pos_weight': 48}. Best is trial 8 with value: 0.905982905982906.\n",
      "[I 2025-03-23 01:11:49,020] Trial 18 finished with value: 0.8928515928515928 and parameters: {'n_estimators': 327, 'max_depth': 4, 'learning_rate': 0.04932261549461274, 'subsample': 0.7812980226380876, 'colsample_bytree': 0.602797705915073, 'gamma': 0.10793678305469381, 'min_child_weight': 4, 'scale_pos_weight': 70}. Best is trial 8 with value: 0.905982905982906.\n",
      "[I 2025-03-23 01:11:58,083] Trial 19 finished with value: 0.8656565656565658 and parameters: {'n_estimators': 303, 'max_depth': 3, 'learning_rate': 0.024889812109350255, 'subsample': 0.7776737852176961, 'colsample_bytree': 0.6046322114781959, 'gamma': 0.10114667708416386, 'min_child_weight': 7, 'scale_pos_weight': 57}. Best is trial 8 with value: 0.905982905982906.\n",
      "[I 2025-03-23 01:12:07,568] Trial 20 finished with value: 0.8933954933954933 and parameters: {'n_estimators': 271, 'max_depth': 4, 'learning_rate': 0.012094766992202731, 'subsample': 0.7934677759676462, 'colsample_bytree': 0.6795738931468392, 'gamma': 0.07118871723562506, 'min_child_weight': 5, 'scale_pos_weight': 65}. Best is trial 8 with value: 0.905982905982906.\n",
      "[I 2025-03-23 01:12:17,517] Trial 21 finished with value: 0.892074592074592 and parameters: {'n_estimators': 282, 'max_depth': 4, 'learning_rate': 0.013314685303042771, 'subsample': 0.7920355128315205, 'colsample_bytree': 0.6668470816650992, 'gamma': 0.053265842663928614, 'min_child_weight': 5, 'scale_pos_weight': 65}. Best is trial 8 with value: 0.905982905982906.\n",
      "[I 2025-03-23 01:12:25,947] Trial 22 finished with value: 0.9020979020979022 and parameters: {'n_estimators': 225, 'max_depth': 4, 'learning_rate': 0.010266452668064877, 'subsample': 0.6869246310797628, 'colsample_bytree': 0.6734274826020845, 'gamma': 0.0029634864685687823, 'min_child_weight': 4, 'scale_pos_weight': 65}. Best is trial 8 with value: 0.905982905982906.\n",
      "[I 2025-03-23 01:12:33,888] Trial 23 finished with value: 0.8756798756798757 and parameters: {'n_estimators': 222, 'max_depth': 4, 'learning_rate': 0.022386407234448583, 'subsample': 0.6892504647021769, 'colsample_bytree': 0.6772426545311184, 'gamma': 0.0018328158365265718, 'min_child_weight': 5, 'scale_pos_weight': 60}. Best is trial 8 with value: 0.905982905982906.\n",
      "[I 2025-03-23 01:12:45,087] Trial 24 finished with value: 0.8961149961149962 and parameters: {'n_estimators': 261, 'max_depth': 5, 'learning_rate': 0.010722298580350351, 'subsample': 0.604401236075619, 'colsample_bytree': 0.6419990818691865, 'gamma': 0.028131311279417842, 'min_child_weight': 7, 'scale_pos_weight': 65}. Best is trial 8 with value: 0.905982905982906.\n",
      "[I 2025-03-23 01:12:55,742] Trial 25 finished with value: 0.8857808857808858 and parameters: {'n_estimators': 232, 'max_depth': 6, 'learning_rate': 0.021714282115756135, 'subsample': 0.6032942497534848, 'colsample_bytree': 0.6381623388571762, 'gamma': 0.022532128964239086, 'min_child_weight': 7, 'scale_pos_weight': 66}. Best is trial 8 with value: 0.905982905982906.\n",
      "[I 2025-03-23 01:13:04,613] Trial 26 finished with value: 0.8652680652680653 and parameters: {'n_estimators': 204, 'max_depth': 5, 'learning_rate': 0.010010082135603792, 'subsample': 0.640863996538209, 'colsample_bytree': 0.6560625241778788, 'gamma': 2.1773168183539682e-05, 'min_child_weight': 7, 'scale_pos_weight': 55}. Best is trial 8 with value: 0.905982905982906.\n",
      "[I 2025-03-23 01:13:14,568] Trial 27 finished with value: 0.8250194250194249 and parameters: {'n_estimators': 253, 'max_depth': 5, 'learning_rate': 0.029998296263922374, 'subsample': 0.6958911109587839, 'colsample_bytree': 0.7507409520038701, 'gamma': 0.03785690959479622, 'min_child_weight': 1, 'scale_pos_weight': 48}. Best is trial 8 with value: 0.905982905982906.\n",
      "[I 2025-03-23 01:13:19,629] Trial 28 finished with value: 0.8852369852369852 and parameters: {'n_estimators': 105, 'max_depth': 5, 'learning_rate': 0.019890128355782827, 'subsample': 0.6600780299204299, 'colsample_bytree': 0.6328775361703232, 'gamma': 0.02733921191153757, 'min_child_weight': 6, 'scale_pos_weight': 60}. Best is trial 8 with value: 0.905982905982906.\n",
      "[I 2025-03-23 01:13:28,806] Trial 29 finished with value: 0.837062937062937 and parameters: {'n_estimators': 193, 'max_depth': 6, 'learning_rate': 0.017090029634347557, 'subsample': 0.6193620525453835, 'colsample_bytree': 0.8356286706379269, 'gamma': 0.28155168541490083, 'min_child_weight': 4, 'scale_pos_weight': 51}. Best is trial 8 with value: 0.905982905982906.\n",
      "[I 2025-03-23 01:13:42,346] Trial 30 finished with value: 0.7133644133644134 and parameters: {'n_estimators': 320, 'max_depth': 6, 'learning_rate': 0.02827675981966355, 'subsample': 0.6735253845954602, 'colsample_bytree': 0.6852631072663138, 'gamma': 0.0812372528701756, 'min_child_weight': 1, 'scale_pos_weight': 30}. Best is trial 8 with value: 0.905982905982906.\n",
      "[I 2025-03-23 01:13:51,817] Trial 31 finished with value: 0.8967365967365968 and parameters: {'n_estimators': 267, 'max_depth': 4, 'learning_rate': 0.011976648016287597, 'subsample': 0.8174380710076946, 'colsample_bytree': 0.6845278315953891, 'gamma': 0.07099928399411055, 'min_child_weight': 7, 'scale_pos_weight': 66}. Best is trial 8 with value: 0.905982905982906.\n",
      "[I 2025-03-23 01:14:00,928] Trial 32 finished with value: 0.8938616938616939 and parameters: {'n_estimators': 267, 'max_depth': 4, 'learning_rate': 0.01655843102590587, 'subsample': 0.8236622757145509, 'colsample_bytree': 0.7320614070247606, 'gamma': 0.043279313752689376, 'min_child_weight': 7, 'scale_pos_weight': 67}. Best is trial 8 with value: 0.905982905982906.\n",
      "[I 2025-03-23 01:14:11,665] Trial 33 finished with value: 0.8750582750582749 and parameters: {'n_estimators': 285, 'max_depth': 5, 'learning_rate': 0.03767948404279349, 'subsample': 0.84925638209035, 'colsample_bytree': 0.629350818766391, 'gamma': 0.1187698484253173, 'min_child_weight': 6, 'scale_pos_weight': 63}. Best is trial 8 with value: 0.905982905982906.\n",
      "[I 2025-03-23 01:14:20,040] Trial 34 finished with value: 0.8987567987567988 and parameters: {'n_estimators': 234, 'max_depth': 4, 'learning_rate': 0.017798168053835717, 'subsample': 0.7545517452038533, 'colsample_bytree': 0.6554347550895089, 'gamma': 0.1665967715324569, 'min_child_weight': 7, 'scale_pos_weight': 68}. Best is trial 8 with value: 0.905982905982906.\n",
      "[I 2025-03-23 01:14:27,642] Trial 35 finished with value: 0.897047397047397 and parameters: {'n_estimators': 239, 'max_depth': 3, 'learning_rate': 0.016397302646205585, 'subsample': 0.7603135834126998, 'colsample_bytree': 0.7178330731086977, 'gamma': 0.16528647153648768, 'min_child_weight': 6, 'scale_pos_weight': 67}. Best is trial 8 with value: 0.905982905982906.\n",
      "[I 2025-03-23 01:14:33,133] Trial 36 finished with value: 0.8964257964257965 and parameters: {'n_estimators': 171, 'max_depth': 3, 'learning_rate': 0.03701030511918702, 'subsample': 0.7508567189908033, 'colsample_bytree': 0.7361924552720602, 'gamma': 0.16656034604050268, 'min_child_weight': 6, 'scale_pos_weight': 68}. Best is trial 8 with value: 0.905982905982906.\n",
      "[I 2025-03-23 01:14:39,894] Trial 37 finished with value: 0.7553224553224552 and parameters: {'n_estimators': 218, 'max_depth': 3, 'learning_rate': 0.01931612242566796, 'subsample': 0.7169599092298172, 'colsample_bytree': 0.7069515031396292, 'gamma': 0.22392549941200202, 'min_child_weight': 6, 'scale_pos_weight': 35}. Best is trial 8 with value: 0.905982905982906.\n",
      "[I 2025-03-23 01:14:47,306] Trial 38 finished with value: 0.8948717948717949 and parameters: {'n_estimators': 240, 'max_depth': 3, 'learning_rate': 0.029125767957772237, 'subsample': 0.7600708044667622, 'colsample_bytree': 0.7012333441489301, 'gamma': 0.129259607592407, 'min_child_weight': 4, 'scale_pos_weight': 68}. Best is trial 8 with value: 0.905982905982906.\n",
      "[I 2025-03-23 01:14:53,440] Trial 39 finished with value: 0.8749028749028749 and parameters: {'n_estimators': 194, 'max_depth': 3, 'learning_rate': 0.026074628446224022, 'subsample': 0.8987281118560941, 'colsample_bytree': 0.6566736151603605, 'gamma': 0.17045964204032535, 'min_child_weight': 5, 'scale_pos_weight': 59}. Best is trial 8 with value: 0.905982905982906.\n",
      "[I 2025-03-23 01:15:01,923] Trial 40 finished with value: 0.887956487956488 and parameters: {'n_estimators': 244, 'max_depth': 4, 'learning_rate': 0.01643963281217548, 'subsample': 0.841659802701191, 'colsample_bytree': 0.6250365228948125, 'gamma': 0.1337661569028252, 'min_child_weight': 6, 'scale_pos_weight': 63}. Best is trial 8 with value: 0.905982905982906.\n",
      "[I 2025-03-23 01:15:12,047] Trial 41 finished with value: 0.9010878010878012 and parameters: {'n_estimators': 296, 'max_depth': 4, 'learning_rate': 0.015767926923597575, 'subsample': 0.8091732672306674, 'colsample_bytree': 0.6818433983430408, 'gamma': 0.1515322933826457, 'min_child_weight': 7, 'scale_pos_weight': 70}. Best is trial 8 with value: 0.905982905982906.\n",
      "[I 2025-03-23 01:15:22,970] Trial 42 finished with value: 0.8996114996114996 and parameters: {'n_estimators': 314, 'max_depth': 4, 'learning_rate': 0.019028396708317935, 'subsample': 0.7044435215970631, 'colsample_bytree': 0.691217932846552, 'gamma': 0.15124276898119368, 'min_child_weight': 7, 'scale_pos_weight': 70}. Best is trial 8 with value: 0.905982905982906.\n",
      "[I 2025-03-23 01:15:33,390] Trial 43 finished with value: 0.8944055944055945 and parameters: {'n_estimators': 307, 'max_depth': 4, 'learning_rate': 0.034833778270780935, 'subsample': 0.7105318655835701, 'colsample_bytree': 0.6621807957596795, 'gamma': 0.15377379007427033, 'min_child_weight': 7, 'scale_pos_weight': 70}. Best is trial 8 with value: 0.905982905982906.\n",
      "[I 2025-03-23 01:15:42,670] Trial 44 finished with value: 0.899067599067599 and parameters: {'n_estimators': 288, 'max_depth': 4, 'learning_rate': 0.021330177638142475, 'subsample': 0.944951668584776, 'colsample_bytree': 0.6944817392230878, 'gamma': 0.14259156767255854, 'min_child_weight': 7, 'scale_pos_weight': 70}. Best is trial 8 with value: 0.905982905982906.\n",
      "[I 2025-03-23 01:15:52,183] Trial 45 finished with value: 0.8979797979797979 and parameters: {'n_estimators': 294, 'max_depth': 4, 'learning_rate': 0.022289027457530728, 'subsample': 0.9414407314704043, 'colsample_bytree': 0.7203576065268414, 'gamma': 0.1470096633598258, 'min_child_weight': 3, 'scale_pos_weight': 70}. Best is trial 8 with value: 0.905982905982906.\n",
      "[I 2025-03-23 01:16:02,106] Trial 46 finished with value: 0.8830613830613832 and parameters: {'n_estimators': 318, 'max_depth': 4, 'learning_rate': 0.07432082385364087, 'subsample': 0.9876473609498947, 'colsample_bytree': 0.8083331773217985, 'gamma': 0.18822792042693198, 'min_child_weight': 7, 'scale_pos_weight': 69}. Best is trial 8 with value: 0.905982905982906.\n",
      "[I 2025-03-23 01:16:13,181] Trial 47 finished with value: 0.8780885780885781 and parameters: {'n_estimators': 352, 'max_depth': 4, 'learning_rate': 0.032279999334917195, 'subsample': 0.9382221180569337, 'colsample_bytree': 0.6980207132882934, 'gamma': 0.11666719800125705, 'min_child_weight': 1, 'scale_pos_weight': 63}. Best is trial 8 with value: 0.905982905982906.\n",
      "[I 2025-03-23 01:16:22,359] Trial 48 finished with value: 0.8875679875679875 and parameters: {'n_estimators': 279, 'max_depth': 4, 'learning_rate': 0.04132172148231347, 'subsample': 0.8846696526250296, 'colsample_bytree': 0.7818403939891136, 'gamma': 0.23652800488929, 'min_child_weight': 5, 'scale_pos_weight': 67}. Best is trial 8 with value: 0.905982905982906.\n",
      "[I 2025-03-23 01:16:32,877] Trial 49 finished with value: 0.9033411033411033 and parameters: {'n_estimators': 310, 'max_depth': 4, 'learning_rate': 0.010082662602868948, 'subsample': 0.975425128019054, 'colsample_bytree': 0.7417581735781342, 'gamma': 0.1452388337688385, 'min_child_weight': 2, 'scale_pos_weight': 70}. Best is trial 8 with value: 0.905982905982906.\n"
     ]
    },
    {
     "name": "stdout",
     "output_type": "stream",
     "text": [
      "Best hyperparameters: {'n_estimators': 278, 'max_depth': 4, 'learning_rate': 0.010414663135389055, 'subsample': 0.7308492859380656, 'colsample_bytree': 0.6301178022185321, 'gamma': 0.14855528948588556, 'min_child_weight': 2, 'scale_pos_weight': 68}\n",
      "Best recall: 0.905982905982906\n"
     ]
    }
   ],
   "source": [
    "def objective(trial):\n",
    "    params = {\n",
    "        'n_estimators': trial.suggest_int('n_estimators', 100, 400),\n",
    "        'max_depth': trial.suggest_int('max_depth', 3, 6),\n",
    "        'learning_rate': trial.suggest_float('learning_rate', 0.01, 0.1),\n",
    "        'subsample': trial.suggest_float('subsample', 0.6, 1.0),\n",
    "        'colsample_bytree': trial.suggest_float('colsample_bytree', 0.6, 1.0),\n",
    "        'gamma': trial.suggest_float('gamma', 0, 0.3),\n",
    "        'min_child_weight': trial.suggest_int('min_child_weight', 1, 7),\n",
    "        'scale_pos_weight': trial.suggest_int('scale_pos_weight', 30, 70)\n",
    "    }\n",
    "\n",
    "    model = XGBClassifier(**params, eval_metric=\"logloss\")\n",
    "    skf = StratifiedKFold(n_splits=5, shuffle=True, random_state=42)\n",
    "    scores = cross_val_score(model, X_train, y_train, cv=skf, scoring=make_scorer(recall_score))\n",
    "    return scores.mean()\n",
    "\n",
    "study = optuna.create_study(direction=\"maximize\")\n",
    "study.optimize(objective, n_trials=50)\n",
    "\n",
    "print(\"Best hyperparameters:\", study.best_params)\n",
    "print(\"Best recall:\", study.best_value)"
   ]
  },
  {
   "cell_type": "code",
   "execution_count": 126,
   "metadata": {},
   "outputs": [
    {
     "name": "stderr",
     "output_type": "stream",
     "text": [
      "/Library/Frameworks/Python.framework/Versions/3.13/lib/python3.13/site-packages/xgboost/core.py:158: UserWarning: [01:16:33] WARNING: /Users/runner/work/xgboost/xgboost/src/learner.cc:740: \n",
      "Parameters: { \"use_label_encoder\" } are not used.\n",
      "\n",
      "  warnings.warn(smsg, UserWarning)\n"
     ]
    },
    {
     "data": {
      "text/html": [
       "<style>#sk-container-id-4 {\n",
       "  /* Definition of color scheme common for light and dark mode */\n",
       "  --sklearn-color-text: #000;\n",
       "  --sklearn-color-text-muted: #666;\n",
       "  --sklearn-color-line: gray;\n",
       "  /* Definition of color scheme for unfitted estimators */\n",
       "  --sklearn-color-unfitted-level-0: #fff5e6;\n",
       "  --sklearn-color-unfitted-level-1: #f6e4d2;\n",
       "  --sklearn-color-unfitted-level-2: #ffe0b3;\n",
       "  --sklearn-color-unfitted-level-3: chocolate;\n",
       "  /* Definition of color scheme for fitted estimators */\n",
       "  --sklearn-color-fitted-level-0: #f0f8ff;\n",
       "  --sklearn-color-fitted-level-1: #d4ebff;\n",
       "  --sklearn-color-fitted-level-2: #b3dbfd;\n",
       "  --sklearn-color-fitted-level-3: cornflowerblue;\n",
       "\n",
       "  /* Specific color for light theme */\n",
       "  --sklearn-color-text-on-default-background: var(--sg-text-color, var(--theme-code-foreground, var(--jp-content-font-color1, black)));\n",
       "  --sklearn-color-background: var(--sg-background-color, var(--theme-background, var(--jp-layout-color0, white)));\n",
       "  --sklearn-color-border-box: var(--sg-text-color, var(--theme-code-foreground, var(--jp-content-font-color1, black)));\n",
       "  --sklearn-color-icon: #696969;\n",
       "\n",
       "  @media (prefers-color-scheme: dark) {\n",
       "    /* Redefinition of color scheme for dark theme */\n",
       "    --sklearn-color-text-on-default-background: var(--sg-text-color, var(--theme-code-foreground, var(--jp-content-font-color1, white)));\n",
       "    --sklearn-color-background: var(--sg-background-color, var(--theme-background, var(--jp-layout-color0, #111)));\n",
       "    --sklearn-color-border-box: var(--sg-text-color, var(--theme-code-foreground, var(--jp-content-font-color1, white)));\n",
       "    --sklearn-color-icon: #878787;\n",
       "  }\n",
       "}\n",
       "\n",
       "#sk-container-id-4 {\n",
       "  color: var(--sklearn-color-text);\n",
       "}\n",
       "\n",
       "#sk-container-id-4 pre {\n",
       "  padding: 0;\n",
       "}\n",
       "\n",
       "#sk-container-id-4 input.sk-hidden--visually {\n",
       "  border: 0;\n",
       "  clip: rect(1px 1px 1px 1px);\n",
       "  clip: rect(1px, 1px, 1px, 1px);\n",
       "  height: 1px;\n",
       "  margin: -1px;\n",
       "  overflow: hidden;\n",
       "  padding: 0;\n",
       "  position: absolute;\n",
       "  width: 1px;\n",
       "}\n",
       "\n",
       "#sk-container-id-4 div.sk-dashed-wrapped {\n",
       "  border: 1px dashed var(--sklearn-color-line);\n",
       "  margin: 0 0.4em 0.5em 0.4em;\n",
       "  box-sizing: border-box;\n",
       "  padding-bottom: 0.4em;\n",
       "  background-color: var(--sklearn-color-background);\n",
       "}\n",
       "\n",
       "#sk-container-id-4 div.sk-container {\n",
       "  /* jupyter's `normalize.less` sets `[hidden] { display: none; }`\n",
       "     but bootstrap.min.css set `[hidden] { display: none !important; }`\n",
       "     so we also need the `!important` here to be able to override the\n",
       "     default hidden behavior on the sphinx rendered scikit-learn.org.\n",
       "     See: https://github.com/scikit-learn/scikit-learn/issues/21755 */\n",
       "  display: inline-block !important;\n",
       "  position: relative;\n",
       "}\n",
       "\n",
       "#sk-container-id-4 div.sk-text-repr-fallback {\n",
       "  display: none;\n",
       "}\n",
       "\n",
       "div.sk-parallel-item,\n",
       "div.sk-serial,\n",
       "div.sk-item {\n",
       "  /* draw centered vertical line to link estimators */\n",
       "  background-image: linear-gradient(var(--sklearn-color-text-on-default-background), var(--sklearn-color-text-on-default-background));\n",
       "  background-size: 2px 100%;\n",
       "  background-repeat: no-repeat;\n",
       "  background-position: center center;\n",
       "}\n",
       "\n",
       "/* Parallel-specific style estimator block */\n",
       "\n",
       "#sk-container-id-4 div.sk-parallel-item::after {\n",
       "  content: \"\";\n",
       "  width: 100%;\n",
       "  border-bottom: 2px solid var(--sklearn-color-text-on-default-background);\n",
       "  flex-grow: 1;\n",
       "}\n",
       "\n",
       "#sk-container-id-4 div.sk-parallel {\n",
       "  display: flex;\n",
       "  align-items: stretch;\n",
       "  justify-content: center;\n",
       "  background-color: var(--sklearn-color-background);\n",
       "  position: relative;\n",
       "}\n",
       "\n",
       "#sk-container-id-4 div.sk-parallel-item {\n",
       "  display: flex;\n",
       "  flex-direction: column;\n",
       "}\n",
       "\n",
       "#sk-container-id-4 div.sk-parallel-item:first-child::after {\n",
       "  align-self: flex-end;\n",
       "  width: 50%;\n",
       "}\n",
       "\n",
       "#sk-container-id-4 div.sk-parallel-item:last-child::after {\n",
       "  align-self: flex-start;\n",
       "  width: 50%;\n",
       "}\n",
       "\n",
       "#sk-container-id-4 div.sk-parallel-item:only-child::after {\n",
       "  width: 0;\n",
       "}\n",
       "\n",
       "/* Serial-specific style estimator block */\n",
       "\n",
       "#sk-container-id-4 div.sk-serial {\n",
       "  display: flex;\n",
       "  flex-direction: column;\n",
       "  align-items: center;\n",
       "  background-color: var(--sklearn-color-background);\n",
       "  padding-right: 1em;\n",
       "  padding-left: 1em;\n",
       "}\n",
       "\n",
       "\n",
       "/* Toggleable style: style used for estimator/Pipeline/ColumnTransformer box that is\n",
       "clickable and can be expanded/collapsed.\n",
       "- Pipeline and ColumnTransformer use this feature and define the default style\n",
       "- Estimators will overwrite some part of the style using the `sk-estimator` class\n",
       "*/\n",
       "\n",
       "/* Pipeline and ColumnTransformer style (default) */\n",
       "\n",
       "#sk-container-id-4 div.sk-toggleable {\n",
       "  /* Default theme specific background. It is overwritten whether we have a\n",
       "  specific estimator or a Pipeline/ColumnTransformer */\n",
       "  background-color: var(--sklearn-color-background);\n",
       "}\n",
       "\n",
       "/* Toggleable label */\n",
       "#sk-container-id-4 label.sk-toggleable__label {\n",
       "  cursor: pointer;\n",
       "  display: flex;\n",
       "  width: 100%;\n",
       "  margin-bottom: 0;\n",
       "  padding: 0.5em;\n",
       "  box-sizing: border-box;\n",
       "  text-align: center;\n",
       "  align-items: start;\n",
       "  justify-content: space-between;\n",
       "  gap: 0.5em;\n",
       "}\n",
       "\n",
       "#sk-container-id-4 label.sk-toggleable__label .caption {\n",
       "  font-size: 0.6rem;\n",
       "  font-weight: lighter;\n",
       "  color: var(--sklearn-color-text-muted);\n",
       "}\n",
       "\n",
       "#sk-container-id-4 label.sk-toggleable__label-arrow:before {\n",
       "  /* Arrow on the left of the label */\n",
       "  content: \"▸\";\n",
       "  float: left;\n",
       "  margin-right: 0.25em;\n",
       "  color: var(--sklearn-color-icon);\n",
       "}\n",
       "\n",
       "#sk-container-id-4 label.sk-toggleable__label-arrow:hover:before {\n",
       "  color: var(--sklearn-color-text);\n",
       "}\n",
       "\n",
       "/* Toggleable content - dropdown */\n",
       "\n",
       "#sk-container-id-4 div.sk-toggleable__content {\n",
       "  max-height: 0;\n",
       "  max-width: 0;\n",
       "  overflow: hidden;\n",
       "  text-align: left;\n",
       "  /* unfitted */\n",
       "  background-color: var(--sklearn-color-unfitted-level-0);\n",
       "}\n",
       "\n",
       "#sk-container-id-4 div.sk-toggleable__content.fitted {\n",
       "  /* fitted */\n",
       "  background-color: var(--sklearn-color-fitted-level-0);\n",
       "}\n",
       "\n",
       "#sk-container-id-4 div.sk-toggleable__content pre {\n",
       "  margin: 0.2em;\n",
       "  border-radius: 0.25em;\n",
       "  color: var(--sklearn-color-text);\n",
       "  /* unfitted */\n",
       "  background-color: var(--sklearn-color-unfitted-level-0);\n",
       "}\n",
       "\n",
       "#sk-container-id-4 div.sk-toggleable__content.fitted pre {\n",
       "  /* unfitted */\n",
       "  background-color: var(--sklearn-color-fitted-level-0);\n",
       "}\n",
       "\n",
       "#sk-container-id-4 input.sk-toggleable__control:checked~div.sk-toggleable__content {\n",
       "  /* Expand drop-down */\n",
       "  max-height: 200px;\n",
       "  max-width: 100%;\n",
       "  overflow: auto;\n",
       "}\n",
       "\n",
       "#sk-container-id-4 input.sk-toggleable__control:checked~label.sk-toggleable__label-arrow:before {\n",
       "  content: \"▾\";\n",
       "}\n",
       "\n",
       "/* Pipeline/ColumnTransformer-specific style */\n",
       "\n",
       "#sk-container-id-4 div.sk-label input.sk-toggleable__control:checked~label.sk-toggleable__label {\n",
       "  color: var(--sklearn-color-text);\n",
       "  background-color: var(--sklearn-color-unfitted-level-2);\n",
       "}\n",
       "\n",
       "#sk-container-id-4 div.sk-label.fitted input.sk-toggleable__control:checked~label.sk-toggleable__label {\n",
       "  background-color: var(--sklearn-color-fitted-level-2);\n",
       "}\n",
       "\n",
       "/* Estimator-specific style */\n",
       "\n",
       "/* Colorize estimator box */\n",
       "#sk-container-id-4 div.sk-estimator input.sk-toggleable__control:checked~label.sk-toggleable__label {\n",
       "  /* unfitted */\n",
       "  background-color: var(--sklearn-color-unfitted-level-2);\n",
       "}\n",
       "\n",
       "#sk-container-id-4 div.sk-estimator.fitted input.sk-toggleable__control:checked~label.sk-toggleable__label {\n",
       "  /* fitted */\n",
       "  background-color: var(--sklearn-color-fitted-level-2);\n",
       "}\n",
       "\n",
       "#sk-container-id-4 div.sk-label label.sk-toggleable__label,\n",
       "#sk-container-id-4 div.sk-label label {\n",
       "  /* The background is the default theme color */\n",
       "  color: var(--sklearn-color-text-on-default-background);\n",
       "}\n",
       "\n",
       "/* On hover, darken the color of the background */\n",
       "#sk-container-id-4 div.sk-label:hover label.sk-toggleable__label {\n",
       "  color: var(--sklearn-color-text);\n",
       "  background-color: var(--sklearn-color-unfitted-level-2);\n",
       "}\n",
       "\n",
       "/* Label box, darken color on hover, fitted */\n",
       "#sk-container-id-4 div.sk-label.fitted:hover label.sk-toggleable__label.fitted {\n",
       "  color: var(--sklearn-color-text);\n",
       "  background-color: var(--sklearn-color-fitted-level-2);\n",
       "}\n",
       "\n",
       "/* Estimator label */\n",
       "\n",
       "#sk-container-id-4 div.sk-label label {\n",
       "  font-family: monospace;\n",
       "  font-weight: bold;\n",
       "  display: inline-block;\n",
       "  line-height: 1.2em;\n",
       "}\n",
       "\n",
       "#sk-container-id-4 div.sk-label-container {\n",
       "  text-align: center;\n",
       "}\n",
       "\n",
       "/* Estimator-specific */\n",
       "#sk-container-id-4 div.sk-estimator {\n",
       "  font-family: monospace;\n",
       "  border: 1px dotted var(--sklearn-color-border-box);\n",
       "  border-radius: 0.25em;\n",
       "  box-sizing: border-box;\n",
       "  margin-bottom: 0.5em;\n",
       "  /* unfitted */\n",
       "  background-color: var(--sklearn-color-unfitted-level-0);\n",
       "}\n",
       "\n",
       "#sk-container-id-4 div.sk-estimator.fitted {\n",
       "  /* fitted */\n",
       "  background-color: var(--sklearn-color-fitted-level-0);\n",
       "}\n",
       "\n",
       "/* on hover */\n",
       "#sk-container-id-4 div.sk-estimator:hover {\n",
       "  /* unfitted */\n",
       "  background-color: var(--sklearn-color-unfitted-level-2);\n",
       "}\n",
       "\n",
       "#sk-container-id-4 div.sk-estimator.fitted:hover {\n",
       "  /* fitted */\n",
       "  background-color: var(--sklearn-color-fitted-level-2);\n",
       "}\n",
       "\n",
       "/* Specification for estimator info (e.g. \"i\" and \"?\") */\n",
       "\n",
       "/* Common style for \"i\" and \"?\" */\n",
       "\n",
       ".sk-estimator-doc-link,\n",
       "a:link.sk-estimator-doc-link,\n",
       "a:visited.sk-estimator-doc-link {\n",
       "  float: right;\n",
       "  font-size: smaller;\n",
       "  line-height: 1em;\n",
       "  font-family: monospace;\n",
       "  background-color: var(--sklearn-color-background);\n",
       "  border-radius: 1em;\n",
       "  height: 1em;\n",
       "  width: 1em;\n",
       "  text-decoration: none !important;\n",
       "  margin-left: 0.5em;\n",
       "  text-align: center;\n",
       "  /* unfitted */\n",
       "  border: var(--sklearn-color-unfitted-level-1) 1pt solid;\n",
       "  color: var(--sklearn-color-unfitted-level-1);\n",
       "}\n",
       "\n",
       ".sk-estimator-doc-link.fitted,\n",
       "a:link.sk-estimator-doc-link.fitted,\n",
       "a:visited.sk-estimator-doc-link.fitted {\n",
       "  /* fitted */\n",
       "  border: var(--sklearn-color-fitted-level-1) 1pt solid;\n",
       "  color: var(--sklearn-color-fitted-level-1);\n",
       "}\n",
       "\n",
       "/* On hover */\n",
       "div.sk-estimator:hover .sk-estimator-doc-link:hover,\n",
       ".sk-estimator-doc-link:hover,\n",
       "div.sk-label-container:hover .sk-estimator-doc-link:hover,\n",
       ".sk-estimator-doc-link:hover {\n",
       "  /* unfitted */\n",
       "  background-color: var(--sklearn-color-unfitted-level-3);\n",
       "  color: var(--sklearn-color-background);\n",
       "  text-decoration: none;\n",
       "}\n",
       "\n",
       "div.sk-estimator.fitted:hover .sk-estimator-doc-link.fitted:hover,\n",
       ".sk-estimator-doc-link.fitted:hover,\n",
       "div.sk-label-container:hover .sk-estimator-doc-link.fitted:hover,\n",
       ".sk-estimator-doc-link.fitted:hover {\n",
       "  /* fitted */\n",
       "  background-color: var(--sklearn-color-fitted-level-3);\n",
       "  color: var(--sklearn-color-background);\n",
       "  text-decoration: none;\n",
       "}\n",
       "\n",
       "/* Span, style for the box shown on hovering the info icon */\n",
       ".sk-estimator-doc-link span {\n",
       "  display: none;\n",
       "  z-index: 9999;\n",
       "  position: relative;\n",
       "  font-weight: normal;\n",
       "  right: .2ex;\n",
       "  padding: .5ex;\n",
       "  margin: .5ex;\n",
       "  width: min-content;\n",
       "  min-width: 20ex;\n",
       "  max-width: 50ex;\n",
       "  color: var(--sklearn-color-text);\n",
       "  box-shadow: 2pt 2pt 4pt #999;\n",
       "  /* unfitted */\n",
       "  background: var(--sklearn-color-unfitted-level-0);\n",
       "  border: .5pt solid var(--sklearn-color-unfitted-level-3);\n",
       "}\n",
       "\n",
       ".sk-estimator-doc-link.fitted span {\n",
       "  /* fitted */\n",
       "  background: var(--sklearn-color-fitted-level-0);\n",
       "  border: var(--sklearn-color-fitted-level-3);\n",
       "}\n",
       "\n",
       ".sk-estimator-doc-link:hover span {\n",
       "  display: block;\n",
       "}\n",
       "\n",
       "/* \"?\"-specific style due to the `<a>` HTML tag */\n",
       "\n",
       "#sk-container-id-4 a.estimator_doc_link {\n",
       "  float: right;\n",
       "  font-size: 1rem;\n",
       "  line-height: 1em;\n",
       "  font-family: monospace;\n",
       "  background-color: var(--sklearn-color-background);\n",
       "  border-radius: 1rem;\n",
       "  height: 1rem;\n",
       "  width: 1rem;\n",
       "  text-decoration: none;\n",
       "  /* unfitted */\n",
       "  color: var(--sklearn-color-unfitted-level-1);\n",
       "  border: var(--sklearn-color-unfitted-level-1) 1pt solid;\n",
       "}\n",
       "\n",
       "#sk-container-id-4 a.estimator_doc_link.fitted {\n",
       "  /* fitted */\n",
       "  border: var(--sklearn-color-fitted-level-1) 1pt solid;\n",
       "  color: var(--sklearn-color-fitted-level-1);\n",
       "}\n",
       "\n",
       "/* On hover */\n",
       "#sk-container-id-4 a.estimator_doc_link:hover {\n",
       "  /* unfitted */\n",
       "  background-color: var(--sklearn-color-unfitted-level-3);\n",
       "  color: var(--sklearn-color-background);\n",
       "  text-decoration: none;\n",
       "}\n",
       "\n",
       "#sk-container-id-4 a.estimator_doc_link.fitted:hover {\n",
       "  /* fitted */\n",
       "  background-color: var(--sklearn-color-fitted-level-3);\n",
       "}\n",
       "</style><div id=\"sk-container-id-4\" class=\"sk-top-container\"><div class=\"sk-text-repr-fallback\"><pre>XGBClassifier(base_score=None, booster=None, callbacks=None,\n",
       "              colsample_bylevel=None, colsample_bynode=None,\n",
       "              colsample_bytree=0.6301178022185321, device=None,\n",
       "              early_stopping_rounds=None, enable_categorical=False,\n",
       "              eval_metric=&#x27;logloss&#x27;, feature_types=None,\n",
       "              gamma=0.14855528948588556, grow_policy=None, importance_type=None,\n",
       "              interaction_constraints=None, learning_rate=0.010414663135389055,\n",
       "              max_bin=None, max_cat_threshold=None, max_cat_to_onehot=None,\n",
       "              max_delta_step=None, max_depth=4, max_leaves=None,\n",
       "              min_child_weight=2, missing=nan, monotone_constraints=None,\n",
       "              multi_strategy=None, n_estimators=278, n_jobs=None,\n",
       "              num_parallel_tree=None, random_state=None, ...)</pre><b>In a Jupyter environment, please rerun this cell to show the HTML representation or trust the notebook. <br />On GitHub, the HTML representation is unable to render, please try loading this page with nbviewer.org.</b></div><div class=\"sk-container\" hidden><div class=\"sk-item\"><div class=\"sk-estimator fitted sk-toggleable\"><input class=\"sk-toggleable__control sk-hidden--visually\" id=\"sk-estimator-id-4\" type=\"checkbox\" checked><label for=\"sk-estimator-id-4\" class=\"sk-toggleable__label fitted sk-toggleable__label-arrow\"><div><div>XGBClassifier</div></div><div><span class=\"sk-estimator-doc-link fitted\">i<span>Fitted</span></span></div></label><div class=\"sk-toggleable__content fitted\"><pre>XGBClassifier(base_score=None, booster=None, callbacks=None,\n",
       "              colsample_bylevel=None, colsample_bynode=None,\n",
       "              colsample_bytree=0.6301178022185321, device=None,\n",
       "              early_stopping_rounds=None, enable_categorical=False,\n",
       "              eval_metric=&#x27;logloss&#x27;, feature_types=None,\n",
       "              gamma=0.14855528948588556, grow_policy=None, importance_type=None,\n",
       "              interaction_constraints=None, learning_rate=0.010414663135389055,\n",
       "              max_bin=None, max_cat_threshold=None, max_cat_to_onehot=None,\n",
       "              max_delta_step=None, max_depth=4, max_leaves=None,\n",
       "              min_child_weight=2, missing=nan, monotone_constraints=None,\n",
       "              multi_strategy=None, n_estimators=278, n_jobs=None,\n",
       "              num_parallel_tree=None, random_state=None, ...)</pre></div> </div></div></div></div>"
      ],
      "text/plain": [
       "XGBClassifier(base_score=None, booster=None, callbacks=None,\n",
       "              colsample_bylevel=None, colsample_bynode=None,\n",
       "              colsample_bytree=0.6301178022185321, device=None,\n",
       "              early_stopping_rounds=None, enable_categorical=False,\n",
       "              eval_metric='logloss', feature_types=None,\n",
       "              gamma=0.14855528948588556, grow_policy=None, importance_type=None,\n",
       "              interaction_constraints=None, learning_rate=0.010414663135389055,\n",
       "              max_bin=None, max_cat_threshold=None, max_cat_to_onehot=None,\n",
       "              max_delta_step=None, max_depth=4, max_leaves=None,\n",
       "              min_child_weight=2, missing=nan, monotone_constraints=None,\n",
       "              multi_strategy=None, n_estimators=278, n_jobs=None,\n",
       "              num_parallel_tree=None, random_state=None, ...)"
      ]
     },
     "execution_count": 126,
     "metadata": {},
     "output_type": "execute_result"
    }
   ],
   "source": [
    "best_params = study.best_params\n",
    "\n",
    "# Build final model with best params\n",
    "final_model = XGBClassifier(\n",
    "    **best_params,\n",
    "    use_label_encoder=False,\n",
    "    eval_metric=\"logloss\"\n",
    ")\n",
    "\n",
    "# Fit to full training data\n",
    "final_model.fit(X_train, y_train)"
   ]
  },
  {
   "cell_type": "code",
   "execution_count": 127,
   "metadata": {},
   "outputs": [
    {
     "name": "stdout",
     "output_type": "stream",
     "text": [
      "              precision    recall  f1-score   support\n",
      "\n",
      "           0       1.00      0.71      0.83    631626\n",
      "           1       0.06      0.87      0.11     12870\n",
      "\n",
      "    accuracy                           0.72    644496\n",
      "   macro avg       0.53      0.79      0.47    644496\n",
      "weighted avg       0.98      0.72      0.82    644496\n",
      "\n"
     ]
    },
    {
     "data": {
      "text/plain": [
       "['xgb_12.pkl']"
      ]
     },
     "execution_count": 127,
     "metadata": {},
     "output_type": "execute_result"
    }
   ],
   "source": [
    "print(classification_report(y_train, y_pred))\n",
    "joblib.dump((final_model, top_features), \"xgb_12.pkl\")"
   ]
  },
  {
   "cell_type": "code",
   "execution_count": 128,
   "metadata": {},
   "outputs": [
    {
     "name": "stdout",
     "output_type": "stream",
     "text": [
      "              precision    recall  f1-score   support\n",
      "\n",
      "           0       1.00      0.65      0.79    157907\n",
      "           1       0.05      0.91      0.10      3217\n",
      "\n",
      "    accuracy                           0.66    161124\n",
      "   macro avg       0.52      0.78      0.44    161124\n",
      "weighted avg       0.98      0.66      0.78    161124\n",
      "\n",
      "AUC-ROC: 0.876762145869773\n",
      "AUC-PR: 0.17155633134792103\n",
      "Top-5% Precision: 0.0520\n"
     ]
    }
   ],
   "source": [
    "y_pred = final_model.predict(X_test)\n",
    "y_pred_proba = final_model.predict_proba(X_test)[:, 1]\n",
    "\n",
    "print(classification_report(y_test, y_pred))\n",
    "print(f\"AUC-ROC: {roc_auc_score(y_test, y_pred_proba)}\")\n",
    "print(\"AUC-PR:\", average_precision_score(y_test, y_pred_proba))\n",
    "df_preds = precision_at_k(y_test, y_pred, k_percent=0.05)"
   ]
  },
  {
   "cell_type": "code",
   "execution_count": 129,
   "metadata": {},
   "outputs": [],
   "source": [
    "final_model = XGBClassifier(**study.best_params, eval_metric=\"logloss\")\n",
    "final_model.fit(X_train, y_train)\n",
    "final_model.save_model(\"return_flagger_xgb_optuna.json\")"
   ]
  },
  {
   "cell_type": "code",
   "execution_count": 130,
   "metadata": {},
   "outputs": [
    {
     "name": "stdout",
     "output_type": "stream",
     "text": [
      "\n",
      "Classification Report:\n",
      "\n",
      "              precision    recall  f1-score   support\n",
      "\n",
      "           0       1.00      0.65      0.79    157907\n",
      "           1       0.05      0.91      0.10      3217\n",
      "\n",
      "    accuracy                           0.66    161124\n",
      "   macro avg       0.52      0.78      0.44    161124\n",
      "weighted avg       0.98      0.66      0.78    161124\n",
      "\n",
      "Confusion Matrix:\n",
      " [[103281  54626]\n",
      " [   300   2917]]\n"
     ]
    },
    {
     "data": {
      "image/png": "[encoded data removed]",
      "text/plain": [
       "<Figure size 800x710 with 2 Axes>"
      ]
     },
     "metadata": {},
     "output_type": "display_data"
    }
   ],
   "source": [
    "# Evaluate on training set (or use a holdout test set if available)\n",
    "y_pred = final_model.predict(X_test)\n",
    "print(\"\\nClassification Report:\\n\")\n",
    "print(classification_report(y_test, y_pred))\n",
    "print(\"Confusion Matrix:\\n\", confusion_matrix(y_test, y_pred))\n",
    "\n",
    "# SHAP explanations (optional but great for interpretability)\n",
    "explainer = shap.Explainer(final_model)\n",
    "shap_values = explainer(X_test)\n",
    "\n",
    "# Summary plot\n",
    "shap.summary_plot(shap_values, X_test)\n",
    "\n",
    "# Save important features\n",
    "feature_importance = pd.Series(final_model.feature_importances_, index=X_test.columns)\n",
    "feature_importance.sort_values(ascending=False).to_csv(\"feature_importance.csv\")"
   ]
  },
  {
   "cell_type": "code",
   "execution_count": 131,
   "metadata": {},
   "outputs": [],
   "source": [
    "# Save X (features)\n",
    "X_train.to_csv(\"X_train_selected.csv\", index=False)\n",
    "X_test.to_csv(\"X_test_selected.csv\", index=False)\n",
    "\n",
    "# Save y (target)\n",
    "y_train.to_csv(\"y_train.csv\", index=False)\n",
    "y_test.to_csv(\"y_test.csv\", index=False)"
   ]
  },
  {
   "cell_type": "markdown",
   "metadata": {},
   "source": [
    "#### Benchmark with logistic regression."
   ]
  },
  {
   "cell_type": "code",
   "execution_count": 132,
   "metadata": {},
   "outputs": [
    {
     "data": {
      "text/html": [
       "<div>\n",
       "<style scoped>\n",
       "    .dataframe tbody tr th:only-of-type {\n",
       "        vertical-align: middle;\n",
       "    }\n",
       "\n",
       "    .dataframe tbody tr th {\n",
       "        vertical-align: top;\n",
       "    }\n",
       "\n",
       "    .dataframe thead th {\n",
       "        text-align: right;\n",
       "    }\n",
       "</style>\n",
       "<table border=\"1\" class=\"dataframe\">\n",
       "  <thead>\n",
       "    <tr style=\"text-align: right;\">\n",
       "      <th></th>\n",
       "      <th>CustomerReturnRate</th>\n",
       "      <th>CustomerNumOfReturns</th>\n",
       "      <th>TotalLineValue</th>\n",
       "      <th>Price</th>\n",
       "      <th>CustomerTotalSpend</th>\n",
       "      <th>Quantity</th>\n",
       "      <th>CustomerAvgSpend</th>\n",
       "      <th>InvoiceMonth_cos</th>\n",
       "      <th>CustomerTotalItems</th>\n",
       "      <th>InvoiceMonth_sin</th>\n",
       "      <th>CustomerOrdersPlaced</th>\n",
       "      <th>CustomerLoyaltySpan</th>\n",
       "      <th>CustomerAvgBasketSize</th>\n",
       "      <th>CustomerDaysActive</th>\n",
       "    </tr>\n",
       "  </thead>\n",
       "  <tbody>\n",
       "    <tr>\n",
       "      <th>116868</th>\n",
       "      <td>0.000000</td>\n",
       "      <td>0</td>\n",
       "      <td>6.30</td>\n",
       "      <td>2.10</td>\n",
       "      <td>2093.06</td>\n",
       "      <td>3</td>\n",
       "      <td>190.278182</td>\n",
       "      <td>-0.500000</td>\n",
       "      <td>1308</td>\n",
       "      <td>8.660254e-01</td>\n",
       "      <td>11</td>\n",
       "      <td>725</td>\n",
       "      <td>118.909091</td>\n",
       "      <td>10</td>\n",
       "    </tr>\n",
       "    <tr>\n",
       "      <th>220051</th>\n",
       "      <td>0.036082</td>\n",
       "      <td>7</td>\n",
       "      <td>17.70</td>\n",
       "      <td>2.95</td>\n",
       "      <td>3213.72</td>\n",
       "      <td>6</td>\n",
       "      <td>214.248000</td>\n",
       "      <td>-0.866025</td>\n",
       "      <td>1662</td>\n",
       "      <td>-5.000000e-01</td>\n",
       "      <td>15</td>\n",
       "      <td>689</td>\n",
       "      <td>110.800000</td>\n",
       "      <td>15</td>\n",
       "    </tr>\n",
       "    <tr>\n",
       "      <th>296179</th>\n",
       "      <td>0.000000</td>\n",
       "      <td>0</td>\n",
       "      <td>15.00</td>\n",
       "      <td>1.25</td>\n",
       "      <td>1550.63</td>\n",
       "      <td>12</td>\n",
       "      <td>310.126000</td>\n",
       "      <td>0.500000</td>\n",
       "      <td>1550</td>\n",
       "      <td>-8.660254e-01</td>\n",
       "      <td>5</td>\n",
       "      <td>217</td>\n",
       "      <td>310.000000</td>\n",
       "      <td>5</td>\n",
       "    </tr>\n",
       "    <tr>\n",
       "      <th>394375</th>\n",
       "      <td>0.001664</td>\n",
       "      <td>3</td>\n",
       "      <td>2.95</td>\n",
       "      <td>2.95</td>\n",
       "      <td>24516.46</td>\n",
       "      <td>1</td>\n",
       "      <td>454.008519</td>\n",
       "      <td>1.000000</td>\n",
       "      <td>12666</td>\n",
       "      <td>-2.449294e-16</td>\n",
       "      <td>54</td>\n",
       "      <td>729</td>\n",
       "      <td>234.555556</td>\n",
       "      <td>51</td>\n",
       "    </tr>\n",
       "    <tr>\n",
       "      <th>787578</th>\n",
       "      <td>0.000000</td>\n",
       "      <td>0</td>\n",
       "      <td>2.55</td>\n",
       "      <td>0.85</td>\n",
       "      <td>303.09</td>\n",
       "      <td>3</td>\n",
       "      <td>75.772500</td>\n",
       "      <td>0.866025</td>\n",
       "      <td>263</td>\n",
       "      <td>-5.000000e-01</td>\n",
       "      <td>4</td>\n",
       "      <td>0</td>\n",
       "      <td>65.750000</td>\n",
       "      <td>2</td>\n",
       "    </tr>\n",
       "  </tbody>\n",
       "</table>\n",
       "</div>"
      ],
      "text/plain": [
       "        CustomerReturnRate  CustomerNumOfReturns  TotalLineValue  Price  \\\n",
       "116868            0.000000                     0            6.30   2.10   \n",
       "220051            0.036082                     7           17.70   2.95   \n",
       "296179            0.000000                     0           15.00   1.25   \n",
       "394375            0.001664                     3            2.95   2.95   \n",
       "787578            0.000000                     0            2.55   0.85   \n",
       "\n",
       "        CustomerTotalSpend  Quantity  CustomerAvgSpend  InvoiceMonth_cos  \\\n",
       "116868             2093.06         3        190.278182         -0.500000   \n",
       "220051             3213.72         6        214.248000         -0.866025   \n",
       "296179             1550.63        12        310.126000          0.500000   \n",
       "394375            24516.46         1        454.008519          1.000000   \n",
       "787578              303.09         3         75.772500          0.866025   \n",
       "\n",
       "        CustomerTotalItems  InvoiceMonth_sin  CustomerOrdersPlaced  \\\n",
       "116868                1308      8.660254e-01                    11   \n",
       "220051                1662     -5.000000e-01                    15   \n",
       "296179                1550     -8.660254e-01                     5   \n",
       "394375               12666     -2.449294e-16                    54   \n",
       "787578                 263     -5.000000e-01                     4   \n",
       "\n",
       "        CustomerLoyaltySpan  CustomerAvgBasketSize  CustomerDaysActive  \n",
       "116868                  725             118.909091                  10  \n",
       "220051                  689             110.800000                  15  \n",
       "296179                  217             310.000000                   5  \n",
       "394375                  729             234.555556                  51  \n",
       "787578                    0              65.750000                   2  "
      ]
     },
     "execution_count": 132,
     "metadata": {},
     "output_type": "execute_result"
    }
   ],
   "source": [
    "X_train.head()"
   ]
  },
  {
   "cell_type": "code",
   "execution_count": 134,
   "metadata": {},
   "outputs": [],
   "source": [
    "from sklearn.preprocessing import StandardScaler\n",
    "\n",
    "# Features to exclude from scaling\n",
    "exclude = ['InvoiceMonth_sin', 'InvoiceMonth_cos']\n",
    "features_to_scale = [col for col in X_train.columns if col not in exclude]\n",
    "\n",
    "X_train_features_to_scale = X_train[features_to_scale]\n",
    "X_test_features_to_scale = X_test[features_to_scale]\n",
    "\n",
    "# Fit scaler on training data\n",
    "scaler = StandardScaler()\n",
    "X_train_scaled = scaler.fit_transform(X_train_features_to_scale)\n",
    "\n",
    "# Apply same scaler to test data\n",
    "X_test_scaled = scaler.transform(X_test_features_to_scale)\n",
    "\n",
    "# Convert scaled features back to DataFrames\n",
    "X_train_scaled_df = pd.DataFrame(X_train_scaled, columns=features_to_scale, index=X_train.index)\n",
    "X_test_scaled_df = pd.DataFrame(X_test_scaled, columns=features_to_scale, index=X_test.index)\n",
    "\n",
    "# Keep the excluded columns as-is\n",
    "X_train_excluded = X_train[exclude]\n",
    "X_test_excluded = X_test[exclude]\n",
    "\n",
    "# Recombine scaled and excluded features\n",
    "X_train_final = pd.concat([X_train_scaled_df, X_train_excluded], axis=1)\n",
    "X_test_final = pd.concat([X_test_scaled_df, X_test_excluded], axis=1)"
   ]
  },
  {
   "cell_type": "code",
   "execution_count": 137,
   "metadata": {},
   "outputs": [
    {
     "name": "stdout",
     "output_type": "stream",
     "text": [
      "🔍 Logistic Regression Classification Report:\n",
      "              precision    recall  f1-score   support\n",
      "\n",
      "           0       0.99      0.85      0.91    157907\n",
      "           1       0.08      0.67      0.14      3217\n",
      "\n",
      "    accuracy                           0.84    161124\n",
      "   macro avg       0.54      0.76      0.53    161124\n",
      "weighted avg       0.97      0.84      0.90    161124\n",
      "\n",
      "AUC-ROC: 0.8587724153133982\n",
      "AUC-PR: 0.06072749364659636\n"
     ]
    }
   ],
   "source": [
    "from sklearn.linear_model import LogisticRegression\n",
    "\n",
    "# Logistic Regression with balanced class weight for fairness\n",
    "log_model = LogisticRegression(class_weight='balanced', max_iter=1000, random_state=42)\n",
    "log_model.fit(X_train_final, y_train)\n",
    "\n",
    "# Predict using cross-validation\n",
    "cv = StratifiedKFold(n_splits=5, shuffle=True, random_state=42)\n",
    "y_pred_log = cross_val_predict(log_model, X_test_final, y_test, cv=cv)\n",
    "y_proba_log = cross_val_predict(log_model, X_test_final, y_test, cv=cv, method='predict_proba')[:, 1]\n",
    "\n",
    "# Evaluation\n",
    "print(\"🔍 Logistic Regression Classification Report:\")\n",
    "print(classification_report(y_test, y_pred_log))\n",
    "\n",
    "# AUC-ROC\n",
    "roc_auc_log = roc_auc_score(y_test, y_proba_log)\n",
    "print(\"AUC-ROC:\", roc_auc_log)\n",
    "\n",
    "# AUC-PR\n",
    "print(\"AUC-PR:\", average_precision_score(y_test, y_pred_log))"
   ]
  },
  {
   "cell_type": "code",
   "execution_count": 138,
   "metadata": {},
   "outputs": [
    {
     "name": "stdout",
     "output_type": "stream",
     "text": [
      "[[ 1.26232941  0.1093588   0.51850304  2.30774765 -0.25132816 -0.02726357\n",
      "   0.01646424  0.10999937  0.0513071   0.19788034 -0.0276608   0.02972442\n",
      "   0.06704036 -0.13142447]]\n"
     ]
    }
   ],
   "source": [
    "print(log_model.coef_) "
   ]
  },
  {
   "cell_type": "code",
   "execution_count": 139,
   "metadata": {},
   "outputs": [
    {
     "data": {
      "text/plain": [
       "Index(['CustomerReturnRate', 'CustomerNumOfReturns', 'TotalLineValue', 'Price',\n",
       "       'CustomerTotalSpend', 'Quantity', 'CustomerAvgSpend',\n",
       "       'CustomerTotalItems', 'CustomerOrdersPlaced', 'CustomerLoyaltySpan',\n",
       "       'CustomerAvgBasketSize', 'CustomerDaysActive', 'InvoiceMonth_sin',\n",
       "       'InvoiceMonth_cos'],\n",
       "      dtype='object')"
      ]
     },
     "execution_count": 139,
     "metadata": {},
     "output_type": "execute_result"
    }
   ],
   "source": [
    "X_train_final.columns"
   ]
  },
  {
   "cell_type": "code",
   "execution_count": 141,
   "metadata": {},
   "outputs": [
    {
     "name": "stdout",
     "output_type": "stream",
     "text": [
      "🔍 Logistic Regression Classification Report:\n",
      "              precision    recall  f1-score   support\n",
      "\n",
      "           0       0.99      0.83      0.90    157907\n",
      "           1       0.07      0.67      0.13      3217\n",
      "\n",
      "    accuracy                           0.82    161124\n",
      "   macro avg       0.53      0.75      0.52    161124\n",
      "weighted avg       0.97      0.82      0.89    161124\n",
      "\n",
      "AUC-ROC: 0.8481487361190765\n",
      "AUC-PR: 0.05548440550413488\n"
     ]
    }
   ],
   "source": [
    "from sklearn.linear_model import LogisticRegressionCV\n",
    "\n",
    "log_cv = LogisticRegressionCV(\n",
    "    Cs=10,  # Try 10 values from small to large\n",
    "    cv=5,\n",
    "    scoring='recall',  # You can also try 'f1' or 'average_precision'\n",
    "    class_weight='balanced',\n",
    "    penalty='l2',  # Ridge regularization\n",
    "    solver='liblinear',\n",
    "    max_iter=1000,\n",
    "    random_state=42\n",
    ")\n",
    "log_cv.fit(X_train_final, y_train)\n",
    "\n",
    "# Predict using cross-validation\n",
    "cv = StratifiedKFold(n_splits=5, shuffle=True, random_state=42)\n",
    "y_pred_log = cross_val_predict(log_cv, X_test_final, y_test, cv=cv)\n",
    "y_proba_log = cross_val_predict(log_cv, X_test_final, y_test, cv=cv, method='predict_proba')[:, 1]\n",
    "\n",
    "# Evaluation\n",
    "print(\"🔍 Logistic Regression Classification Report:\")\n",
    "print(classification_report(y_test, y_pred_log))\n",
    "\n",
    "# AUC-ROC\n",
    "roc_auc_log = roc_auc_score(y_test, y_proba_log)\n",
    "print(\"AUC-ROC:\", roc_auc_log)\n",
    "\n",
    "# AUC-PR\n",
    "print(\"AUC-PR:\", average_precision_score(y_test, y_pred_log))"
   ]
  },
  {
   "cell_type": "code",
   "execution_count": null,
   "metadata": {},
   "outputs": [],
   "source": []
  }
 ],
 "metadata": {
  "kernelspec": {
   "display_name": "Python 3",
   "language": "python",
   "name": "python3"
  },
  "language_info": {
   "codemirror_mode": {
    "name": "ipython",
    "version": 3
   },
   "file_extension": ".py",
   "mimetype": "text/x-python",
   "name": "python",
   "nbconvert_exporter": "python",
   "pygments_lexer": "ipython3",
   "version": "3.13.2"
  }
 },
 "nbformat": 4,
 "nbformat_minor": 2
}
