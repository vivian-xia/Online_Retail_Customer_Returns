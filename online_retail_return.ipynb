{
 "cells": [
  {
   "cell_type": "markdown",
   "metadata": {},
   "source": [
    "Transaction level return prediction: Predict IsReturn for each invoice\n",
    "\n",
    "Goal in Real Life Application: Proactively suggest alternatives so recall is more important since it's ok to suggest alternatives to more people but you do want to capture those that will most likely return and suggest alternatives "
   ]
  },
  {
   "cell_type": "code",
   "execution_count": 105,
   "metadata": {},
   "outputs": [],
   "source": [
    "import pandas as pd\n",
    "import numpy as np\n",
    "import matplotlib.pyplot as plt\n",
    "import seaborn as sns\n",
    "from sklearn.model_selection import train_test_split\n",
    "from xgboost import XGBClassifier\n",
    "import joblib\n",
    "from joblib import load\n",
    "\n",
    "from sklearn.metrics import classification_report, roc_auc_score, average_precision_score, auc\n",
    "from imblearn.over_sampling import SMOTE #install imbalanced-learn\n",
    "import shap\n",
    "from sklearn.feature_selection import RFE\n",
    "from sklearn.metrics import classification_report, confusion_matrix\n",
    "from sklearn.metrics import precision_recall_curve"
   ]
  },
  {
   "cell_type": "code",
   "execution_count": 2,
   "metadata": {},
   "outputs": [
    {
     "data": {
      "text/plain": [
       "IsReturn\n",
       "0    789533\n",
       "1     16087\n",
       "Name: count, dtype: int64"
      ]
     },
     "execution_count": 2,
     "metadata": {},
     "output_type": "execute_result"
    }
   ],
   "source": [
    "df = pd.read_csv('online_retail_cleaned.csv')\n",
    "df.IsReturn.value_counts()"
   ]
  },
  {
   "cell_type": "code",
   "execution_count": 3,
   "metadata": {},
   "outputs": [
    {
     "name": "stdout",
     "output_type": "stream",
     "text": [
      "<class 'pandas.core.frame.DataFrame'>\n",
      "RangeIndex: 805620 entries, 0 to 805619\n",
      "Data columns (total 72 columns):\n",
      " #   Column                        Non-Null Count   Dtype  \n",
      "---  ------                        --------------   -----  \n",
      " 0   Invoice                       805620 non-null  int64  \n",
      " 1   StockCode                     805620 non-null  object \n",
      " 2   Description                   805620 non-null  object \n",
      " 3   Quantity                      805620 non-null  int64  \n",
      " 4   InvoiceDate                   805620 non-null  object \n",
      " 5   Price                         805620 non-null  float64\n",
      " 6   Customer ID                   805620 non-null  float64\n",
      " 7   Country                       805620 non-null  object \n",
      " 8   IsReturn                      805620 non-null  int64  \n",
      " 9   InvoiceHour                   805620 non-null  int64  \n",
      " 10  Time_Afternoon                805620 non-null  int64  \n",
      " 11  Time_Evening                  805620 non-null  int64  \n",
      " 12  Time_Morning                  805620 non-null  int64  \n",
      " 13  InvoiceDayOfWeek              805620 non-null  int64  \n",
      " 14  InvoiceMonth                  805620 non-null  int64  \n",
      " 15  IsWeekend                     805620 non-null  int64  \n",
      " 16  TotalLineValue                805620 non-null  float64\n",
      " 17  CustomerOrdersPlaced          805620 non-null  int64  \n",
      " 18  CustomerTotalItems            805620 non-null  int64  \n",
      " 19  CustomerTotalSpend            805620 non-null  float64\n",
      " 20  CustomerDaysActive            805620 non-null  int64  \n",
      " 21  CustomerAvgBasketSize         805620 non-null  float64\n",
      " 22  CustomerAvgSpend              805620 non-null  float64\n",
      " 23  CustomerLoyaltySpan           805620 non-null  int64  \n",
      " 24  Active_Engaged                805620 non-null  int64  \n",
      " 25  Active_Occasional             805620 non-null  int64  \n",
      " 26  Active_One-Time               805620 non-null  int64  \n",
      " 27  Active_Repeat Loyal           805620 non-null  int64  \n",
      " 28  Active_Super Active           805620 non-null  int64  \n",
      " 29  CustomerNumOfReturns          805620 non-null  int64  \n",
      " 30  CustomerReturnRate            805620 non-null  float64\n",
      " 31  Country_Australia             805620 non-null  int64  \n",
      " 32  Country_Austria               805620 non-null  int64  \n",
      " 33  Country_Bahrain               805620 non-null  int64  \n",
      " 34  Country_Belgium               805620 non-null  int64  \n",
      " 35  Country_Brazil                805620 non-null  int64  \n",
      " 36  Country_Canada                805620 non-null  int64  \n",
      " 37  Country_Channel Islands       805620 non-null  int64  \n",
      " 38  Country_Cyprus                805620 non-null  int64  \n",
      " 39  Country_Czech Republic        805620 non-null  int64  \n",
      " 40  Country_Denmark               805620 non-null  int64  \n",
      " 41  Country_EIRE                  805620 non-null  int64  \n",
      " 42  Country_European Community    805620 non-null  int64  \n",
      " 43  Country_Finland               805620 non-null  int64  \n",
      " 44  Country_France                805620 non-null  int64  \n",
      " 45  Country_Germany               805620 non-null  int64  \n",
      " 46  Country_Greece                805620 non-null  int64  \n",
      " 47  Country_Iceland               805620 non-null  int64  \n",
      " 48  Country_Israel                805620 non-null  int64  \n",
      " 49  Country_Italy                 805620 non-null  int64  \n",
      " 50  Country_Japan                 805620 non-null  int64  \n",
      " 51  Country_Korea                 805620 non-null  int64  \n",
      " 52  Country_Lebanon               805620 non-null  int64  \n",
      " 53  Country_Lithuania             805620 non-null  int64  \n",
      " 54  Country_Malta                 805620 non-null  int64  \n",
      " 55  Country_Netherlands           805620 non-null  int64  \n",
      " 56  Country_Nigeria               805620 non-null  int64  \n",
      " 57  Country_Norway                805620 non-null  int64  \n",
      " 58  Country_Poland                805620 non-null  int64  \n",
      " 59  Country_Portugal              805620 non-null  int64  \n",
      " 60  Country_RSA                   805620 non-null  int64  \n",
      " 61  Country_Saudi Arabia          805620 non-null  int64  \n",
      " 62  Country_Singapore             805620 non-null  int64  \n",
      " 63  Country_Spain                 805620 non-null  int64  \n",
      " 64  Country_Sweden                805620 non-null  int64  \n",
      " 65  Country_Switzerland           805620 non-null  int64  \n",
      " 66  Country_Thailand              805620 non-null  int64  \n",
      " 67  Country_USA                   805620 non-null  int64  \n",
      " 68  Country_United Arab Emirates  805620 non-null  int64  \n",
      " 69  Country_United Kingdom        805620 non-null  int64  \n",
      " 70  Country_Unspecified           805620 non-null  int64  \n",
      " 71  Country_West Indies           805620 non-null  int64  \n",
      "dtypes: float64(7), int64(61), object(4)\n",
      "memory usage: 442.5+ MB\n"
     ]
    }
   ],
   "source": [
    "df.info()"
   ]
  },
  {
   "cell_type": "code",
   "execution_count": 4,
   "metadata": {},
   "outputs": [],
   "source": [
    "# Define target variable\n",
    "y = df['IsReturn']\n",
    "\n",
    "# Drop columns that should not be used as features\n",
    "X = df.drop(columns=['Customer ID','IsReturn', 'Invoice', 'InvoiceDate', 'StockCode','Description',\"Country\"]) "
   ]
  },
  {
   "cell_type": "code",
   "execution_count": 5,
   "metadata": {},
   "outputs": [],
   "source": [
    "X_train, X_test, y_train, y_test = train_test_split(\n",
    "    X, y,\n",
    "    test_size=0.2,\n",
    "    stratify=y,  # Ensures class ratio consistency\n",
    "    random_state=42\n",
    ")"
   ]
  },
  {
   "cell_type": "code",
   "execution_count": 6,
   "metadata": {},
   "outputs": [
    {
     "name": "stdout",
     "output_type": "stream",
     "text": [
      "scale_pos_weight: 49.08\n"
     ]
    }
   ],
   "source": [
    "# weight ratio between the majority class (non-returns) and the minority class (returns) in the training data.\n",
    "scale_pos_weight = (y_train == 0).sum() / (y_train == 1).sum()\n",
    "print(f\"scale_pos_weight: {scale_pos_weight:.2f}\")"
   ]
  },
  {
   "cell_type": "markdown",
   "metadata": {},
   "source": [
    "The scale_pos_weight parameter tells XGBoost to penalize the majority class less and the minority class more, so the model takes returns (IsReturn == 1) more seriously.\n",
    "\n",
    "Each return is treated as 49 times more important than a non-return."
   ]
  },
  {
   "cell_type": "code",
   "execution_count": 7,
   "metadata": {},
   "outputs": [
    {
     "name": "stderr",
     "output_type": "stream",
     "text": [
      "/Library/Frameworks/Python.framework/Versions/3.13/lib/python3.13/site-packages/xgboost/core.py:158: UserWarning: [15:15:52] WARNING: /Users/runner/work/xgboost/xgboost/src/learner.cc:740: \n",
      "Parameters: { \"use_label_encoder\" } are not used.\n",
      "\n",
      "  warnings.warn(smsg, UserWarning)\n"
     ]
    },
    {
     "data": {
      "text/html": [
       "<style>#sk-container-id-1 {\n",
       "  /* Definition of color scheme common for light and dark mode */\n",
       "  --sklearn-color-text: #000;\n",
       "  --sklearn-color-text-muted: #666;\n",
       "  --sklearn-color-line: gray;\n",
       "  /* Definition of color scheme for unfitted estimators */\n",
       "  --sklearn-color-unfitted-level-0: #fff5e6;\n",
       "  --sklearn-color-unfitted-level-1: #f6e4d2;\n",
       "  --sklearn-color-unfitted-level-2: #ffe0b3;\n",
       "  --sklearn-color-unfitted-level-3: chocolate;\n",
       "  /* Definition of color scheme for fitted estimators */\n",
       "  --sklearn-color-fitted-level-0: #f0f8ff;\n",
       "  --sklearn-color-fitted-level-1: #d4ebff;\n",
       "  --sklearn-color-fitted-level-2: #b3dbfd;\n",
       "  --sklearn-color-fitted-level-3: cornflowerblue;\n",
       "\n",
       "  /* Specific color for light theme */\n",
       "  --sklearn-color-text-on-default-background: var(--sg-text-color, var(--theme-code-foreground, var(--jp-content-font-color1, black)));\n",
       "  --sklearn-color-background: var(--sg-background-color, var(--theme-background, var(--jp-layout-color0, white)));\n",
       "  --sklearn-color-border-box: var(--sg-text-color, var(--theme-code-foreground, var(--jp-content-font-color1, black)));\n",
       "  --sklearn-color-icon: #696969;\n",
       "\n",
       "  @media (prefers-color-scheme: dark) {\n",
       "    /* Redefinition of color scheme for dark theme */\n",
       "    --sklearn-color-text-on-default-background: var(--sg-text-color, var(--theme-code-foreground, var(--jp-content-font-color1, white)));\n",
       "    --sklearn-color-background: var(--sg-background-color, var(--theme-background, var(--jp-layout-color0, #111)));\n",
       "    --sklearn-color-border-box: var(--sg-text-color, var(--theme-code-foreground, var(--jp-content-font-color1, white)));\n",
       "    --sklearn-color-icon: #878787;\n",
       "  }\n",
       "}\n",
       "\n",
       "#sk-container-id-1 {\n",
       "  color: var(--sklearn-color-text);\n",
       "}\n",
       "\n",
       "#sk-container-id-1 pre {\n",
       "  padding: 0;\n",
       "}\n",
       "\n",
       "#sk-container-id-1 input.sk-hidden--visually {\n",
       "  border: 0;\n",
       "  clip: rect(1px 1px 1px 1px);\n",
       "  clip: rect(1px, 1px, 1px, 1px);\n",
       "  height: 1px;\n",
       "  margin: -1px;\n",
       "  overflow: hidden;\n",
       "  padding: 0;\n",
       "  position: absolute;\n",
       "  width: 1px;\n",
       "}\n",
       "\n",
       "#sk-container-id-1 div.sk-dashed-wrapped {\n",
       "  border: 1px dashed var(--sklearn-color-line);\n",
       "  margin: 0 0.4em 0.5em 0.4em;\n",
       "  box-sizing: border-box;\n",
       "  padding-bottom: 0.4em;\n",
       "  background-color: var(--sklearn-color-background);\n",
       "}\n",
       "\n",
       "#sk-container-id-1 div.sk-container {\n",
       "  /* jupyter's `normalize.less` sets `[hidden] { display: none; }`\n",
       "     but bootstrap.min.css set `[hidden] { display: none !important; }`\n",
       "     so we also need the `!important` here to be able to override the\n",
       "     default hidden behavior on the sphinx rendered scikit-learn.org.\n",
       "     See: https://github.com/scikit-learn/scikit-learn/issues/21755 */\n",
       "  display: inline-block !important;\n",
       "  position: relative;\n",
       "}\n",
       "\n",
       "#sk-container-id-1 div.sk-text-repr-fallback {\n",
       "  display: none;\n",
       "}\n",
       "\n",
       "div.sk-parallel-item,\n",
       "div.sk-serial,\n",
       "div.sk-item {\n",
       "  /* draw centered vertical line to link estimators */\n",
       "  background-image: linear-gradient(var(--sklearn-color-text-on-default-background), var(--sklearn-color-text-on-default-background));\n",
       "  background-size: 2px 100%;\n",
       "  background-repeat: no-repeat;\n",
       "  background-position: center center;\n",
       "}\n",
       "\n",
       "/* Parallel-specific style estimator block */\n",
       "\n",
       "#sk-container-id-1 div.sk-parallel-item::after {\n",
       "  content: \"\";\n",
       "  width: 100%;\n",
       "  border-bottom: 2px solid var(--sklearn-color-text-on-default-background);\n",
       "  flex-grow: 1;\n",
       "}\n",
       "\n",
       "#sk-container-id-1 div.sk-parallel {\n",
       "  display: flex;\n",
       "  align-items: stretch;\n",
       "  justify-content: center;\n",
       "  background-color: var(--sklearn-color-background);\n",
       "  position: relative;\n",
       "}\n",
       "\n",
       "#sk-container-id-1 div.sk-parallel-item {\n",
       "  display: flex;\n",
       "  flex-direction: column;\n",
       "}\n",
       "\n",
       "#sk-container-id-1 div.sk-parallel-item:first-child::after {\n",
       "  align-self: flex-end;\n",
       "  width: 50%;\n",
       "}\n",
       "\n",
       "#sk-container-id-1 div.sk-parallel-item:last-child::after {\n",
       "  align-self: flex-start;\n",
       "  width: 50%;\n",
       "}\n",
       "\n",
       "#sk-container-id-1 div.sk-parallel-item:only-child::after {\n",
       "  width: 0;\n",
       "}\n",
       "\n",
       "/* Serial-specific style estimator block */\n",
       "\n",
       "#sk-container-id-1 div.sk-serial {\n",
       "  display: flex;\n",
       "  flex-direction: column;\n",
       "  align-items: center;\n",
       "  background-color: var(--sklearn-color-background);\n",
       "  padding-right: 1em;\n",
       "  padding-left: 1em;\n",
       "}\n",
       "\n",
       "\n",
       "/* Toggleable style: style used for estimator/Pipeline/ColumnTransformer box that is\n",
       "clickable and can be expanded/collapsed.\n",
       "- Pipeline and ColumnTransformer use this feature and define the default style\n",
       "- Estimators will overwrite some part of the style using the `sk-estimator` class\n",
       "*/\n",
       "\n",
       "/* Pipeline and ColumnTransformer style (default) */\n",
       "\n",
       "#sk-container-id-1 div.sk-toggleable {\n",
       "  /* Default theme specific background. It is overwritten whether we have a\n",
       "  specific estimator or a Pipeline/ColumnTransformer */\n",
       "  background-color: var(--sklearn-color-background);\n",
       "}\n",
       "\n",
       "/* Toggleable label */\n",
       "#sk-container-id-1 label.sk-toggleable__label {\n",
       "  cursor: pointer;\n",
       "  display: flex;\n",
       "  width: 100%;\n",
       "  margin-bottom: 0;\n",
       "  padding: 0.5em;\n",
       "  box-sizing: border-box;\n",
       "  text-align: center;\n",
       "  align-items: start;\n",
       "  justify-content: space-between;\n",
       "  gap: 0.5em;\n",
       "}\n",
       "\n",
       "#sk-container-id-1 label.sk-toggleable__label .caption {\n",
       "  font-size: 0.6rem;\n",
       "  font-weight: lighter;\n",
       "  color: var(--sklearn-color-text-muted);\n",
       "}\n",
       "\n",
       "#sk-container-id-1 label.sk-toggleable__label-arrow:before {\n",
       "  /* Arrow on the left of the label */\n",
       "  content: \"▸\";\n",
       "  float: left;\n",
       "  margin-right: 0.25em;\n",
       "  color: var(--sklearn-color-icon);\n",
       "}\n",
       "\n",
       "#sk-container-id-1 label.sk-toggleable__label-arrow:hover:before {\n",
       "  color: var(--sklearn-color-text);\n",
       "}\n",
       "\n",
       "/* Toggleable content - dropdown */\n",
       "\n",
       "#sk-container-id-1 div.sk-toggleable__content {\n",
       "  max-height: 0;\n",
       "  max-width: 0;\n",
       "  overflow: hidden;\n",
       "  text-align: left;\n",
       "  /* unfitted */\n",
       "  background-color: var(--sklearn-color-unfitted-level-0);\n",
       "}\n",
       "\n",
       "#sk-container-id-1 div.sk-toggleable__content.fitted {\n",
       "  /* fitted */\n",
       "  background-color: var(--sklearn-color-fitted-level-0);\n",
       "}\n",
       "\n",
       "#sk-container-id-1 div.sk-toggleable__content pre {\n",
       "  margin: 0.2em;\n",
       "  border-radius: 0.25em;\n",
       "  color: var(--sklearn-color-text);\n",
       "  /* unfitted */\n",
       "  background-color: var(--sklearn-color-unfitted-level-0);\n",
       "}\n",
       "\n",
       "#sk-container-id-1 div.sk-toggleable__content.fitted pre {\n",
       "  /* unfitted */\n",
       "  background-color: var(--sklearn-color-fitted-level-0);\n",
       "}\n",
       "\n",
       "#sk-container-id-1 input.sk-toggleable__control:checked~div.sk-toggleable__content {\n",
       "  /* Expand drop-down */\n",
       "  max-height: 200px;\n",
       "  max-width: 100%;\n",
       "  overflow: auto;\n",
       "}\n",
       "\n",
       "#sk-container-id-1 input.sk-toggleable__control:checked~label.sk-toggleable__label-arrow:before {\n",
       "  content: \"▾\";\n",
       "}\n",
       "\n",
       "/* Pipeline/ColumnTransformer-specific style */\n",
       "\n",
       "#sk-container-id-1 div.sk-label input.sk-toggleable__control:checked~label.sk-toggleable__label {\n",
       "  color: var(--sklearn-color-text);\n",
       "  background-color: var(--sklearn-color-unfitted-level-2);\n",
       "}\n",
       "\n",
       "#sk-container-id-1 div.sk-label.fitted input.sk-toggleable__control:checked~label.sk-toggleable__label {\n",
       "  background-color: var(--sklearn-color-fitted-level-2);\n",
       "}\n",
       "\n",
       "/* Estimator-specific style */\n",
       "\n",
       "/* Colorize estimator box */\n",
       "#sk-container-id-1 div.sk-estimator input.sk-toggleable__control:checked~label.sk-toggleable__label {\n",
       "  /* unfitted */\n",
       "  background-color: var(--sklearn-color-unfitted-level-2);\n",
       "}\n",
       "\n",
       "#sk-container-id-1 div.sk-estimator.fitted input.sk-toggleable__control:checked~label.sk-toggleable__label {\n",
       "  /* fitted */\n",
       "  background-color: var(--sklearn-color-fitted-level-2);\n",
       "}\n",
       "\n",
       "#sk-container-id-1 div.sk-label label.sk-toggleable__label,\n",
       "#sk-container-id-1 div.sk-label label {\n",
       "  /* The background is the default theme color */\n",
       "  color: var(--sklearn-color-text-on-default-background);\n",
       "}\n",
       "\n",
       "/* On hover, darken the color of the background */\n",
       "#sk-container-id-1 div.sk-label:hover label.sk-toggleable__label {\n",
       "  color: var(--sklearn-color-text);\n",
       "  background-color: var(--sklearn-color-unfitted-level-2);\n",
       "}\n",
       "\n",
       "/* Label box, darken color on hover, fitted */\n",
       "#sk-container-id-1 div.sk-label.fitted:hover label.sk-toggleable__label.fitted {\n",
       "  color: var(--sklearn-color-text);\n",
       "  background-color: var(--sklearn-color-fitted-level-2);\n",
       "}\n",
       "\n",
       "/* Estimator label */\n",
       "\n",
       "#sk-container-id-1 div.sk-label label {\n",
       "  font-family: monospace;\n",
       "  font-weight: bold;\n",
       "  display: inline-block;\n",
       "  line-height: 1.2em;\n",
       "}\n",
       "\n",
       "#sk-container-id-1 div.sk-label-container {\n",
       "  text-align: center;\n",
       "}\n",
       "\n",
       "/* Estimator-specific */\n",
       "#sk-container-id-1 div.sk-estimator {\n",
       "  font-family: monospace;\n",
       "  border: 1px dotted var(--sklearn-color-border-box);\n",
       "  border-radius: 0.25em;\n",
       "  box-sizing: border-box;\n",
       "  margin-bottom: 0.5em;\n",
       "  /* unfitted */\n",
       "  background-color: var(--sklearn-color-unfitted-level-0);\n",
       "}\n",
       "\n",
       "#sk-container-id-1 div.sk-estimator.fitted {\n",
       "  /* fitted */\n",
       "  background-color: var(--sklearn-color-fitted-level-0);\n",
       "}\n",
       "\n",
       "/* on hover */\n",
       "#sk-container-id-1 div.sk-estimator:hover {\n",
       "  /* unfitted */\n",
       "  background-color: var(--sklearn-color-unfitted-level-2);\n",
       "}\n",
       "\n",
       "#sk-container-id-1 div.sk-estimator.fitted:hover {\n",
       "  /* fitted */\n",
       "  background-color: var(--sklearn-color-fitted-level-2);\n",
       "}\n",
       "\n",
       "/* Specification for estimator info (e.g. \"i\" and \"?\") */\n",
       "\n",
       "/* Common style for \"i\" and \"?\" */\n",
       "\n",
       ".sk-estimator-doc-link,\n",
       "a:link.sk-estimator-doc-link,\n",
       "a:visited.sk-estimator-doc-link {\n",
       "  float: right;\n",
       "  font-size: smaller;\n",
       "  line-height: 1em;\n",
       "  font-family: monospace;\n",
       "  background-color: var(--sklearn-color-background);\n",
       "  border-radius: 1em;\n",
       "  height: 1em;\n",
       "  width: 1em;\n",
       "  text-decoration: none !important;\n",
       "  margin-left: 0.5em;\n",
       "  text-align: center;\n",
       "  /* unfitted */\n",
       "  border: var(--sklearn-color-unfitted-level-1) 1pt solid;\n",
       "  color: var(--sklearn-color-unfitted-level-1);\n",
       "}\n",
       "\n",
       ".sk-estimator-doc-link.fitted,\n",
       "a:link.sk-estimator-doc-link.fitted,\n",
       "a:visited.sk-estimator-doc-link.fitted {\n",
       "  /* fitted */\n",
       "  border: var(--sklearn-color-fitted-level-1) 1pt solid;\n",
       "  color: var(--sklearn-color-fitted-level-1);\n",
       "}\n",
       "\n",
       "/* On hover */\n",
       "div.sk-estimator:hover .sk-estimator-doc-link:hover,\n",
       ".sk-estimator-doc-link:hover,\n",
       "div.sk-label-container:hover .sk-estimator-doc-link:hover,\n",
       ".sk-estimator-doc-link:hover {\n",
       "  /* unfitted */\n",
       "  background-color: var(--sklearn-color-unfitted-level-3);\n",
       "  color: var(--sklearn-color-background);\n",
       "  text-decoration: none;\n",
       "}\n",
       "\n",
       "div.sk-estimator.fitted:hover .sk-estimator-doc-link.fitted:hover,\n",
       ".sk-estimator-doc-link.fitted:hover,\n",
       "div.sk-label-container:hover .sk-estimator-doc-link.fitted:hover,\n",
       ".sk-estimator-doc-link.fitted:hover {\n",
       "  /* fitted */\n",
       "  background-color: var(--sklearn-color-fitted-level-3);\n",
       "  color: var(--sklearn-color-background);\n",
       "  text-decoration: none;\n",
       "}\n",
       "\n",
       "/* Span, style for the box shown on hovering the info icon */\n",
       ".sk-estimator-doc-link span {\n",
       "  display: none;\n",
       "  z-index: 9999;\n",
       "  position: relative;\n",
       "  font-weight: normal;\n",
       "  right: .2ex;\n",
       "  padding: .5ex;\n",
       "  margin: .5ex;\n",
       "  width: min-content;\n",
       "  min-width: 20ex;\n",
       "  max-width: 50ex;\n",
       "  color: var(--sklearn-color-text);\n",
       "  box-shadow: 2pt 2pt 4pt #999;\n",
       "  /* unfitted */\n",
       "  background: var(--sklearn-color-unfitted-level-0);\n",
       "  border: .5pt solid var(--sklearn-color-unfitted-level-3);\n",
       "}\n",
       "\n",
       ".sk-estimator-doc-link.fitted span {\n",
       "  /* fitted */\n",
       "  background: var(--sklearn-color-fitted-level-0);\n",
       "  border: var(--sklearn-color-fitted-level-3);\n",
       "}\n",
       "\n",
       ".sk-estimator-doc-link:hover span {\n",
       "  display: block;\n",
       "}\n",
       "\n",
       "/* \"?\"-specific style due to the `<a>` HTML tag */\n",
       "\n",
       "#sk-container-id-1 a.estimator_doc_link {\n",
       "  float: right;\n",
       "  font-size: 1rem;\n",
       "  line-height: 1em;\n",
       "  font-family: monospace;\n",
       "  background-color: var(--sklearn-color-background);\n",
       "  border-radius: 1rem;\n",
       "  height: 1rem;\n",
       "  width: 1rem;\n",
       "  text-decoration: none;\n",
       "  /* unfitted */\n",
       "  color: var(--sklearn-color-unfitted-level-1);\n",
       "  border: var(--sklearn-color-unfitted-level-1) 1pt solid;\n",
       "}\n",
       "\n",
       "#sk-container-id-1 a.estimator_doc_link.fitted {\n",
       "  /* fitted */\n",
       "  border: var(--sklearn-color-fitted-level-1) 1pt solid;\n",
       "  color: var(--sklearn-color-fitted-level-1);\n",
       "}\n",
       "\n",
       "/* On hover */\n",
       "#sk-container-id-1 a.estimator_doc_link:hover {\n",
       "  /* unfitted */\n",
       "  background-color: var(--sklearn-color-unfitted-level-3);\n",
       "  color: var(--sklearn-color-background);\n",
       "  text-decoration: none;\n",
       "}\n",
       "\n",
       "#sk-container-id-1 a.estimator_doc_link.fitted:hover {\n",
       "  /* fitted */\n",
       "  background-color: var(--sklearn-color-fitted-level-3);\n",
       "}\n",
       "</style><div id=\"sk-container-id-1\" class=\"sk-top-container\"><div class=\"sk-text-repr-fallback\"><pre>XGBClassifier(base_score=None, booster=None, callbacks=None,\n",
       "              colsample_bylevel=None, colsample_bynode=None,\n",
       "              colsample_bytree=None, device=None, early_stopping_rounds=None,\n",
       "              enable_categorical=False, eval_metric=&#x27;logloss&#x27;,\n",
       "              feature_types=None, gamma=None, grow_policy=None,\n",
       "              importance_type=None, interaction_constraints=None,\n",
       "              learning_rate=None, max_bin=None, max_cat_threshold=None,\n",
       "              max_cat_to_onehot=None, max_delta_step=None, max_depth=None,\n",
       "              max_leaves=None, min_child_weight=None, missing=nan,\n",
       "              monotone_constraints=None, multi_strategy=None, n_estimators=None,\n",
       "              n_jobs=None, num_parallel_tree=None, random_state=42, ...)</pre><b>In a Jupyter environment, please rerun this cell to show the HTML representation or trust the notebook. <br />On GitHub, the HTML representation is unable to render, please try loading this page with nbviewer.org.</b></div><div class=\"sk-container\" hidden><div class=\"sk-item\"><div class=\"sk-estimator fitted sk-toggleable\"><input class=\"sk-toggleable__control sk-hidden--visually\" id=\"sk-estimator-id-1\" type=\"checkbox\" checked><label for=\"sk-estimator-id-1\" class=\"sk-toggleable__label fitted sk-toggleable__label-arrow\"><div><div>XGBClassifier</div></div><div><span class=\"sk-estimator-doc-link fitted\">i<span>Fitted</span></span></div></label><div class=\"sk-toggleable__content fitted\"><pre>XGBClassifier(base_score=None, booster=None, callbacks=None,\n",
       "              colsample_bylevel=None, colsample_bynode=None,\n",
       "              colsample_bytree=None, device=None, early_stopping_rounds=None,\n",
       "              enable_categorical=False, eval_metric=&#x27;logloss&#x27;,\n",
       "              feature_types=None, gamma=None, grow_policy=None,\n",
       "              importance_type=None, interaction_constraints=None,\n",
       "              learning_rate=None, max_bin=None, max_cat_threshold=None,\n",
       "              max_cat_to_onehot=None, max_delta_step=None, max_depth=None,\n",
       "              max_leaves=None, min_child_weight=None, missing=nan,\n",
       "              monotone_constraints=None, multi_strategy=None, n_estimators=None,\n",
       "              n_jobs=None, num_parallel_tree=None, random_state=42, ...)</pre></div> </div></div></div></div>"
      ],
      "text/plain": [
       "XGBClassifier(base_score=None, booster=None, callbacks=None,\n",
       "              colsample_bylevel=None, colsample_bynode=None,\n",
       "              colsample_bytree=None, device=None, early_stopping_rounds=None,\n",
       "              enable_categorical=False, eval_metric='logloss',\n",
       "              feature_types=None, gamma=None, grow_policy=None,\n",
       "              importance_type=None, interaction_constraints=None,\n",
       "              learning_rate=None, max_bin=None, max_cat_threshold=None,\n",
       "              max_cat_to_onehot=None, max_delta_step=None, max_depth=None,\n",
       "              max_leaves=None, min_child_weight=None, missing=nan,\n",
       "              monotone_constraints=None, multi_strategy=None, n_estimators=None,\n",
       "              n_jobs=None, num_parallel_tree=None, random_state=42, ...)"
      ]
     },
     "execution_count": 7,
     "metadata": {},
     "output_type": "execute_result"
    }
   ],
   "source": [
    "smote = SMOTE(random_state=42)\n",
    "X_train_smote, y_train_smote = smote.fit_resample(X_train, y_train)\n",
    "\n",
    "xgb_model = XGBClassifier(\n",
    "    scale_pos_weight=scale_pos_weight,\n",
    "    use_label_encoder=False,\n",
    "    eval_metric='logloss',\n",
    "    random_state=42\n",
    ")\n",
    "\n",
    "xgb_model.fit(X_train_smote, y_train_smote)"
   ]
  },
  {
   "cell_type": "code",
   "execution_count": 8,
   "metadata": {},
   "outputs": [],
   "source": [
    "y_pred = xgb_model.predict(X_test)\n",
    "y_pred_proba = xgb_model.predict_proba(X_test)[:, 1]"
   ]
  },
  {
   "cell_type": "code",
   "execution_count": 9,
   "metadata": {},
   "outputs": [
    {
     "name": "stdout",
     "output_type": "stream",
     "text": [
      "              precision    recall  f1-score   support\n",
      "\n",
      "           0       1.00      0.64      0.78    157907\n",
      "           1       0.05      0.89      0.09      3217\n",
      "\n",
      "    accuracy                           0.64    161124\n",
      "   macro avg       0.52      0.77      0.44    161124\n",
      "weighted avg       0.98      0.64      0.77    161124\n",
      "\n",
      "AUC-ROC: 0.8649933818459963\n",
      "AUC-PR: 0.19012540330654304\n"
     ]
    },
    {
     "data": {
      "image/png": "[encoded data removed]",
      "text/plain": [
       "<Figure size 640x480 with 1 Axes>"
      ]
     },
     "metadata": {},
     "output_type": "display_data"
    }
   ],
   "source": [
    "print(classification_report(y_test, y_pred))\n",
    "print(f\"AUC-ROC: {roc_auc_score(y_test, y_pred_proba)}\")\n",
    "print(\"AUC-PR:\", average_precision_score(y_test, y_pred_proba))\n",
    "\n",
    "precision, recall, _ = precision_recall_curve(y_test, y_pred_proba)\n",
    "plt.plot(recall, precision)\n",
    "plt.xlabel(\"Recall\")\n",
    "plt.ylabel(\"Precision\")\n",
    "plt.title(\"Precision-Recall Curve\")\n",
    "plt.show()"
   ]
  },
  {
   "cell_type": "markdown",
   "metadata": {},
   "source": [
    "- Recall: Catching 89% of the actual returns\n",
    "- Precision: Only 5% of the predictions labeled as “return” are actually returns - many false positives \n",
    "- F1: Balance between precision and recall is low - but that’s okay because your goal favors recall\n",
    "- AUC-ROC: Your model ranks returnable transactions well above non-returnables — strong general modeling ability\n",
    "- AUC-PR: Precision is low, especially when trying to keep recall high — expected when the positive class is super rare (~2%) but doing ~9× better than random, which is solid."
   ]
  },
  {
   "cell_type": "code",
   "execution_count": 10,
   "metadata": {},
   "outputs": [
    {
     "data": {
      "image/png": "[encoded data removed]",
      "text/plain": [
       "<Figure size 1000x600 with 1 Axes>"
      ]
     },
     "metadata": {},
     "output_type": "display_data"
    }
   ],
   "source": [
    "# Get feature importances (based on gain by default)\n",
    "importances = pd.Series(xgb_model.feature_importances_, index=X_train.columns)\n",
    "\n",
    "# Plot top features\n",
    "importances.sort_values(ascending=False).head(20).plot(kind='barh', figsize=(10, 6))\n",
    "plt.title(\"Top 20 Feature Importances (XGBoost)\")\n",
    "plt.xlabel(\"Importance Score\")\n",
    "plt.gca().invert_yaxis()\n",
    "plt.tight_layout()\n",
    "plt.show()\n"
   ]
  },
  {
   "cell_type": "code",
   "execution_count": 12,
   "metadata": {},
   "outputs": [
    {
     "data": {
      "text/plain": [
       "['xgb_1.pkl']"
      ]
     },
     "execution_count": 12,
     "metadata": {},
     "output_type": "execute_result"
    }
   ],
   "source": [
    "# Save the model\n",
    "joblib.dump(xgb_model, \"xgb_1.pkl\")\n",
    "# Load it later\n",
    "#loaded_model = joblib.load(\"xgb_1.pkl\")"
   ]
  },
  {
   "cell_type": "markdown",
   "metadata": {},
   "source": [
    "Don't use SMOTE only scale_pos_weight"
   ]
  },
  {
   "cell_type": "code",
   "execution_count": 22,
   "metadata": {},
   "outputs": [],
   "source": [
    "def execute_model(xgb_model, id, scale_pos_weight):\n",
    "    xgb_model = XGBClassifier(\n",
    "        scale_pos_weight=scale_pos_weight,\n",
    "        use_label_encoder=False,\n",
    "        eval_metric='logloss',\n",
    "        random_state=42\n",
    "    )\n",
    "\n",
    "    xgb_model.fit(X_train, y_train)\n",
    "\n",
    "    y_pred = xgb_model.predict(X_test)\n",
    "    y_pred_proba = xgb_model.predict_proba(X_test)[:, 1]\n",
    "\n",
    "    print(classification_report(y_test, y_pred))\n",
    "    print(f\"AUC-ROC: {roc_auc_score(y_test, y_pred_proba)}\")\n",
    "    print(\"AUC-PR:\", average_precision_score(y_test, y_pred_proba))\n",
    "\n",
    "    precision, recall, _ = precision_recall_curve(y_test, y_pred_proba)\n",
    "    plt.plot(recall, precision)\n",
    "    plt.xlabel(\"Recall\")\n",
    "    plt.ylabel(\"Precision\")\n",
    "    plt.title(\"Precision-Recall Curve\")\n",
    "    plt.show()\n",
    "\n",
    "    # Save the model\n",
    "    joblib.dump(xgb_model, f\"xgb_{id}.pkl\")\n",
    "    \n",
    "    return xgb_model, y_pred, y_pred_proba"
   ]
  },
  {
   "cell_type": "code",
   "execution_count": 37,
   "metadata": {},
   "outputs": [
    {
     "name": "stderr",
     "output_type": "stream",
     "text": [
      "/Library/Frameworks/Python.framework/Versions/3.13/lib/python3.13/site-packages/xgboost/core.py:158: UserWarning: [15:46:27] WARNING: /Users/runner/work/xgboost/xgboost/src/learner.cc:740: \n",
      "Parameters: { \"use_label_encoder\" } are not used.\n",
      "\n",
      "  warnings.warn(smsg, UserWarning)\n"
     ]
    },
    {
     "name": "stdout",
     "output_type": "stream",
     "text": [
      "              precision    recall  f1-score   support\n",
      "\n",
      "           0       0.99      0.81      0.89    157907\n",
      "           1       0.08      0.79      0.14      3217\n",
      "\n",
      "    accuracy                           0.81    161124\n",
      "   macro avg       0.54      0.80      0.52    161124\n",
      "weighted avg       0.98      0.81      0.88    161124\n",
      "\n",
      "AUC-ROC: 0.8906045601549358\n",
      "AUC-PR: 0.2504157997698522\n"
     ]
    },
    {
     "data": {
      "image/png": "[encoded data removed]",
      "text/plain": [
       "<Figure size 640x480 with 1 Axes>"
      ]
     },
     "metadata": {},
     "output_type": "display_data"
    }
   ],
   "source": [
    "xgb_model_2, y_pred, y_pred_proba = execute_model(xgb_model,2, scale_pos_weight)"
   ]
  },
  {
   "cell_type": "code",
   "execution_count": 38,
   "metadata": {},
   "outputs": [],
   "source": [
    "# Top 5% Precision\n",
    "def precision_at_k(y_test, y_pred_custom, k_percent=0.05):\n",
    "    df_preds = pd.DataFrame({\n",
    "        'proba': y_pred_custom,         # predicted probabilities for class 1\n",
    "        'actual': y_test               # true labels (0 or 1)\n",
    "    })\n",
    "\n",
    "    # Sort by predicted probability descending (most return-like first)\n",
    "    df_preds = df_preds.sort_values(by='proba', ascending=False).reset_index(drop=True)\n",
    "\n",
    "    # Define Top-K% (e.g., top 5%)\n",
    "    K = int(len(df_preds) * k_percent)\n",
    "\n",
    "    # Slice top K rows\n",
    "    top_k = df_preds.iloc[:K]\n",
    "\n",
    "    # Calculate Top-K Precision\n",
    "    precision_at_k = top_k['actual'].sum() / K\n",
    "    print(f\"Top-{k_percent*100:.0f}% Precision: {precision_at_k:.4f}\")\n",
    "    return df_preds"
   ]
  },
  {
   "cell_type": "code",
   "execution_count": 39,
   "metadata": {},
   "outputs": [
    {
     "name": "stdout",
     "output_type": "stream",
     "text": [
      "Top-5% Precision: 0.1823\n"
     ]
    },
    {
     "data": {
      "image/png": "[encoded data removed]",
      "text/plain": [
       "<Figure size 640x480 with 1 Axes>"
      ]
     },
     "metadata": {},
     "output_type": "display_data"
    }
   ],
   "source": [
    "df_preds = precision_at_k(y_test, y_pred_proba, k_percent=0.05)\n",
    "\n",
    "ks = np.arange(0.01, 0.11, 0.01)  # from 1% to 10%\n",
    "precision_scores = []\n",
    "\n",
    "for k in ks:\n",
    "    K = int(len(df_preds) * k)\n",
    "    top_k = df_preds.iloc[:K]\n",
    "    precision = top_k['actual'].sum() / K\n",
    "    precision_scores.append(precision)\n",
    "\n",
    "plt.plot(ks * 100, precision_scores, marker='o')\n",
    "plt.title(\"Precision@Top-K%\")\n",
    "plt.xlabel(\"Top K% of transactions\")\n",
    "plt.ylabel(\"Precision\")\n",
    "plt.grid(True)\n",
    "plt.show()"
   ]
  },
  {
   "cell_type": "markdown",
   "metadata": {},
   "source": [
    "Among the top 5% most return-like transactions, 18% were actual returns, which is 9x better than your base return rate (~2%)."
   ]
  },
  {
   "cell_type": "markdown",
   "metadata": {},
   "source": [
    "Add a threshold for probability predictions."
   ]
  },
  {
   "cell_type": "code",
   "execution_count": 40,
   "metadata": {},
   "outputs": [
    {
     "name": "stdout",
     "output_type": "stream",
     "text": [
      "Best threshold: 0.886\n",
      "Precision: 0.291, Recall: 0.291, F1: 0.291\n"
     ]
    }
   ],
   "source": [
    "precision, recall, thresholds = precision_recall_curve(y_test, y_pred_proba)\n",
    "f1_scores = 2 * (precision * recall) / (precision + recall + 1e-6)  # Avoid divide-by-zero\n",
    "\n",
    "# Find the threshold that maximizes F1\n",
    "best_idx = np.argmax(f1_scores)\n",
    "best_threshold = thresholds[best_idx]\n",
    "\n",
    "print(f\"Best threshold: {best_threshold:.3f}\")\n",
    "print(f\"Precision: {precision[best_idx]:.3f}, Recall: {recall[best_idx]:.3f}, F1: {f1_scores[best_idx]:.3f}\")"
   ]
  },
  {
   "cell_type": "code",
   "execution_count": 41,
   "metadata": {},
   "outputs": [],
   "source": [
    "y_pred_custom = (y_pred_proba > best_threshold).astype(int)"
   ]
  },
  {
   "cell_type": "code",
   "execution_count": 42,
   "metadata": {},
   "outputs": [
    {
     "name": "stdout",
     "output_type": "stream",
     "text": [
      "              precision    recall  f1-score   support\n",
      "\n",
      "           0       0.99      0.99      0.99    157907\n",
      "           1       0.29      0.29      0.29      3217\n",
      "\n",
      "    accuracy                           0.97    161124\n",
      "   macro avg       0.64      0.64      0.64    161124\n",
      "weighted avg       0.97      0.97      0.97    161124\n",
      "\n",
      "AUC-ROC: 0.8906045601549358\n",
      "AUC-PR: 0.2504157997698522\n"
     ]
    }
   ],
   "source": [
    "print(classification_report(y_test, y_pred_custom))\n",
    "print(f\"AUC-ROC: {roc_auc_score(y_test, y_pred_proba)}\")\n",
    "print(\"AUC-PR:\", average_precision_score(y_test, y_pred_proba))"
   ]
  },
  {
   "cell_type": "code",
   "execution_count": 43,
   "metadata": {},
   "outputs": [
    {
     "name": "stdout",
     "output_type": "stream",
     "text": [
      "Top-5% Precision: 0.1252\n"
     ]
    }
   ],
   "source": [
    "df_preds = precision_at_k(y_test, y_pred_custom, k_percent=0.05)"
   ]
  },
  {
   "cell_type": "markdown",
   "metadata": {},
   "source": [
    "F1 and precision are the highest of the other iterations. However, recall is significantly lower. \n",
    "\n",
    "Try a lower threshold like 0.40 for higher recall. Default is 0.50."
   ]
  },
  {
   "cell_type": "code",
   "execution_count": 44,
   "metadata": {},
   "outputs": [
    {
     "name": "stdout",
     "output_type": "stream",
     "text": [
      "              precision    recall  f1-score   support\n",
      "\n",
      "           0       1.00      0.74      0.85    157907\n",
      "           1       0.06      0.86      0.12      3217\n",
      "\n",
      "    accuracy                           0.74    161124\n",
      "   macro avg       0.53      0.80      0.48    161124\n",
      "weighted avg       0.98      0.74      0.83    161124\n",
      "\n",
      "AUC-ROC: 0.8906045601549358\n",
      "AUC-PR: 0.2504157997698522\n"
     ]
    }
   ],
   "source": [
    "threshold = 0.4\n",
    "y_pred_custom_50 = (y_pred_proba > threshold).astype(int)\n",
    "\n",
    "def metric_result(y_pred_custom):\n",
    "    print(classification_report(y_test, y_pred_custom))\n",
    "    print(f\"AUC-ROC: {roc_auc_score(y_test, y_pred_proba)}\")\n",
    "    print(\"AUC-PR:\", average_precision_score(y_test, y_pred_proba))\n",
    "\n",
    "metric_result(y_pred_custom_50)"
   ]
  },
  {
   "cell_type": "code",
   "execution_count": 45,
   "metadata": {},
   "outputs": [
    {
     "name": "stdout",
     "output_type": "stream",
     "text": [
      "Top-5% Precision: 0.0606\n"
     ]
    }
   ],
   "source": [
    "df_preds = precision_at_k(y_test, y_pred_custom_50, k_percent=0.05)"
   ]
  },
  {
   "cell_type": "markdown",
   "metadata": {},
   "source": [
    "Model without scale_pos_weight for the imbalance."
   ]
  },
  {
   "cell_type": "code",
   "execution_count": 46,
   "metadata": {},
   "outputs": [
    {
     "name": "stderr",
     "output_type": "stream",
     "text": [
      "/Library/Frameworks/Python.framework/Versions/3.13/lib/python3.13/site-packages/xgboost/core.py:158: UserWarning: [15:47:54] WARNING: /Users/runner/work/xgboost/xgboost/src/learner.cc:740: \n",
      "Parameters: { \"use_label_encoder\" } are not used.\n",
      "\n",
      "  warnings.warn(smsg, UserWarning)\n"
     ]
    },
    {
     "name": "stdout",
     "output_type": "stream",
     "text": [
      "              precision    recall  f1-score   support\n",
      "\n",
      "           0       0.98      1.00      0.99    157907\n",
      "           1       0.00      0.00      0.00      3217\n",
      "\n",
      "    accuracy                           0.98    161124\n",
      "   macro avg       0.49      0.50      0.49    161124\n",
      "weighted avg       0.96      0.98      0.97    161124\n",
      "\n",
      "AUC-ROC: 0.5\n",
      "AUC-PR: 0.01996598892778233\n"
     ]
    },
    {
     "name": "stderr",
     "output_type": "stream",
     "text": [
      "/Library/Frameworks/Python.framework/Versions/3.13/lib/python3.13/site-packages/sklearn/metrics/_classification.py:1565: UndefinedMetricWarning: Precision is ill-defined and being set to 0.0 in labels with no predicted samples. Use `zero_division` parameter to control this behavior.\n",
      "  _warn_prf(average, modifier, f\"{metric.capitalize()} is\", len(result))\n",
      "/Library/Frameworks/Python.framework/Versions/3.13/lib/python3.13/site-packages/sklearn/metrics/_classification.py:1565: UndefinedMetricWarning: Precision is ill-defined and being set to 0.0 in labels with no predicted samples. Use `zero_division` parameter to control this behavior.\n",
      "  _warn_prf(average, modifier, f\"{metric.capitalize()} is\", len(result))\n",
      "/Library/Frameworks/Python.framework/Versions/3.13/lib/python3.13/site-packages/sklearn/metrics/_classification.py:1565: UndefinedMetricWarning: Precision is ill-defined and being set to 0.0 in labels with no predicted samples. Use `zero_division` parameter to control this behavior.\n",
      "  _warn_prf(average, modifier, f\"{metric.capitalize()} is\", len(result))\n"
     ]
    },
    {
     "data": {
      "image/png": "[encoded data removed]",
      "text/plain": [
       "<Figure size 640x480 with 1 Axes>"
      ]
     },
     "metadata": {},
     "output_type": "display_data"
    }
   ],
   "source": [
    "xgb_model_3, y_pred, y_pred_proba = execute_model(xgb_model,3, 0)"
   ]
  },
  {
   "cell_type": "markdown",
   "metadata": {},
   "source": [
    "With no scale_pos_weight, the model is basically guessing randomly."
   ]
  },
  {
   "cell_type": "markdown",
   "metadata": {},
   "source": [
    "Try with just SMOTE for helping the imbalance."
   ]
  },
  {
   "cell_type": "code",
   "execution_count": 68,
   "metadata": {},
   "outputs": [
    {
     "name": "stderr",
     "output_type": "stream",
     "text": [
      "/Library/Frameworks/Python.framework/Versions/3.13/lib/python3.13/site-packages/xgboost/core.py:158: UserWarning: [16:11:50] WARNING: /Users/runner/work/xgboost/xgboost/src/learner.cc:740: \n",
      "Parameters: { \"use_label_encoder\" } are not used.\n",
      "\n",
      "  warnings.warn(smsg, UserWarning)\n"
     ]
    },
    {
     "name": "stdout",
     "output_type": "stream",
     "text": [
      "              precision    recall  f1-score   support\n",
      "\n",
      "           0       0.99      0.95      0.97    157907\n",
      "           1       0.15      0.42      0.22      3217\n",
      "\n",
      "    accuracy                           0.94    161124\n",
      "   macro avg       0.57      0.68      0.60    161124\n",
      "weighted avg       0.97      0.94      0.95    161124\n",
      "\n",
      "AUC-ROC: 0.8704525028237002\n",
      "AUC-PR: 0.2041490121453831\n"
     ]
    },
    {
     "data": {
      "image/png": "[encoded data removed]",
      "text/plain": [
       "<Figure size 640x480 with 1 Axes>"
      ]
     },
     "metadata": {},
     "output_type": "display_data"
    },
    {
     "data": {
      "text/plain": [
       "['xgb_4.pkl']"
      ]
     },
     "execution_count": 68,
     "metadata": {},
     "output_type": "execute_result"
    }
   ],
   "source": [
    "smote = SMOTE(random_state=42)\n",
    "X_train_smote, y_train_smote = smote.fit_resample(X_train, y_train)\n",
    "\n",
    "xgb_model = XGBClassifier(\n",
    "    use_label_encoder=False,\n",
    "    eval_metric='logloss',\n",
    "    random_state=42\n",
    ")\n",
    "\n",
    "xgb_model.fit(X_train_smote, y_train_smote)\n",
    "\n",
    "y_pred = xgb_model.predict(X_test)\n",
    "y_pred_proba = xgb_model.predict_proba(X_test)[:, 1]\n",
    "\n",
    "print(classification_report(y_test, y_pred))\n",
    "print(f\"AUC-ROC: {roc_auc_score(y_test, y_pred_proba)}\")\n",
    "print(\"AUC-PR:\", average_precision_score(y_test, y_pred_proba))\n",
    "\n",
    "precision, recall, _ = precision_recall_curve(y_test, y_pred_proba)\n",
    "\n",
    "plt.plot(recall, precision)\n",
    "plt.xlabel(\"Recall\")\n",
    "plt.ylabel(\"Precision\")\n",
    "plt.title(\"Precision-Recall Curve\")\n",
    "plt.show()\n",
    "\n",
    "# Save the model\n",
    "joblib.dump(xgb_model, \"xgb_4.pkl\")\n"
   ]
  },
  {
   "cell_type": "markdown",
   "metadata": {},
   "source": [
    "#### Feature Importance using Model 2\n",
    "\n",
    "Model 2 gives better top-K precision, which reflects stronger signal in its features -- understand what drives confident return predictions"
   ]
  },
  {
   "cell_type": "code",
   "execution_count": 48,
   "metadata": {},
   "outputs": [],
   "source": [
    "model_2 = joblib.load(\"xgb_2.pkl\")\n",
    "\n",
    "# Initialize the TreeExplainer\n",
    "explainer = shap.Explainer(model_2)\n",
    "\n",
    "# Compute SHAP values\n",
    "shap_values = explainer(X_train)"
   ]
  },
  {
   "cell_type": "code",
   "execution_count": 49,
   "metadata": {},
   "outputs": [
    {
     "data": {
      "image/png": "[encoded data removed]",
      "text/plain": [
       "<Figure size 800x950 with 2 Axes>"
      ]
     },
     "metadata": {},
     "output_type": "display_data"
    }
   ],
   "source": [
    "# Summary plot - shows top features across the entire dataset\n",
    "shap.summary_plot(shap_values, X_train)"
   ]
  },
  {
   "cell_type": "markdown",
   "metadata": {},
   "source": [
    "A SHAP value shows how much a feature pushes a prediction higher or lower (toward predicting a return or not).\n",
    "- Values to the right (positive) increase the model’s predicted probability of a return.\n",
    "- Values to the left (negative) lower the probability of a return.\n",
    "\n",
    "CustomerReturnRate is the most important feature.\n",
    "- high values = strongly increase return prediction.\n",
    "\n",
    "CustomerNumOfReturns\n",
    "- high values = high return prediction\n",
    "- past returners are more likely to return again.\n",
    "\n",
    "TotalLineValue & Price\n",
    "- higher priced items = higher chance of return\n",
    "\n",
    "CustomerTotalSpend\n",
    "- lower total spend = higher return prediction\n",
    "- higher-value customers are less likely to return\n",
    "\n",
    "InvoiceMonth\n",
    "- some months are associated with higher return likelihood\n",
    "\n",
    "CustomerLoyaltySpan / OrdersPlaced / DaysActive\n",
    "- Longer relationship = less likely to return"
   ]
  },
  {
   "cell_type": "code",
   "execution_count": 50,
   "metadata": {},
   "outputs": [
    {
     "data": {
      "image/png": "[encoded data removed]",
      "text/plain": [
       "<Figure size 640x480 with 1 Axes>"
      ]
     },
     "metadata": {},
     "output_type": "display_data"
    }
   ],
   "source": [
    "# Assuming you have a DataFrame `df` with 'InvoiceMonth' and 'IsReturn'\n",
    "return_rate_by_month = df.groupby('InvoiceMonth')['IsReturn'].mean()\n",
    "\n",
    "# Plot\n",
    "return_rate_by_month.plot(kind='bar', color='teal')\n",
    "plt.title('Return Rate by Invoice Month')\n",
    "plt.xlabel('Invoice Month (1 = Jan, 12 = Dec)')\n",
    "plt.ylabel('Return Rate')\n",
    "plt.grid(True)\n",
    "plt.tight_layout()\n",
    "plt.show()\n"
   ]
  },
  {
   "cell_type": "markdown",
   "metadata": {},
   "source": [
    "Return rates are lower toward the end of the year (Nov–Dec), then spike back in Jan"
   ]
  },
  {
   "cell_type": "code",
   "execution_count": 51,
   "metadata": {},
   "outputs": [
    {
     "data": {
      "image/png": "[encoded data removed]",
      "text/plain": [
       "<Figure size 1000x600 with 1 Axes>"
      ]
     },
     "metadata": {},
     "output_type": "display_data"
    }
   ],
   "source": [
    "# After computing SHAP values\n",
    "mean_abs_shap = np.abs(shap_values.values).mean(axis=0)\n",
    "sorted_shap = np.sort(mean_abs_shap)[::-1]\n",
    "cumulative = np.cumsum(sorted_shap) / np.sum(sorted_shap)\n",
    "\n",
    "plt.figure(figsize=(10, 6))\n",
    "plt.plot(np.arange(1, len(cumulative)+1), cumulative, marker='o')\n",
    "plt.axhline(y=0.95, color='red', linestyle='--', label='95% Threshold')\n",
    "plt.title(\"Cumulative SHAP Importance by Top-N Features\")\n",
    "plt.xlabel(\"Number of Top Features\")\n",
    "plt.ylabel(\"Cumulative SHAP Importance\")\n",
    "plt.grid(True)\n",
    "plt.legend()\n",
    "plt.tight_layout()\n",
    "plt.show()"
   ]
  },
  {
   "cell_type": "code",
   "execution_count": 52,
   "metadata": {},
   "outputs": [
    {
     "name": "stdout",
     "output_type": "stream",
     "text": [
      "Top 12 features capture 95% of SHAP importance\n"
     ]
    }
   ],
   "source": [
    "# Find the cutoff where 95% of SHAP importance is reached\n",
    "num_features = np.argmax(cumulative >= 0.95) + 1\n",
    "print(f\"Top {num_features} features capture 95% of SHAP importance\")"
   ]
  },
  {
   "cell_type": "markdown",
   "metadata": {},
   "source": [
    "12 features out of 72 "
   ]
  },
  {
   "cell_type": "code",
   "execution_count": 100,
   "metadata": {},
   "outputs": [],
   "source": [
    "def shap_reduce(id, num_features):\n",
    "    shap_importance = pd.DataFrame({\n",
    "        'Feature': X_train.columns,\n",
    "        'MeanAbsSHAP': mean_abs_shap\n",
    "    }).sort_values(by='MeanAbsSHAP', ascending=False)\n",
    "\n",
    "    # Get top features\n",
    "    top_features = shap_importance.head(num_features)['Feature'].tolist()\n",
    "    print(top_features)\n",
    "\n",
    "    # Filter training and test sets to top SHAP features\n",
    "    X_train_reduced = X_train[top_features]\n",
    "    X_test_reduced = X_test[top_features]\n",
    "\n",
    "    # Retrain\n",
    "    xgb_reduced = XGBClassifier(scale_pos_weight=scale_pos_weight,\n",
    "                                use_label_encoder=False,\n",
    "                                eval_metric='logloss',\n",
    "                                random_state=42)\n",
    "    xgb_reduced.fit(X_train_reduced, y_train)\n",
    "\n",
    "    y_pred = xgb_reduced.predict(X_test_reduced)\n",
    "    y_pred_proba = xgb_reduced.predict_proba(X_test_reduced)[:, 1]\n",
    "\n",
    "    print(classification_report(y_test, y_pred))\n",
    "    print(\"AUC-ROC:\", roc_auc_score(y_test, y_pred_proba))\n",
    "    print(\"AUC-PR:\", average_precision_score(y_test, y_pred_proba))\n",
    "\n",
    "    df_preds = precision_at_k(y_test, y_pred, k_percent=0.05)\n",
    "    \n",
    "    joblib.dump((xgb_reduced, top_features), f\"xgb_{id}.pkl\")"
   ]
  },
  {
   "cell_type": "code",
   "execution_count": 101,
   "metadata": {},
   "outputs": [
    {
     "name": "stdout",
     "output_type": "stream",
     "text": [
      "['CustomerReturnRate', 'CustomerNumOfReturns', 'TotalLineValue', 'Price', 'CustomerTotalSpend', 'InvoiceMonth', 'Quantity', 'CustomerAvgSpend', 'CustomerAvgBasketSize', 'CustomerTotalItems', 'CustomerOrdersPlaced', 'CustomerLoyaltySpan']\n"
     ]
    },
    {
     "name": "stderr",
     "output_type": "stream",
     "text": [
      "/Library/Frameworks/Python.framework/Versions/3.13/lib/python3.13/site-packages/xgboost/core.py:158: UserWarning: [16:57:00] WARNING: /Users/runner/work/xgboost/xgboost/src/learner.cc:740: \n",
      "Parameters: { \"use_label_encoder\" } are not used.\n",
      "\n",
      "  warnings.warn(smsg, UserWarning)\n"
     ]
    },
    {
     "name": "stdout",
     "output_type": "stream",
     "text": [
      "              precision    recall  f1-score   support\n",
      "\n",
      "           0       0.99      0.80      0.89    157907\n",
      "           1       0.07      0.78      0.14      3217\n",
      "\n",
      "    accuracy                           0.80    161124\n",
      "   macro avg       0.53      0.79      0.51    161124\n",
      "weighted avg       0.98      0.80      0.87    161124\n",
      "\n",
      "AUC-ROC: 0.8876962947339782\n",
      "AUC-PR: 0.23571349359491547\n",
      "Top-5% Precision: 0.0744\n"
     ]
    }
   ],
   "source": [
    "shap_reduce(5, 12)"
   ]
  },
  {
   "cell_type": "code",
   "execution_count": 102,
   "metadata": {},
   "outputs": [
    {
     "name": "stdout",
     "output_type": "stream",
     "text": [
      "Top 15 features capture 98% of SHAP importance\n"
     ]
    }
   ],
   "source": [
    "# Find the cutoff where 98% of SHAP importance is reached\n",
    "num_features = np.argmax(cumulative >= 0.98) + 1\n",
    "print(f\"Top {num_features} features capture 98% of SHAP importance\")"
   ]
  },
  {
   "cell_type": "code",
   "execution_count": 103,
   "metadata": {},
   "outputs": [
    {
     "name": "stdout",
     "output_type": "stream",
     "text": [
      "['CustomerReturnRate', 'CustomerNumOfReturns', 'TotalLineValue', 'Price', 'CustomerTotalSpend', 'InvoiceMonth', 'Quantity', 'CustomerAvgSpend', 'CustomerAvgBasketSize', 'CustomerTotalItems', 'CustomerOrdersPlaced', 'CustomerLoyaltySpan', 'InvoiceHour', 'InvoiceDayOfWeek', 'CustomerDaysActive']\n"
     ]
    },
    {
     "name": "stderr",
     "output_type": "stream",
     "text": [
      "/Library/Frameworks/Python.framework/Versions/3.13/lib/python3.13/site-packages/xgboost/core.py:158: UserWarning: [16:57:05] WARNING: /Users/runner/work/xgboost/xgboost/src/learner.cc:740: \n",
      "Parameters: { \"use_label_encoder\" } are not used.\n",
      "\n",
      "  warnings.warn(smsg, UserWarning)\n"
     ]
    },
    {
     "name": "stdout",
     "output_type": "stream",
     "text": [
      "              precision    recall  f1-score   support\n",
      "\n",
      "           0       0.99      0.81      0.89    157907\n",
      "           1       0.08      0.79      0.14      3217\n",
      "\n",
      "    accuracy                           0.81    161124\n",
      "   macro avg       0.54      0.80      0.52    161124\n",
      "weighted avg       0.98      0.81      0.88    161124\n",
      "\n",
      "AUC-ROC: 0.8902493688522262\n",
      "AUC-PR: 0.24712892584691015\n",
      "Top-5% Precision: 0.0768\n"
     ]
    }
   ],
   "source": [
    "shap_reduce(6, 15)"
   ]
  },
  {
   "cell_type": "code",
   "execution_count": 69,
   "metadata": {},
   "outputs": [],
   "source": [
    "from sklearn.utils import resample\n",
    "import pandas as pd\n",
    "\n",
    "# Combine X and y\n",
    "train_df = X_train.copy()\n",
    "train_df['target'] = y_train\n",
    "\n",
    "# Separate majority and minority classes\n",
    "df_majority = train_df[train_df['target'] == 0]\n",
    "df_minority = train_df[train_df['target'] == 1]\n",
    "\n",
    "# Undersample majority class\n",
    "df_majority_undersampled = resample(\n",
    "    df_majority,\n",
    "    replace=False,\n",
    "    n_samples=len(df_minority) * 3,  # Try 3:1 ratio\n",
    "    random_state=42\n",
    ")\n",
    "\n",
    "# Combine\n",
    "df_undersampled = pd.concat([df_majority_undersampled, df_minority])\n",
    "\n",
    "# Shuffle and split back into X and y\n",
    "X_train_under = df_undersampled.drop(columns='target')\n",
    "y_train_under = df_undersampled['target']\n"
   ]
  },
  {
   "cell_type": "code",
   "execution_count": null,
   "metadata": {},
   "outputs": [
    {
     "name": "stderr",
     "output_type": "stream",
     "text": [
      "/Library/Frameworks/Python.framework/Versions/3.13/lib/python3.13/site-packages/xgboost/core.py:158: UserWarning: [16:14:05] WARNING: /Users/runner/work/xgboost/xgboost/src/learner.cc:740: \n",
      "Parameters: { \"use_label_encoder\" } are not used.\n",
      "\n",
      "  warnings.warn(smsg, UserWarning)\n"
     ]
    },
    {
     "name": "stdout",
     "output_type": "stream",
     "text": [
      "              precision    recall  f1-score   support\n",
      "\n",
      "           0       0.99      0.92      0.95    157907\n",
      "           1       0.13      0.58      0.21      3217\n",
      "\n",
      "    accuracy                           0.91    161124\n",
      "   macro avg       0.56      0.75      0.58    161124\n",
      "weighted avg       0.97      0.91      0.94    161124\n",
      "\n",
      "AUC-ROC: 0.8900981523302084\n",
      "AUC-PR: 0.22227453834329305\n",
      "Top-5% Precision: 0.1321\n"
     ]
    },
    {
     "data": {
      "image/png": "[encoded data removed]",
      "text/plain": [
       "<Figure size 640x480 with 1 Axes>"
      ]
     },
     "metadata": {},
     "output_type": "display_data"
    },
    {
     "data": {
      "text/plain": [
       "['xgb_7.pkl']"
      ]
     },
     "execution_count": 71,
     "metadata": {},
     "output_type": "execute_result"
    }
   ],
   "source": [
    "xgb_model = XGBClassifier(\n",
    "    use_label_encoder=False,\n",
    "    eval_metric='logloss',\n",
    "    random_state=42\n",
    ")\n",
    "\n",
    "xgb_model.fit(X_train_under, y_train_under)\n",
    "\n",
    "y_pred = xgb_model.predict(X_test)\n",
    "y_pred_proba = xgb_model.predict_proba(X_test)[:, 1]\n",
    "\n",
    "print(classification_report(y_test, y_pred))\n",
    "print(f\"AUC-ROC: {roc_auc_score(y_test, y_pred_proba)}\")\n",
    "print(\"AUC-PR:\", average_precision_score(y_test, y_pred_proba))\n",
    "df_preds = precision_at_k(y_test, y_pred, k_percent=0.05)\n",
    "\n",
    "precision, recall, _ = precision_recall_curve(y_test, y_pred_proba)\n",
    "\n",
    "plt.plot(recall, precision)\n",
    "plt.xlabel(\"Recall\")\n",
    "plt.ylabel(\"Precision\")\n",
    "plt.title(\"Precision-Recall Curve\")\n",
    "plt.show()\n",
    "\n",
    "# Save the model\n",
    "joblib.dump(xgb_model, \"xgb_7.pkl\")\n"
   ]
  },
  {
   "cell_type": "code",
   "execution_count": 74,
   "metadata": {},
   "outputs": [
    {
     "name": "stdout",
     "output_type": "stream",
     "text": [
      "scale_pos_weight: 3.00\n"
     ]
    }
   ],
   "source": [
    "# weight ratio between the majority class (non-returns) and the minority class (returns) in the training data.\n",
    "scale_pos_weight_under = (y_train_under == 0).sum() / (y_train_under == 1).sum()\n",
    "print(f\"scale_pos_weight: {scale_pos_weight_under:.2f}\")"
   ]
  },
  {
   "cell_type": "code",
   "execution_count": 75,
   "metadata": {},
   "outputs": [
    {
     "name": "stderr",
     "output_type": "stream",
     "text": [
      "/Library/Frameworks/Python.framework/Versions/3.13/lib/python3.13/site-packages/xgboost/core.py:158: UserWarning: [16:16:17] WARNING: /Users/runner/work/xgboost/xgboost/src/learner.cc:740: \n",
      "Parameters: { \"use_label_encoder\" } are not used.\n",
      "\n",
      "  warnings.warn(smsg, UserWarning)\n"
     ]
    },
    {
     "name": "stdout",
     "output_type": "stream",
     "text": [
      "              precision    recall  f1-score   support\n",
      "\n",
      "           0       0.99      0.79      0.88    157907\n",
      "           1       0.07      0.80      0.13      3217\n",
      "\n",
      "    accuracy                           0.79    161124\n",
      "   macro avg       0.53      0.80      0.51    161124\n",
      "weighted avg       0.98      0.79      0.87    161124\n",
      "\n",
      "AUC-ROC: 0.8886811332795626\n",
      "AUC-PR: 0.21986286851220732\n",
      "Top-5% Precision: 0.0700\n"
     ]
    },
    {
     "data": {
      "image/png": "[encoded data removed]",
      "text/plain": [
       "<Figure size 640x480 with 1 Axes>"
      ]
     },
     "metadata": {},
     "output_type": "display_data"
    },
    {
     "data": {
      "text/plain": [
       "['xgb_8.pkl']"
      ]
     },
     "execution_count": 75,
     "metadata": {},
     "output_type": "execute_result"
    }
   ],
   "source": [
    "xgb_model = XGBClassifier(\n",
    "    use_label_encoder=False,\n",
    "    scale_pos_weight=scale_pos_weight_under,\n",
    "    eval_metric='logloss',\n",
    "    random_state=42\n",
    ")\n",
    "\n",
    "xgb_model.fit(X_train_under, y_train_under)\n",
    "\n",
    "y_pred = xgb_model.predict(X_test)\n",
    "y_pred_proba = xgb_model.predict_proba(X_test)[:, 1]\n",
    "\n",
    "print(classification_report(y_test, y_pred))\n",
    "print(f\"AUC-ROC: {roc_auc_score(y_test, y_pred_proba)}\")\n",
    "print(\"AUC-PR:\", average_precision_score(y_test, y_pred_proba))\n",
    "df_preds = precision_at_k(y_test, y_pred, k_percent=0.05)\n",
    "\n",
    "precision, recall, _ = precision_recall_curve(y_test, y_pred_proba)\n",
    "\n",
    "plt.plot(recall, precision)\n",
    "plt.xlabel(\"Recall\")\n",
    "plt.ylabel(\"Precision\")\n",
    "plt.title(\"Precision-Recall Curve\")\n",
    "plt.show()\n",
    "\n",
    "# Save the model\n",
    "joblib.dump(xgb_model, \"xgb_8.pkl\")"
   ]
  },
  {
   "cell_type": "code",
   "execution_count": 76,
   "metadata": {},
   "outputs": [
    {
     "name": "stderr",
     "output_type": "stream",
     "text": [
      "/Library/Frameworks/Python.framework/Versions/3.13/lib/python3.13/site-packages/xgboost/core.py:158: UserWarning: [16:18:35] WARNING: /Users/runner/work/xgboost/xgboost/src/learner.cc:740: \n",
      "Parameters: { \"use_label_encoder\" } are not used.\n",
      "\n",
      "  warnings.warn(smsg, UserWarning)\n"
     ]
    },
    {
     "name": "stdout",
     "output_type": "stream",
     "text": [
      "              precision    recall  f1-score   support\n",
      "\n",
      "           0       0.99      0.87      0.93    157907\n",
      "           1       0.10      0.68      0.17      3217\n",
      "\n",
      "    accuracy                           0.87    161124\n",
      "   macro avg       0.54      0.78      0.55    161124\n",
      "weighted avg       0.97      0.87      0.91    161124\n",
      "\n",
      "AUC-ROC: 0.8852405282586674\n",
      "AUC-PR: 0.21303880509961906\n",
      "Top-5% Precision: 0.0988\n"
     ]
    },
    {
     "data": {
      "image/png": "[encoded data removed]",
      "text/plain": [
       "<Figure size 640x480 with 1 Axes>"
      ]
     },
     "metadata": {},
     "output_type": "display_data"
    },
    {
     "data": {
      "text/plain": [
       "['xgb_9.pkl']"
      ]
     },
     "execution_count": 76,
     "metadata": {},
     "output_type": "execute_result"
    }
   ],
   "source": [
    "smote = SMOTE(random_state=42)\n",
    "X_train_smote, y_train_smote = smote.fit_resample(X_train_under, y_train_under)\n",
    "\n",
    "xgb_model = XGBClassifier(\n",
    "    use_label_encoder=False,\n",
    "    eval_metric='logloss',\n",
    "    random_state=42\n",
    ")\n",
    "\n",
    "xgb_model.fit(X_train_smote, y_train_smote)\n",
    "\n",
    "y_pred = xgb_model.predict(X_test)\n",
    "y_pred_proba = xgb_model.predict_proba(X_test)[:, 1]\n",
    "\n",
    "print(classification_report(y_test, y_pred))\n",
    "print(f\"AUC-ROC: {roc_auc_score(y_test, y_pred_proba)}\")\n",
    "print(\"AUC-PR:\", average_precision_score(y_test, y_pred_proba))\n",
    "df_preds = precision_at_k(y_test, y_pred, k_percent=0.05)\n",
    "\n",
    "precision, recall, _ = precision_recall_curve(y_test, y_pred_proba)\n",
    "\n",
    "plt.plot(recall, precision)\n",
    "plt.xlabel(\"Recall\")\n",
    "plt.ylabel(\"Precision\")\n",
    "plt.title(\"Precision-Recall Curve\")\n",
    "plt.show()\n",
    "\n",
    "# Save the model\n",
    "joblib.dump(xgb_model, \"xgb_9.pkl\")"
   ]
  },
  {
   "cell_type": "code",
   "execution_count": 106,
   "metadata": {},
   "outputs": [
    {
     "data": {
      "text/plain": [
       "['CustomerReturnRate',\n",
       " 'CustomerNumOfReturns',\n",
       " 'TotalLineValue',\n",
       " 'Price',\n",
       " 'CustomerTotalSpend',\n",
       " 'InvoiceMonth',\n",
       " 'Quantity',\n",
       " 'CustomerAvgSpend',\n",
       " 'CustomerAvgBasketSize',\n",
       " 'CustomerTotalItems',\n",
       " 'CustomerOrdersPlaced',\n",
       " 'CustomerLoyaltySpan']"
      ]
     },
     "execution_count": 106,
     "metadata": {},
     "output_type": "execute_result"
    }
   ],
   "source": [
    "xgb_model, top_features = load(\"xgb_5.pkl\")\n",
    "top_features"
   ]
  },
  {
   "cell_type": "code",
   "execution_count": 107,
   "metadata": {},
   "outputs": [
    {
     "name": "stdout",
     "output_type": "stream",
     "text": [
      "              precision    recall  f1-score   support\n",
      "\n",
      "           0       0.99      0.80      0.89    157907\n",
      "           1       0.07      0.78      0.14      3217\n",
      "\n",
      "    accuracy                           0.80    161124\n",
      "   macro avg       0.53      0.79      0.51    161124\n",
      "weighted avg       0.98      0.80      0.87    161124\n",
      "\n",
      "AUC-ROC: 0.8876962947339782\n",
      "AUC-PR: 0.23571349359491547\n",
      "Top-5% Precision: 0.0744\n"
     ]
    }
   ],
   "source": [
    "X_test_reduced = X_test[top_features]\n",
    "y_pred = xgb_model.predict(X_test_reduced)\n",
    "y_pred_proba = xgb_model.predict_proba(X_test_reduced)[:, 1]\n",
    "\n",
    "print(classification_report(y_test, y_pred))\n",
    "print(f\"AUC-ROC: {roc_auc_score(y_test, y_pred_proba)}\")\n",
    "print(\"AUC-PR:\", average_precision_score(y_test, y_pred_proba))\n",
    "df_preds = precision_at_k(y_test, y_pred, k_percent=0.05)"
   ]
  },
  {
   "cell_type": "code",
   "execution_count": 110,
   "metadata": {},
   "outputs": [
    {
     "name": "stdout",
     "output_type": "stream",
     "text": [
      "              precision    recall  f1-score   support\n",
      "\n",
      "           0       1.00      0.73      0.85    157907\n",
      "           1       0.06      0.86      0.12      3217\n",
      "\n",
      "    accuracy                           0.74    161124\n",
      "   macro avg       0.53      0.80      0.48    161124\n",
      "weighted avg       0.98      0.74      0.83    161124\n",
      "\n",
      "Top-5% Precision: 0.0608\n"
     ]
    }
   ],
   "source": [
    "threshold = 0.4\n",
    "y_pred_custom = (y_pred_proba > threshold).astype(int)\n",
    "print(classification_report(y_test, y_pred_custom))\n",
    "df_preds = precision_at_k(y_test, y_pred_custom, k_percent=0.05)"
   ]
  },
  {
   "cell_type": "markdown",
   "metadata": {},
   "source": [
    "Go with Model 5 (ID 7) - 12 features modeled after Model 2.\n",
    "- Good recall - catching most returns\n",
    "- Decent precision (0.07) — better than random (baseline is 2%)\n",
    "- Top-5% precision is stronger (0.0744) than threshold = 0.4\n",
    "- 12 SHAP features — simpler, faster, more interpretable"
   ]
  },
  {
   "cell_type": "markdown",
   "metadata": {},
   "source": [
    "#### Tune hyperparameters"
   ]
  },
  {
   "cell_type": "code",
   "execution_count": 112,
   "metadata": {},
   "outputs": [],
   "source": [
    "xgb_model, top_features = joblib.load(\"xgb_5.pkl\")  # ID 7 model\n",
    "X_train = X_train[top_features]\n",
    "X_test = X_test[top_features]"
   ]
  },
  {
   "cell_type": "code",
   "execution_count": 121,
   "metadata": {},
   "outputs": [
    {
     "name": "stdout",
     "output_type": "stream",
     "text": [
      "Fitting 5 folds for each of 20 candidates, totalling 100 fits\n"
     ]
    },
    {
     "name": "stderr",
     "output_type": "stream",
     "text": [
      "/Library/Frameworks/Python.framework/Versions/3.13/lib/python3.13/site-packages/xgboost/core.py:158: UserWarning: [16:59:00] WARNING: /Users/runner/work/xgboost/xgboost/src/learner.cc:740: \n",
      "Parameters: { \"use_label_encoder\" } are not used.\n",
      "\n",
      "  warnings.warn(smsg, UserWarning)\n",
      "/Library/Frameworks/Python.framework/Versions/3.13/lib/python3.13/site-packages/xgboost/core.py:158: UserWarning: [16:59:00] WARNING: /Users/runner/work/xgboost/xgboost/src/learner.cc:740: \n",
      "Parameters: { \"use_label_encoder\" } are not used.\n",
      "\n",
      "  warnings.warn(smsg, UserWarning)\n",
      "/Library/Frameworks/Python.framework/Versions/3.13/lib/python3.13/site-packages/xgboost/core.py:158: UserWarning: [16:59:00] WARNING: /Users/runner/work/xgboost/xgboost/src/learner.cc:740: \n",
      "Parameters: { \"use_label_encoder\" } are not used.\n",
      "\n",
      "  warnings.warn(smsg, UserWarning)\n",
      "/Library/Frameworks/Python.framework/Versions/3.13/lib/python3.13/site-packages/xgboost/core.py:158: UserWarning: [16:59:00] WARNING: /Users/runner/work/xgboost/xgboost/src/learner.cc:740: \n",
      "Parameters: { \"use_label_encoder\" } are not used.\n",
      "\n",
      "  warnings.warn(smsg, UserWarning)\n",
      "/Library/Frameworks/Python.framework/Versions/3.13/lib/python3.13/site-packages/xgboost/core.py:158: UserWarning: [16:59:00] WARNING: /Users/runner/work/xgboost/xgboost/src/learner.cc:740: \n",
      "Parameters: { \"use_label_encoder\" } are not used.\n",
      "\n",
      "  warnings.warn(smsg, UserWarning)\n",
      "/Library/Frameworks/Python.framework/Versions/3.13/lib/python3.13/site-packages/xgboost/core.py:158: UserWarning: [16:59:00] WARNING: /Users/runner/work/xgboost/xgboost/src/learner.cc:740: \n",
      "Parameters: { \"use_label_encoder\" } are not used.\n",
      "\n",
      "  warnings.warn(smsg, UserWarning)\n",
      "/Library/Frameworks/Python.framework/Versions/3.13/lib/python3.13/site-packages/xgboost/core.py:158: UserWarning: [16:59:00] WARNING: /Users/runner/work/xgboost/xgboost/src/learner.cc:740: \n",
      "Parameters: { \"use_label_encoder\" } are not used.\n",
      "\n",
      "  warnings.warn(smsg, UserWarning)\n",
      "/Library/Frameworks/Python.framework/Versions/3.13/lib/python3.13/site-packages/xgboost/core.py:158: UserWarning: [16:59:00] WARNING: /Users/runner/work/xgboost/xgboost/src/learner.cc:740: \n",
      "Parameters: { \"use_label_encoder\" } are not used.\n",
      "\n",
      "  warnings.warn(smsg, UserWarning)\n",
      "/Library/Frameworks/Python.framework/Versions/3.13/lib/python3.13/site-packages/xgboost/core.py:158: UserWarning: [16:59:12] WARNING: /Users/runner/work/xgboost/xgboost/src/learner.cc:740: \n",
      "Parameters: { \"use_label_encoder\" } are not used.\n",
      "\n",
      "  warnings.warn(smsg, UserWarning)\n",
      "/Library/Frameworks/Python.framework/Versions/3.13/lib/python3.13/site-packages/xgboost/core.py:158: UserWarning: [16:59:12] WARNING: /Users/runner/work/xgboost/xgboost/src/learner.cc:740: \n",
      "Parameters: { \"use_label_encoder\" } are not used.\n",
      "\n",
      "  warnings.warn(smsg, UserWarning)\n",
      "/Library/Frameworks/Python.framework/Versions/3.13/lib/python3.13/site-packages/xgboost/core.py:158: UserWarning: [16:59:13] WARNING: /Users/runner/work/xgboost/xgboost/src/learner.cc:740: \n",
      "Parameters: { \"use_label_encoder\" } are not used.\n",
      "\n",
      "  warnings.warn(smsg, UserWarning)\n",
      "/Library/Frameworks/Python.framework/Versions/3.13/lib/python3.13/site-packages/xgboost/core.py:158: UserWarning: [16:59:13] WARNING: /Users/runner/work/xgboost/xgboost/src/learner.cc:740: \n",
      "Parameters: { \"use_label_encoder\" } are not used.\n",
      "\n",
      "  warnings.warn(smsg, UserWarning)\n",
      "/Library/Frameworks/Python.framework/Versions/3.13/lib/python3.13/site-packages/xgboost/core.py:158: UserWarning: [16:59:13] WARNING: /Users/runner/work/xgboost/xgboost/src/learner.cc:740: \n",
      "Parameters: { \"use_label_encoder\" } are not used.\n",
      "\n",
      "  warnings.warn(smsg, UserWarning)\n",
      "/Library/Frameworks/Python.framework/Versions/3.13/lib/python3.13/site-packages/xgboost/core.py:158: UserWarning: [16:59:13] WARNING: /Users/runner/work/xgboost/xgboost/src/learner.cc:740: \n",
      "Parameters: { \"use_label_encoder\" } are not used.\n",
      "\n",
      "  warnings.warn(smsg, UserWarning)\n",
      "/Library/Frameworks/Python.framework/Versions/3.13/lib/python3.13/site-packages/xgboost/core.py:158: UserWarning: [16:59:13] WARNING: /Users/runner/work/xgboost/xgboost/src/learner.cc:740: \n",
      "Parameters: { \"use_label_encoder\" } are not used.\n",
      "\n",
      "  warnings.warn(smsg, UserWarning)\n",
      "/Library/Frameworks/Python.framework/Versions/3.13/lib/python3.13/site-packages/xgboost/core.py:158: UserWarning: [16:59:13] WARNING: /Users/runner/work/xgboost/xgboost/src/learner.cc:740: \n",
      "Parameters: { \"use_label_encoder\" } are not used.\n",
      "\n",
      "  warnings.warn(smsg, UserWarning)\n",
      "/Library/Frameworks/Python.framework/Versions/3.13/lib/python3.13/site-packages/xgboost/core.py:158: UserWarning: [16:59:16] WARNING: /Users/runner/work/xgboost/xgboost/src/learner.cc:740: \n",
      "Parameters: { \"use_label_encoder\" } are not used.\n",
      "\n",
      "  warnings.warn(smsg, UserWarning)\n",
      "/Library/Frameworks/Python.framework/Versions/3.13/lib/python3.13/site-packages/xgboost/core.py:158: UserWarning: [16:59:16] WARNING: /Users/runner/work/xgboost/xgboost/src/learner.cc:740: \n",
      "Parameters: { \"use_label_encoder\" } are not used.\n",
      "\n",
      "  warnings.warn(smsg, UserWarning)\n",
      "/Library/Frameworks/Python.framework/Versions/3.13/lib/python3.13/site-packages/xgboost/core.py:158: UserWarning: [16:59:16] WARNING: /Users/runner/work/xgboost/xgboost/src/learner.cc:740: \n",
      "Parameters: { \"use_label_encoder\" } are not used.\n",
      "\n",
      "  warnings.warn(smsg, UserWarning)\n",
      "/Library/Frameworks/Python.framework/Versions/3.13/lib/python3.13/site-packages/xgboost/core.py:158: UserWarning: [16:59:17] WARNING: /Users/runner/work/xgboost/xgboost/src/learner.cc:740: \n",
      "Parameters: { \"use_label_encoder\" } are not used.\n",
      "\n",
      "  warnings.warn(smsg, UserWarning)\n",
      "/Library/Frameworks/Python.framework/Versions/3.13/lib/python3.13/site-packages/xgboost/core.py:158: UserWarning: [16:59:17] WARNING: /Users/runner/work/xgboost/xgboost/src/learner.cc:740: \n",
      "Parameters: { \"use_label_encoder\" } are not used.\n",
      "\n",
      "  warnings.warn(smsg, UserWarning)\n",
      "/Library/Frameworks/Python.framework/Versions/3.13/lib/python3.13/site-packages/xgboost/core.py:158: UserWarning: [16:59:17] WARNING: /Users/runner/work/xgboost/xgboost/src/learner.cc:740: \n",
      "Parameters: { \"use_label_encoder\" } are not used.\n",
      "\n",
      "  warnings.warn(smsg, UserWarning)\n",
      "/Library/Frameworks/Python.framework/Versions/3.13/lib/python3.13/site-packages/xgboost/core.py:158: UserWarning: [16:59:19] WARNING: /Users/runner/work/xgboost/xgboost/src/learner.cc:740: \n",
      "Parameters: { \"use_label_encoder\" } are not used.\n",
      "\n",
      "  warnings.warn(smsg, UserWarning)\n",
      "/Library/Frameworks/Python.framework/Versions/3.13/lib/python3.13/site-packages/xgboost/core.py:158: UserWarning: [16:59:19] WARNING: /Users/runner/work/xgboost/xgboost/src/learner.cc:740: \n",
      "Parameters: { \"use_label_encoder\" } are not used.\n",
      "\n",
      "  warnings.warn(smsg, UserWarning)\n",
      "/Library/Frameworks/Python.framework/Versions/3.13/lib/python3.13/site-packages/xgboost/core.py:158: UserWarning: [16:59:20] WARNING: /Users/runner/work/xgboost/xgboost/src/learner.cc:740: \n",
      "Parameters: { \"use_label_encoder\" } are not used.\n",
      "\n",
      "  warnings.warn(smsg, UserWarning)\n",
      "/Library/Frameworks/Python.framework/Versions/3.13/lib/python3.13/site-packages/xgboost/core.py:158: UserWarning: [16:59:20] WARNING: /Users/runner/work/xgboost/xgboost/src/learner.cc:740: \n",
      "Parameters: { \"use_label_encoder\" } are not used.\n",
      "\n",
      "  warnings.warn(smsg, UserWarning)\n",
      "/Library/Frameworks/Python.framework/Versions/3.13/lib/python3.13/site-packages/xgboost/core.py:158: UserWarning: [16:59:24] WARNING: /Users/runner/work/xgboost/xgboost/src/learner.cc:740: \n",
      "Parameters: { \"use_label_encoder\" } are not used.\n",
      "\n",
      "  warnings.warn(smsg, UserWarning)\n",
      "/Library/Frameworks/Python.framework/Versions/3.13/lib/python3.13/site-packages/xgboost/core.py:158: UserWarning: [16:59:24] WARNING: /Users/runner/work/xgboost/xgboost/src/learner.cc:740: \n",
      "Parameters: { \"use_label_encoder\" } are not used.\n",
      "\n",
      "  warnings.warn(smsg, UserWarning)\n",
      "/Library/Frameworks/Python.framework/Versions/3.13/lib/python3.13/site-packages/xgboost/core.py:158: UserWarning: [16:59:24] WARNING: /Users/runner/work/xgboost/xgboost/src/learner.cc:740: \n",
      "Parameters: { \"use_label_encoder\" } are not used.\n",
      "\n",
      "  warnings.warn(smsg, UserWarning)\n",
      "/Library/Frameworks/Python.framework/Versions/3.13/lib/python3.13/site-packages/xgboost/core.py:158: UserWarning: [16:59:24] WARNING: /Users/runner/work/xgboost/xgboost/src/learner.cc:740: \n",
      "Parameters: { \"use_label_encoder\" } are not used.\n",
      "\n",
      "  warnings.warn(smsg, UserWarning)\n",
      "/Library/Frameworks/Python.framework/Versions/3.13/lib/python3.13/site-packages/xgboost/core.py:158: UserWarning: [16:59:24] WARNING: /Users/runner/work/xgboost/xgboost/src/learner.cc:740: \n",
      "Parameters: { \"use_label_encoder\" } are not used.\n",
      "\n",
      "  warnings.warn(smsg, UserWarning)\n",
      "/Library/Frameworks/Python.framework/Versions/3.13/lib/python3.13/site-packages/xgboost/core.py:158: UserWarning: [16:59:26] WARNING: /Users/runner/work/xgboost/xgboost/src/learner.cc:740: \n",
      "Parameters: { \"use_label_encoder\" } are not used.\n",
      "\n",
      "  warnings.warn(smsg, UserWarning)\n",
      "/Library/Frameworks/Python.framework/Versions/3.13/lib/python3.13/site-packages/xgboost/core.py:158: UserWarning: [16:59:26] WARNING: /Users/runner/work/xgboost/xgboost/src/learner.cc:740: \n",
      "Parameters: { \"use_label_encoder\" } are not used.\n",
      "\n",
      "  warnings.warn(smsg, UserWarning)\n",
      "/Library/Frameworks/Python.framework/Versions/3.13/lib/python3.13/site-packages/xgboost/core.py:158: UserWarning: [16:59:26] WARNING: /Users/runner/work/xgboost/xgboost/src/learner.cc:740: \n",
      "Parameters: { \"use_label_encoder\" } are not used.\n",
      "\n",
      "  warnings.warn(smsg, UserWarning)\n",
      "/Library/Frameworks/Python.framework/Versions/3.13/lib/python3.13/site-packages/xgboost/core.py:158: UserWarning: [16:59:27] WARNING: /Users/runner/work/xgboost/xgboost/src/learner.cc:740: \n",
      "Parameters: { \"use_label_encoder\" } are not used.\n",
      "\n",
      "  warnings.warn(smsg, UserWarning)\n",
      "/Library/Frameworks/Python.framework/Versions/3.13/lib/python3.13/site-packages/xgboost/core.py:158: UserWarning: [16:59:27] WARNING: /Users/runner/work/xgboost/xgboost/src/learner.cc:740: \n",
      "Parameters: { \"use_label_encoder\" } are not used.\n",
      "\n",
      "  warnings.warn(smsg, UserWarning)\n",
      "/Library/Frameworks/Python.framework/Versions/3.13/lib/python3.13/site-packages/xgboost/core.py:158: UserWarning: [16:59:27] WARNING: /Users/runner/work/xgboost/xgboost/src/learner.cc:740: \n",
      "Parameters: { \"use_label_encoder\" } are not used.\n",
      "\n",
      "  warnings.warn(smsg, UserWarning)\n",
      "/Library/Frameworks/Python.framework/Versions/3.13/lib/python3.13/site-packages/xgboost/core.py:158: UserWarning: [16:59:27] WARNING: /Users/runner/work/xgboost/xgboost/src/learner.cc:740: \n",
      "Parameters: { \"use_label_encoder\" } are not used.\n",
      "\n",
      "  warnings.warn(smsg, UserWarning)\n",
      "/Library/Frameworks/Python.framework/Versions/3.13/lib/python3.13/site-packages/xgboost/core.py:158: UserWarning: [16:59:28] WARNING: /Users/runner/work/xgboost/xgboost/src/learner.cc:740: \n",
      "Parameters: { \"use_label_encoder\" } are not used.\n",
      "\n",
      "  warnings.warn(smsg, UserWarning)\n",
      "/Library/Frameworks/Python.framework/Versions/3.13/lib/python3.13/site-packages/xgboost/core.py:158: UserWarning: [16:59:30] WARNING: /Users/runner/work/xgboost/xgboost/src/learner.cc:740: \n",
      "Parameters: { \"use_label_encoder\" } are not used.\n",
      "\n",
      "  warnings.warn(smsg, UserWarning)\n",
      "/Library/Frameworks/Python.framework/Versions/3.13/lib/python3.13/site-packages/xgboost/core.py:158: UserWarning: [16:59:31] WARNING: /Users/runner/work/xgboost/xgboost/src/learner.cc:740: \n",
      "Parameters: { \"use_label_encoder\" } are not used.\n",
      "\n",
      "  warnings.warn(smsg, UserWarning)\n",
      "/Library/Frameworks/Python.framework/Versions/3.13/lib/python3.13/site-packages/xgboost/core.py:158: UserWarning: [16:59:31] WARNING: /Users/runner/work/xgboost/xgboost/src/learner.cc:740: \n",
      "Parameters: { \"use_label_encoder\" } are not used.\n",
      "\n",
      "  warnings.warn(smsg, UserWarning)\n",
      "/Library/Frameworks/Python.framework/Versions/3.13/lib/python3.13/site-packages/xgboost/core.py:158: UserWarning: [16:59:31] WARNING: /Users/runner/work/xgboost/xgboost/src/learner.cc:740: \n",
      "Parameters: { \"use_label_encoder\" } are not used.\n",
      "\n",
      "  warnings.warn(smsg, UserWarning)\n",
      "/Library/Frameworks/Python.framework/Versions/3.13/lib/python3.13/site-packages/xgboost/core.py:158: UserWarning: [16:59:35] WARNING: /Users/runner/work/xgboost/xgboost/src/learner.cc:740: \n",
      "Parameters: { \"use_label_encoder\" } are not used.\n",
      "\n",
      "  warnings.warn(smsg, UserWarning)\n",
      "/Library/Frameworks/Python.framework/Versions/3.13/lib/python3.13/site-packages/xgboost/core.py:158: UserWarning: [16:59:35] WARNING: /Users/runner/work/xgboost/xgboost/src/learner.cc:740: \n",
      "Parameters: { \"use_label_encoder\" } are not used.\n",
      "\n",
      "  warnings.warn(smsg, UserWarning)\n",
      "/Library/Frameworks/Python.framework/Versions/3.13/lib/python3.13/site-packages/xgboost/core.py:158: UserWarning: [16:59:35] WARNING: /Users/runner/work/xgboost/xgboost/src/learner.cc:740: \n",
      "Parameters: { \"use_label_encoder\" } are not used.\n",
      "\n",
      "  warnings.warn(smsg, UserWarning)\n",
      "/Library/Frameworks/Python.framework/Versions/3.13/lib/python3.13/site-packages/xgboost/core.py:158: UserWarning: [16:59:39] WARNING: /Users/runner/work/xgboost/xgboost/src/learner.cc:740: \n",
      "Parameters: { \"use_label_encoder\" } are not used.\n",
      "\n",
      "  warnings.warn(smsg, UserWarning)\n",
      "/Library/Frameworks/Python.framework/Versions/3.13/lib/python3.13/site-packages/xgboost/core.py:158: UserWarning: [16:59:39] WARNING: /Users/runner/work/xgboost/xgboost/src/learner.cc:740: \n",
      "Parameters: { \"use_label_encoder\" } are not used.\n",
      "\n",
      "  warnings.warn(smsg, UserWarning)\n",
      "/Library/Frameworks/Python.framework/Versions/3.13/lib/python3.13/site-packages/xgboost/core.py:158: UserWarning: [16:59:49] WARNING: /Users/runner/work/xgboost/xgboost/src/learner.cc:740: \n",
      "Parameters: { \"use_label_encoder\" } are not used.\n",
      "\n",
      "  warnings.warn(smsg, UserWarning)\n",
      "/Library/Frameworks/Python.framework/Versions/3.13/lib/python3.13/site-packages/xgboost/core.py:158: UserWarning: [16:59:49] WARNING: /Users/runner/work/xgboost/xgboost/src/learner.cc:740: \n",
      "Parameters: { \"use_label_encoder\" } are not used.\n",
      "\n",
      "  warnings.warn(smsg, UserWarning)\n",
      "/Library/Frameworks/Python.framework/Versions/3.13/lib/python3.13/site-packages/xgboost/core.py:158: UserWarning: [16:59:49] WARNING: /Users/runner/work/xgboost/xgboost/src/learner.cc:740: \n",
      "Parameters: { \"use_label_encoder\" } are not used.\n",
      "\n",
      "  warnings.warn(smsg, UserWarning)\n",
      "/Library/Frameworks/Python.framework/Versions/3.13/lib/python3.13/site-packages/xgboost/core.py:158: UserWarning: [16:59:50] WARNING: /Users/runner/work/xgboost/xgboost/src/learner.cc:740: \n",
      "Parameters: { \"use_label_encoder\" } are not used.\n",
      "\n",
      "  warnings.warn(smsg, UserWarning)\n",
      "/Library/Frameworks/Python.framework/Versions/3.13/lib/python3.13/site-packages/xgboost/core.py:158: UserWarning: [16:59:51] WARNING: /Users/runner/work/xgboost/xgboost/src/learner.cc:740: \n",
      "Parameters: { \"use_label_encoder\" } are not used.\n",
      "\n",
      "  warnings.warn(smsg, UserWarning)\n",
      "/Library/Frameworks/Python.framework/Versions/3.13/lib/python3.13/site-packages/xgboost/core.py:158: UserWarning: [16:59:52] WARNING: /Users/runner/work/xgboost/xgboost/src/learner.cc:740: \n",
      "Parameters: { \"use_label_encoder\" } are not used.\n",
      "\n",
      "  warnings.warn(smsg, UserWarning)\n",
      "/Library/Frameworks/Python.framework/Versions/3.13/lib/python3.13/site-packages/xgboost/core.py:158: UserWarning: [16:59:53] WARNING: /Users/runner/work/xgboost/xgboost/src/learner.cc:740: \n",
      "Parameters: { \"use_label_encoder\" } are not used.\n",
      "\n",
      "  warnings.warn(smsg, UserWarning)\n",
      "/Library/Frameworks/Python.framework/Versions/3.13/lib/python3.13/site-packages/xgboost/core.py:158: UserWarning: [16:59:54] WARNING: /Users/runner/work/xgboost/xgboost/src/learner.cc:740: \n",
      "Parameters: { \"use_label_encoder\" } are not used.\n",
      "\n",
      "  warnings.warn(smsg, UserWarning)\n",
      "/Library/Frameworks/Python.framework/Versions/3.13/lib/python3.13/site-packages/xgboost/core.py:158: UserWarning: [16:59:54] WARNING: /Users/runner/work/xgboost/xgboost/src/learner.cc:740: \n",
      "Parameters: { \"use_label_encoder\" } are not used.\n",
      "\n",
      "  warnings.warn(smsg, UserWarning)\n",
      "/Library/Frameworks/Python.framework/Versions/3.13/lib/python3.13/site-packages/xgboost/core.py:158: UserWarning: [16:59:54] WARNING: /Users/runner/work/xgboost/xgboost/src/learner.cc:740: \n",
      "Parameters: { \"use_label_encoder\" } are not used.\n",
      "\n",
      "  warnings.warn(smsg, UserWarning)\n",
      "/Library/Frameworks/Python.framework/Versions/3.13/lib/python3.13/site-packages/xgboost/core.py:158: UserWarning: [16:59:54] WARNING: /Users/runner/work/xgboost/xgboost/src/learner.cc:740: \n",
      "Parameters: { \"use_label_encoder\" } are not used.\n",
      "\n",
      "  warnings.warn(smsg, UserWarning)\n",
      "/Library/Frameworks/Python.framework/Versions/3.13/lib/python3.13/site-packages/xgboost/core.py:158: UserWarning: [16:59:56] WARNING: /Users/runner/work/xgboost/xgboost/src/learner.cc:740: \n",
      "Parameters: { \"use_label_encoder\" } are not used.\n",
      "\n",
      "  warnings.warn(smsg, UserWarning)\n",
      "/Library/Frameworks/Python.framework/Versions/3.13/lib/python3.13/site-packages/xgboost/core.py:158: UserWarning: [16:59:57] WARNING: /Users/runner/work/xgboost/xgboost/src/learner.cc:740: \n",
      "Parameters: { \"use_label_encoder\" } are not used.\n",
      "\n",
      "  warnings.warn(smsg, UserWarning)\n",
      "/Library/Frameworks/Python.framework/Versions/3.13/lib/python3.13/site-packages/xgboost/core.py:158: UserWarning: [17:00:03] WARNING: /Users/runner/work/xgboost/xgboost/src/learner.cc:740: \n",
      "Parameters: { \"use_label_encoder\" } are not used.\n",
      "\n",
      "  warnings.warn(smsg, UserWarning)\n",
      "/Library/Frameworks/Python.framework/Versions/3.13/lib/python3.13/site-packages/xgboost/core.py:158: UserWarning: [17:00:04] WARNING: /Users/runner/work/xgboost/xgboost/src/learner.cc:740: \n",
      "Parameters: { \"use_label_encoder\" } are not used.\n",
      "\n",
      "  warnings.warn(smsg, UserWarning)\n",
      "/Library/Frameworks/Python.framework/Versions/3.13/lib/python3.13/site-packages/xgboost/core.py:158: UserWarning: [17:00:07] WARNING: /Users/runner/work/xgboost/xgboost/src/learner.cc:740: \n",
      "Parameters: { \"use_label_encoder\" } are not used.\n",
      "\n",
      "  warnings.warn(smsg, UserWarning)\n",
      "/Library/Frameworks/Python.framework/Versions/3.13/lib/python3.13/site-packages/xgboost/core.py:158: UserWarning: [17:00:07] WARNING: /Users/runner/work/xgboost/xgboost/src/learner.cc:740: \n",
      "Parameters: { \"use_label_encoder\" } are not used.\n",
      "\n",
      "  warnings.warn(smsg, UserWarning)\n",
      "/Library/Frameworks/Python.framework/Versions/3.13/lib/python3.13/site-packages/xgboost/core.py:158: UserWarning: [17:00:08] WARNING: /Users/runner/work/xgboost/xgboost/src/learner.cc:740: \n",
      "Parameters: { \"use_label_encoder\" } are not used.\n",
      "\n",
      "  warnings.warn(smsg, UserWarning)\n",
      "/Library/Frameworks/Python.framework/Versions/3.13/lib/python3.13/site-packages/xgboost/core.py:158: UserWarning: [17:00:08] WARNING: /Users/runner/work/xgboost/xgboost/src/learner.cc:740: \n",
      "Parameters: { \"use_label_encoder\" } are not used.\n",
      "\n",
      "  warnings.warn(smsg, UserWarning)\n",
      "/Library/Frameworks/Python.framework/Versions/3.13/lib/python3.13/site-packages/xgboost/core.py:158: UserWarning: [17:00:09] WARNING: /Users/runner/work/xgboost/xgboost/src/learner.cc:740: \n",
      "Parameters: { \"use_label_encoder\" } are not used.\n",
      "\n",
      "  warnings.warn(smsg, UserWarning)\n",
      "/Library/Frameworks/Python.framework/Versions/3.13/lib/python3.13/site-packages/xgboost/core.py:158: UserWarning: [17:00:10] WARNING: /Users/runner/work/xgboost/xgboost/src/learner.cc:740: \n",
      "Parameters: { \"use_label_encoder\" } are not used.\n",
      "\n",
      "  warnings.warn(smsg, UserWarning)\n",
      "/Library/Frameworks/Python.framework/Versions/3.13/lib/python3.13/site-packages/xgboost/core.py:158: UserWarning: [17:00:17] WARNING: /Users/runner/work/xgboost/xgboost/src/learner.cc:740: \n",
      "Parameters: { \"use_label_encoder\" } are not used.\n",
      "\n",
      "  warnings.warn(smsg, UserWarning)\n",
      "/Library/Frameworks/Python.framework/Versions/3.13/lib/python3.13/site-packages/xgboost/core.py:158: UserWarning: [17:00:17] WARNING: /Users/runner/work/xgboost/xgboost/src/learner.cc:740: \n",
      "Parameters: { \"use_label_encoder\" } are not used.\n",
      "\n",
      "  warnings.warn(smsg, UserWarning)\n",
      "/Library/Frameworks/Python.framework/Versions/3.13/lib/python3.13/site-packages/xgboost/core.py:158: UserWarning: [17:00:17] WARNING: /Users/runner/work/xgboost/xgboost/src/learner.cc:740: \n",
      "Parameters: { \"use_label_encoder\" } are not used.\n",
      "\n",
      "  warnings.warn(smsg, UserWarning)\n",
      "/Library/Frameworks/Python.framework/Versions/3.13/lib/python3.13/site-packages/xgboost/core.py:158: UserWarning: [17:00:18] WARNING: /Users/runner/work/xgboost/xgboost/src/learner.cc:740: \n",
      "Parameters: { \"use_label_encoder\" } are not used.\n",
      "\n",
      "  warnings.warn(smsg, UserWarning)\n",
      "/Library/Frameworks/Python.framework/Versions/3.13/lib/python3.13/site-packages/xgboost/core.py:158: UserWarning: [17:00:19] WARNING: /Users/runner/work/xgboost/xgboost/src/learner.cc:740: \n",
      "Parameters: { \"use_label_encoder\" } are not used.\n",
      "\n",
      "  warnings.warn(smsg, UserWarning)\n",
      "/Library/Frameworks/Python.framework/Versions/3.13/lib/python3.13/site-packages/xgboost/core.py:158: UserWarning: [17:00:19] WARNING: /Users/runner/work/xgboost/xgboost/src/learner.cc:740: \n",
      "Parameters: { \"use_label_encoder\" } are not used.\n",
      "\n",
      "  warnings.warn(smsg, UserWarning)\n",
      "/Library/Frameworks/Python.framework/Versions/3.13/lib/python3.13/site-packages/xgboost/core.py:158: UserWarning: [17:00:20] WARNING: /Users/runner/work/xgboost/xgboost/src/learner.cc:740: \n",
      "Parameters: { \"use_label_encoder\" } are not used.\n",
      "\n",
      "  warnings.warn(smsg, UserWarning)\n",
      "/Library/Frameworks/Python.framework/Versions/3.13/lib/python3.13/site-packages/xgboost/core.py:158: UserWarning: [17:00:21] WARNING: /Users/runner/work/xgboost/xgboost/src/learner.cc:740: \n",
      "Parameters: { \"use_label_encoder\" } are not used.\n",
      "\n",
      "  warnings.warn(smsg, UserWarning)\n",
      "/Library/Frameworks/Python.framework/Versions/3.13/lib/python3.13/site-packages/xgboost/core.py:158: UserWarning: [17:00:26] WARNING: /Users/runner/work/xgboost/xgboost/src/learner.cc:740: \n",
      "Parameters: { \"use_label_encoder\" } are not used.\n",
      "\n",
      "  warnings.warn(smsg, UserWarning)\n",
      "/Library/Frameworks/Python.framework/Versions/3.13/lib/python3.13/site-packages/xgboost/core.py:158: UserWarning: [17:00:29] WARNING: /Users/runner/work/xgboost/xgboost/src/learner.cc:740: \n",
      "Parameters: { \"use_label_encoder\" } are not used.\n",
      "\n",
      "  warnings.warn(smsg, UserWarning)\n",
      "/Library/Frameworks/Python.framework/Versions/3.13/lib/python3.13/site-packages/xgboost/core.py:158: UserWarning: [17:00:29] WARNING: /Users/runner/work/xgboost/xgboost/src/learner.cc:740: \n",
      "Parameters: { \"use_label_encoder\" } are not used.\n",
      "\n",
      "  warnings.warn(smsg, UserWarning)\n",
      "/Library/Frameworks/Python.framework/Versions/3.13/lib/python3.13/site-packages/xgboost/core.py:158: UserWarning: [17:00:29] WARNING: /Users/runner/work/xgboost/xgboost/src/learner.cc:740: \n",
      "Parameters: { \"use_label_encoder\" } are not used.\n",
      "\n",
      "  warnings.warn(smsg, UserWarning)\n",
      "/Library/Frameworks/Python.framework/Versions/3.13/lib/python3.13/site-packages/xgboost/core.py:158: UserWarning: [17:00:31] WARNING: /Users/runner/work/xgboost/xgboost/src/learner.cc:740: \n",
      "Parameters: { \"use_label_encoder\" } are not used.\n",
      "\n",
      "  warnings.warn(smsg, UserWarning)\n",
      "/Library/Frameworks/Python.framework/Versions/3.13/lib/python3.13/site-packages/xgboost/core.py:158: UserWarning: [17:00:31] WARNING: /Users/runner/work/xgboost/xgboost/src/learner.cc:740: \n",
      "Parameters: { \"use_label_encoder\" } are not used.\n",
      "\n",
      "  warnings.warn(smsg, UserWarning)\n",
      "/Library/Frameworks/Python.framework/Versions/3.13/lib/python3.13/site-packages/xgboost/core.py:158: UserWarning: [17:00:34] WARNING: /Users/runner/work/xgboost/xgboost/src/learner.cc:740: \n",
      "Parameters: { \"use_label_encoder\" } are not used.\n",
      "\n",
      "  warnings.warn(smsg, UserWarning)\n",
      "/Library/Frameworks/Python.framework/Versions/3.13/lib/python3.13/site-packages/xgboost/core.py:158: UserWarning: [17:00:35] WARNING: /Users/runner/work/xgboost/xgboost/src/learner.cc:740: \n",
      "Parameters: { \"use_label_encoder\" } are not used.\n",
      "\n",
      "  warnings.warn(smsg, UserWarning)\n",
      "/Library/Frameworks/Python.framework/Versions/3.13/lib/python3.13/site-packages/xgboost/core.py:158: UserWarning: [17:00:40] WARNING: /Users/runner/work/xgboost/xgboost/src/learner.cc:740: \n",
      "Parameters: { \"use_label_encoder\" } are not used.\n",
      "\n",
      "  warnings.warn(smsg, UserWarning)\n",
      "/Library/Frameworks/Python.framework/Versions/3.13/lib/python3.13/site-packages/xgboost/core.py:158: UserWarning: [17:00:43] WARNING: /Users/runner/work/xgboost/xgboost/src/learner.cc:740: \n",
      "Parameters: { \"use_label_encoder\" } are not used.\n",
      "\n",
      "  warnings.warn(smsg, UserWarning)\n",
      "/Library/Frameworks/Python.framework/Versions/3.13/lib/python3.13/site-packages/xgboost/core.py:158: UserWarning: [17:00:43] WARNING: /Users/runner/work/xgboost/xgboost/src/learner.cc:740: \n",
      "Parameters: { \"use_label_encoder\" } are not used.\n",
      "\n",
      "  warnings.warn(smsg, UserWarning)\n",
      "/Library/Frameworks/Python.framework/Versions/3.13/lib/python3.13/site-packages/xgboost/core.py:158: UserWarning: [17:00:45] WARNING: /Users/runner/work/xgboost/xgboost/src/learner.cc:740: \n",
      "Parameters: { \"use_label_encoder\" } are not used.\n",
      "\n",
      "  warnings.warn(smsg, UserWarning)\n",
      "/Library/Frameworks/Python.framework/Versions/3.13/lib/python3.13/site-packages/xgboost/core.py:158: UserWarning: [17:00:46] WARNING: /Users/runner/work/xgboost/xgboost/src/learner.cc:740: \n",
      "Parameters: { \"use_label_encoder\" } are not used.\n",
      "\n",
      "  warnings.warn(smsg, UserWarning)\n",
      "/Library/Frameworks/Python.framework/Versions/3.13/lib/python3.13/site-packages/xgboost/core.py:158: UserWarning: [17:00:47] WARNING: /Users/runner/work/xgboost/xgboost/src/learner.cc:740: \n",
      "Parameters: { \"use_label_encoder\" } are not used.\n",
      "\n",
      "  warnings.warn(smsg, UserWarning)\n",
      "/Library/Frameworks/Python.framework/Versions/3.13/lib/python3.13/site-packages/xgboost/core.py:158: UserWarning: [17:00:47] WARNING: /Users/runner/work/xgboost/xgboost/src/learner.cc:740: \n",
      "Parameters: { \"use_label_encoder\" } are not used.\n",
      "\n",
      "  warnings.warn(smsg, UserWarning)\n",
      "/Library/Frameworks/Python.framework/Versions/3.13/lib/python3.13/site-packages/xgboost/core.py:158: UserWarning: [17:00:50] WARNING: /Users/runner/work/xgboost/xgboost/src/learner.cc:740: \n",
      "Parameters: { \"use_label_encoder\" } are not used.\n",
      "\n",
      "  warnings.warn(smsg, UserWarning)\n",
      "/Library/Frameworks/Python.framework/Versions/3.13/lib/python3.13/site-packages/xgboost/core.py:158: UserWarning: [17:00:50] WARNING: /Users/runner/work/xgboost/xgboost/src/learner.cc:740: \n",
      "Parameters: { \"use_label_encoder\" } are not used.\n",
      "\n",
      "  warnings.warn(smsg, UserWarning)\n",
      "/Library/Frameworks/Python.framework/Versions/3.13/lib/python3.13/site-packages/xgboost/core.py:158: UserWarning: [17:00:50] WARNING: /Users/runner/work/xgboost/xgboost/src/learner.cc:740: \n",
      "Parameters: { \"use_label_encoder\" } are not used.\n",
      "\n",
      "  warnings.warn(smsg, UserWarning)\n",
      "/Library/Frameworks/Python.framework/Versions/3.13/lib/python3.13/site-packages/xgboost/core.py:158: UserWarning: [17:00:50] WARNING: /Users/runner/work/xgboost/xgboost/src/learner.cc:740: \n",
      "Parameters: { \"use_label_encoder\" } are not used.\n",
      "\n",
      "  warnings.warn(smsg, UserWarning)\n",
      "/Library/Frameworks/Python.framework/Versions/3.13/lib/python3.13/site-packages/xgboost/core.py:158: UserWarning: [17:00:50] WARNING: /Users/runner/work/xgboost/xgboost/src/learner.cc:740: \n",
      "Parameters: { \"use_label_encoder\" } are not used.\n",
      "\n",
      "  warnings.warn(smsg, UserWarning)\n",
      "/Library/Frameworks/Python.framework/Versions/3.13/lib/python3.13/site-packages/xgboost/core.py:158: UserWarning: [17:00:50] WARNING: /Users/runner/work/xgboost/xgboost/src/learner.cc:740: \n",
      "Parameters: { \"use_label_encoder\" } are not used.\n",
      "\n",
      "  warnings.warn(smsg, UserWarning)\n",
      "/Library/Frameworks/Python.framework/Versions/3.13/lib/python3.13/site-packages/xgboost/core.py:158: UserWarning: [17:00:51] WARNING: /Users/runner/work/xgboost/xgboost/src/learner.cc:740: \n",
      "Parameters: { \"use_label_encoder\" } are not used.\n",
      "\n",
      "  warnings.warn(smsg, UserWarning)\n",
      "/Library/Frameworks/Python.framework/Versions/3.13/lib/python3.13/site-packages/xgboost/core.py:158: UserWarning: [17:00:53] WARNING: /Users/runner/work/xgboost/xgboost/src/learner.cc:740: \n",
      "Parameters: { \"use_label_encoder\" } are not used.\n",
      "\n",
      "  warnings.warn(smsg, UserWarning)\n",
      "/Library/Frameworks/Python.framework/Versions/3.13/lib/python3.13/site-packages/xgboost/core.py:158: UserWarning: [17:01:05] WARNING: /Users/runner/work/xgboost/xgboost/src/learner.cc:740: \n",
      "Parameters: { \"use_label_encoder\" } are not used.\n",
      "\n",
      "  warnings.warn(smsg, UserWarning)\n"
     ]
    },
    {
     "name": "stdout",
     "output_type": "stream",
     "text": [
      "Best parameters found: {'subsample': 0.8, 'n_estimators': 200, 'min_child_weight': 1, 'max_depth': 3, 'learning_rate': 0.1, 'gamma': 0, 'colsample_bytree': 0.8}\n",
      "Best recall score: 0.8343434343434343\n"
     ]
    }
   ],
   "source": [
    "from sklearn.model_selection import RandomizedSearchCV\n",
    "\n",
    "# Define hyperparameter search space\n",
    "param_dist = {\n",
    "    'n_estimators': [50, 100, 200, 300],\n",
    "    'max_depth': [3, 4, 5, 6, 7, 8],\n",
    "    'learning_rate': [0.01, 0.05, 0.1, 0.2],\n",
    "    'subsample': [0.6, 0.8, 1.0],\n",
    "    'colsample_bytree': [0.6, 0.8, 1.0],\n",
    "    'gamma': [0, 0.1, 0.2, 0.3],\n",
    "    'min_child_weight': [1, 3, 5, 7]\n",
    "}\n",
    "\n",
    "from sklearn.model_selection import StratifiedKFold\n",
    "\n",
    "skf = StratifiedKFold(n_splits=5, shuffle=True, random_state=42)\n",
    "\n",
    "random_search = RandomizedSearchCV(\n",
    "    estimator=xgb_model,\n",
    "    param_distributions=param_dist,\n",
    "    n_iter=20,\n",
    "    scoring='recall',\n",
    "    cv=skf,  # use stratified folds\n",
    "    verbose=1,\n",
    "    random_state=42,\n",
    "    n_jobs=-1\n",
    ")\n",
    "\n",
    "# Run the search\n",
    "random_search.fit(X_train, y_train)\n",
    "\n",
    "# Output best parameters\n",
    "print(\"Best parameters found:\", random_search.best_params_)\n",
    "print(\"Best recall score:\", random_search.best_score_)\n"
   ]
  },
  {
   "cell_type": "markdown",
   "metadata": {},
   "source": [
    "{\n",
    "    'subsample': 0.8,\n",
    "    'n_estimators': 200,\n",
    "    'min_child_weight': 1,\n",
    "    'max_depth': 3,\n",
    "    'learning_rate': 0.1,\n",
    "    'gamma': 0,\n",
    "    'colsample_bytree': 0.8\n",
    "}\n"
   ]
  },
  {
   "cell_type": "code",
   "execution_count": null,
   "metadata": {},
   "outputs": [
    {
     "name": "stderr",
     "output_type": "stream",
     "text": [
      "/Library/Frameworks/Python.framework/Versions/3.13/lib/python3.13/site-packages/xgboost/core.py:158: UserWarning: [16:54:07] WARNING: /Users/runner/work/xgboost/xgboost/src/learner.cc:740: \n",
      "Parameters: { \"use_label_encoder\" } are not used.\n",
      "\n",
      "  warnings.warn(smsg, UserWarning)\n",
      "/Library/Frameworks/Python.framework/Versions/3.13/lib/python3.13/site-packages/xgboost/core.py:158: UserWarning: [16:54:09] WARNING: /Users/runner/work/xgboost/xgboost/src/learner.cc:740: \n",
      "Parameters: { \"use_label_encoder\" } are not used.\n",
      "\n",
      "  warnings.warn(smsg, UserWarning)\n",
      "/Library/Frameworks/Python.framework/Versions/3.13/lib/python3.13/site-packages/xgboost/core.py:158: UserWarning: [16:54:10] WARNING: /Users/runner/work/xgboost/xgboost/src/learner.cc:740: \n",
      "Parameters: { \"use_label_encoder\" } are not used.\n",
      "\n",
      "  warnings.warn(smsg, UserWarning)\n",
      "/Library/Frameworks/Python.framework/Versions/3.13/lib/python3.13/site-packages/xgboost/core.py:158: UserWarning: [16:54:11] WARNING: /Users/runner/work/xgboost/xgboost/src/learner.cc:740: \n",
      "Parameters: { \"use_label_encoder\" } are not used.\n",
      "\n",
      "  warnings.warn(smsg, UserWarning)\n",
      "/Library/Frameworks/Python.framework/Versions/3.13/lib/python3.13/site-packages/xgboost/core.py:158: UserWarning: [16:54:12] WARNING: /Users/runner/work/xgboost/xgboost/src/learner.cc:740: \n",
      "Parameters: { \"use_label_encoder\" } are not used.\n",
      "\n",
      "  warnings.warn(smsg, UserWarning)\n"
     ]
    },
    {
     "name": "stdout",
     "output_type": "stream",
     "text": [
      "              precision    recall  f1-score   support\n",
      "\n",
      "           0       1.00      0.76      0.86    631626\n",
      "           1       0.07      0.83      0.12     12870\n",
      "\n",
      "    accuracy                           0.76    644496\n",
      "   macro avg       0.53      0.80      0.49    644496\n",
      "weighted avg       0.98      0.76      0.85    644496\n",
      "\n"
     ]
    }
   ],
   "source": [
    "from sklearn.model_selection import cross_val_predict\n",
    "\n",
    "# Use the best model from RandomizedSearchCV\n",
    "best_model = random_search.best_estimator_\n",
    "\n",
    "# Predict with cross-validation\n",
    "y_pred = cross_val_predict(best_model, X_train, y_train, cv=5)\n",
    "\n",
    "# Print all metrics\n",
    "print(classification_report(y_train, y_pred))"
   ]
  },
  {
   "cell_type": "code",
   "execution_count": 124,
   "metadata": {},
   "outputs": [
    {
     "name": "stdout",
     "output_type": "stream",
     "text": [
      "Fitting 5 folds for each of 30 candidates, totalling 150 fits\n",
      "Best parameters found: {'subsample': 0.8, 'scale_pos_weight': 60, 'n_estimators': 300, 'min_child_weight': 5, 'max_depth': 3, 'learning_rate': 0.05, 'gamma': 0, 'colsample_bytree': 1.0}\n",
      "Best recall score: 0.871017871017871\n"
     ]
    }
   ],
   "source": [
    "# Define hyperparameter search space\n",
    "param_dist = {\n",
    "    'n_estimators': [50, 100, 200, 300],\n",
    "    'max_depth': [3, 4, 5, 6, 7, 8],\n",
    "    'learning_rate': [0.01, 0.05, 0.1, 0.2],\n",
    "    'subsample': [0.6, 0.8, 1.0],\n",
    "    'colsample_bytree': [0.6, 0.8, 1.0],\n",
    "    'gamma': [0, 0.1, 0.2, 0.3],\n",
    "    'min_child_weight': [1, 3, 5, 7],\n",
    "    'scale_pos_weight': [30, 40, 50, 60]\n",
    "}\n",
    "\n",
    "\n",
    "skf = StratifiedKFold(n_splits=5, shuffle=True, random_state=42)\n",
    "\n",
    "xgb_model_10 = XGBClassifier()\n",
    "\n",
    "random_search = RandomizedSearchCV(\n",
    "    estimator=xgb_model_10,\n",
    "    param_distributions=param_dist,\n",
    "    n_iter=30,\n",
    "    scoring='recall',\n",
    "    cv=skf,  # use stratified folds\n",
    "    verbose=1,\n",
    "    random_state=42,\n",
    "    n_jobs=-1\n",
    ")\n",
    "\n",
    "# Run the search\n",
    "random_search.fit(X_train, y_train)\n",
    "\n",
    "# Output best parameters\n",
    "print(\"Best parameters found:\", random_search.best_params_)\n",
    "print(\"Best recall score:\", random_search.best_score_)\n"
   ]
  },
  {
   "cell_type": "code",
   "execution_count": 126,
   "metadata": {},
   "outputs": [
    {
     "name": "stdout",
     "output_type": "stream",
     "text": [
      "              precision    recall  f1-score   support\n",
      "\n",
      "           0       1.00      0.71      0.83    631626\n",
      "           1       0.06      0.87      0.11     12870\n",
      "\n",
      "    accuracy                           0.72    644496\n",
      "   macro avg       0.53      0.79      0.47    644496\n",
      "weighted avg       0.98      0.72      0.82    644496\n",
      "\n"
     ]
    }
   ],
   "source": [
    "# Use the best model from RandomizedSearchCV\n",
    "best_model = random_search.best_estimator_\n",
    "\n",
    "# Predict with cross-validation\n",
    "y_pred = cross_val_predict(best_model, X_train, y_train, cv=5)\n",
    "\n",
    "# Print all metrics\n",
    "print(classification_report(y_train, y_pred))"
   ]
  },
  {
   "cell_type": "code",
   "execution_count": null,
   "metadata": {},
   "outputs": [
    {
     "data": {
      "text/plain": [
       "['xgb_10.pkl']"
      ]
     },
     "execution_count": 131,
     "metadata": {},
     "output_type": "execute_result"
    }
   ],
   "source": [
    "joblib.dump(random_search.best_estimator_, \"xgb_10.pkl\")"
   ]
  },
  {
   "cell_type": "markdown",
   "metadata": {},
   "source": [
    "Grid Search = “Brute force” search.\n",
    "It tries every combination of parameters you give it and finds the one that gives the best performance."
   ]
  },
  {
   "cell_type": "code",
   "execution_count": 127,
   "metadata": {},
   "outputs": [
    {
     "name": "stdout",
     "output_type": "stream",
     "text": [
      "Fitting 5 folds for each of 1944 candidates, totalling 9720 fits\n",
      "Best GridSearch Params: {'colsample_bytree': 1.0, 'gamma': 0, 'learning_rate': 0.03, 'max_depth': 3, 'min_child_weight': 3, 'n_estimators': 250, 'scale_pos_weight': 70, 'subsample': 0.8}\n",
      "Best Recall: 0.8979797979797979\n"
     ]
    }
   ],
   "source": [
    "from sklearn.model_selection import GridSearchCV\n",
    "\n",
    "xgb_model_11 = XGBClassifier(eval_metric=\"logloss\")\n",
    "\n",
    "param_grid = {\n",
    "    'max_depth': [3, 4],\n",
    "    'learning_rate': [0.03, 0.05, 0.07],\n",
    "    'n_estimators': [250, 300, 350],\n",
    "    'subsample': [0.7, 0.8, 0.9],\n",
    "    'colsample_bytree': [0.9, 1.0],\n",
    "    'min_child_weight': [3, 5, 7],\n",
    "    'gamma': [0, 0.1],\n",
    "    'scale_pos_weight': [50, 60, 70]\n",
    "}\n",
    "\n",
    "cv = StratifiedKFold(n_splits=5, shuffle=True, random_state=42)\n",
    "\n",
    "grid_search = GridSearchCV(\n",
    "    estimator=xgb_model_11,\n",
    "    param_grid=param_grid,\n",
    "    scoring='recall',\n",
    "    cv=cv,\n",
    "    verbose=1,\n",
    "    n_jobs=-1\n",
    ")\n",
    "\n",
    "grid_search.fit(X_train, y_train)\n",
    "\n",
    "print(\"Best GridSearch Params:\", grid_search.best_params_)\n",
    "print(\"Best Recall:\", grid_search.best_score_)"
   ]
  },
  {
   "cell_type": "code",
   "execution_count": null,
   "metadata": {},
   "outputs": [
    {
     "name": "stdout",
     "output_type": "stream",
     "text": [
      "              precision    recall  f1-score   support\n",
      "\n",
      "           0       1.00      0.67      0.80    631626\n",
      "           1       0.05      0.90      0.10     12870\n",
      "\n",
      "    accuracy                           0.67    644496\n",
      "   macro avg       0.52      0.78      0.45    644496\n",
      "weighted avg       0.98      0.67      0.79    644496\n",
      "\n"
     ]
    }
   ],
   "source": [
    "best_model = grid_search.best_estimator_\n",
    "\n",
    "# Predict with cross-validation\n",
    "y_pred = cross_val_predict(best_model, X_train, y_train, cv=5)\n",
    "\n",
    "# Print all metrics\n",
    "print(classification_report(y_train, y_pred))"
   ]
  },
  {
   "cell_type": "code",
   "execution_count": 132,
   "metadata": {},
   "outputs": [
    {
     "data": {
      "text/plain": [
       "['xgb_11.pkl']"
      ]
     },
     "execution_count": 132,
     "metadata": {},
     "output_type": "execute_result"
    }
   ],
   "source": [
    "joblib.dump(grid_search.best_estimator_, \"xgb_11.pkl\")"
   ]
  },
  {
   "cell_type": "code",
   "execution_count": 133,
   "metadata": {},
   "outputs": [
    {
     "name": "stderr",
     "output_type": "stream",
     "text": [
      "[I 2025-03-22 21:27:43,036] A new study created in memory with name: no-name-4f966b03-60be-4481-969b-86f11b34e3a0\n",
      "[I 2025-03-22 21:27:49,368] Trial 0 finished with value: 0.8919968919968919 and parameters: {'n_estimators': 174, 'max_depth': 4, 'learning_rate': 0.051530992672719315, 'subsample': 0.7067808107896776, 'colsample_bytree': 0.6327195141992032, 'gamma': 0.09588664406323874, 'min_child_weight': 5, 'scale_pos_weight': 68}. Best is trial 0 with value: 0.8919968919968919.\n",
      "[I 2025-03-22 21:28:02,757] Trial 1 finished with value: 0.8588189588189588 and parameters: {'n_estimators': 366, 'max_depth': 5, 'learning_rate': 0.022608575340574907, 'subsample': 0.8210782291568348, 'colsample_bytree': 0.8119831600357128, 'gamma': 0.2541236391324857, 'min_child_weight': 4, 'scale_pos_weight': 57}. Best is trial 0 with value: 0.8919968919968919.\n",
      "[I 2025-03-22 21:28:14,624] Trial 2 finished with value: 0.7581973581973581 and parameters: {'n_estimators': 273, 'max_depth': 6, 'learning_rate': 0.014983879872123962, 'subsample': 0.9599440105801197, 'colsample_bytree': 0.9376237024172005, 'gamma': 0.03487583768253686, 'min_child_weight': 6, 'scale_pos_weight': 36}. Best is trial 0 with value: 0.8919968919968919.\n",
      "[I 2025-03-22 21:28:22,167] Trial 3 finished with value: 0.8836052836052837 and parameters: {'n_estimators': 248, 'max_depth': 4, 'learning_rate': 0.060669492269969594, 'subsample': 0.9904330769685501, 'colsample_bytree': 0.6268220626007127, 'gamma': 0.15042521519196247, 'min_child_weight': 7, 'scale_pos_weight': 66}. Best is trial 0 with value: 0.8919968919968919.\n",
      "[I 2025-03-22 21:28:33,436] Trial 4 finished with value: 0.841025641025641 and parameters: {'n_estimators': 281, 'max_depth': 6, 'learning_rate': 0.03125382527864246, 'subsample': 0.689453580283917, 'colsample_bytree': 0.6770036293131896, 'gamma': 0.2747373058884762, 'min_child_weight': 1, 'scale_pos_weight': 54}. Best is trial 0 with value: 0.8919968919968919.\n",
      "[I 2025-03-22 21:28:44,997] Trial 5 finished with value: 0.8946386946386946 and parameters: {'n_estimators': 372, 'max_depth': 4, 'learning_rate': 0.02275640380528024, 'subsample': 0.7864701981976074, 'colsample_bytree': 0.9835867929980772, 'gamma': 0.23175638827771947, 'min_child_weight': 2, 'scale_pos_weight': 70}. Best is trial 5 with value: 0.8946386946386946.\n",
      "[I 2025-03-22 21:28:50,833] Trial 6 finished with value: 0.8836829836829837 and parameters: {'n_estimators': 148, 'max_depth': 5, 'learning_rate': 0.08231220679167957, 'subsample': 0.6506596826794957, 'colsample_bytree': 0.8610025079786987, 'gamma': 0.08742547333654765, 'min_child_weight': 5, 'scale_pos_weight': 69}. Best is trial 5 with value: 0.8946386946386946.\n",
      "[I 2025-03-22 21:28:55,686] Trial 7 finished with value: 0.8974358974358975 and parameters: {'n_estimators': 123, 'max_depth': 4, 'learning_rate': 0.01514228063814097, 'subsample': 0.6375944973076111, 'colsample_bytree': 0.9969659429304302, 'gamma': 0.27121356530042284, 'min_child_weight': 6, 'scale_pos_weight': 64}. Best is trial 7 with value: 0.8974358974358975.\n",
      "[I 2025-03-22 21:29:01,141] Trial 8 finished with value: 0.7822066822066822 and parameters: {'n_estimators': 192, 'max_depth': 3, 'learning_rate': 0.037503232004089254, 'subsample': 0.8638214864159417, 'colsample_bytree': 0.7057928974795838, 'gamma': 0.26442825252094343, 'min_child_weight': 1, 'scale_pos_weight': 39}. Best is trial 7 with value: 0.8974358974358975.\n",
      "[I 2025-03-22 21:29:06,515] Trial 9 finished with value: 0.7482517482517482 and parameters: {'n_estimators': 162, 'max_depth': 4, 'learning_rate': 0.06260130172383231, 'subsample': 0.7737363773880696, 'colsample_bytree': 0.6305678561479967, 'gamma': 0.12319586150089634, 'min_child_weight': 5, 'scale_pos_weight': 34}. Best is trial 7 with value: 0.8974358974358975.\n",
      "[I 2025-03-22 21:29:10,171] Trial 10 finished with value: 0.81996891996892 and parameters: {'n_estimators': 108, 'max_depth': 3, 'learning_rate': 0.09837003401309831, 'subsample': 0.6269396457246771, 'colsample_bytree': 0.8889487545363985, 'gamma': 0.1705747100428312, 'min_child_weight': 3, 'scale_pos_weight': 46}. Best is trial 7 with value: 0.8974358974358975.\n",
      "[I 2025-03-22 21:29:22,537] Trial 11 finished with value: 0.8772338772338772 and parameters: {'n_estimators': 388, 'max_depth': 4, 'learning_rate': 0.01258283841859998, 'subsample': 0.7491458010768995, 'colsample_bytree': 0.9966365135553021, 'gamma': 0.20995347908907613, 'min_child_weight': 3, 'scale_pos_weight': 61}. Best is trial 7 with value: 0.8974358974358975.\n",
      "[I 2025-03-22 21:29:31,192] Trial 12 finished with value: 0.877000777000777 and parameters: {'n_estimators': 332, 'max_depth': 3, 'learning_rate': 0.04054430601167098, 'subsample': 0.8855677624560164, 'colsample_bytree': 0.9904279509207417, 'gamma': 0.2289654746818514, 'min_child_weight': 3, 'scale_pos_weight': 62}. Best is trial 7 with value: 0.8974358974358975.\n",
      "[I 2025-03-22 21:29:39,643] Trial 13 finished with value: 0.8254079254079254 and parameters: {'n_estimators': 229, 'max_depth': 5, 'learning_rate': 0.027052851118662687, 'subsample': 0.6172144502738044, 'colsample_bytree': 0.9236514351656232, 'gamma': 0.19671123325712775, 'min_child_weight': 7, 'scale_pos_weight': 48}. Best is trial 7 with value: 0.8974358974358975.\n",
      "[I 2025-03-22 21:29:50,591] Trial 14 finished with value: 0.8838383838383839 and parameters: {'n_estimators': 330, 'max_depth': 4, 'learning_rate': 0.011607356436882918, 'subsample': 0.7073452902660853, 'colsample_bytree': 0.781620964043491, 'gamma': 0.29408991729979106, 'min_child_weight': 2, 'scale_pos_weight': 62}. Best is trial 7 with value: 0.8974358974358975.\n",
      "[I 2025-03-22 21:29:55,030] Trial 15 finished with value: 0.8483294483294482 and parameters: {'n_estimators': 106, 'max_depth': 5, 'learning_rate': 0.04748820261840584, 'subsample': 0.8140015080372435, 'colsample_bytree': 0.9543366263936147, 'gamma': 0.23539026907024505, 'min_child_weight': 6, 'scale_pos_weight': 54}. Best is trial 7 with value: 0.8974358974358975.\n",
      "[I 2025-03-22 21:30:03,302] Trial 16 finished with value: 0.8963480963480963 and parameters: {'n_estimators': 311, 'max_depth': 3, 'learning_rate': 0.023853470130760966, 'subsample': 0.9207222578665293, 'colsample_bytree': 0.8452346175530207, 'gamma': 0.2984450818352754, 'min_child_weight': 2, 'scale_pos_weight': 69}. Best is trial 7 with value: 0.8974358974358975.\n",
      "[I 2025-03-22 21:30:11,129] Trial 17 finished with value: 0.8106449106449105 and parameters: {'n_estimators': 309, 'max_depth': 3, 'learning_rate': 0.0721254868744129, 'subsample': 0.9275855272970067, 'colsample_bytree': 0.774462156240135, 'gamma': 0.29885044108741965, 'min_child_weight': 4, 'scale_pos_weight': 44}. Best is trial 7 with value: 0.8974358974358975.\n",
      "[I 2025-03-22 21:30:17,368] Trial 18 finished with value: 0.8847707847707849 and parameters: {'n_estimators': 223, 'max_depth': 3, 'learning_rate': 0.034611017903172045, 'subsample': 0.8640326584556184, 'colsample_bytree': 0.8382450194049081, 'gamma': 0.016874457889655525, 'min_child_weight': 2, 'scale_pos_weight': 64}. Best is trial 7 with value: 0.8974358974358975.\n",
      "[I 2025-03-22 21:30:25,040] Trial 19 finished with value: 0.8655011655011655 and parameters: {'n_estimators': 286, 'max_depth': 3, 'learning_rate': 0.04504040247179816, 'subsample': 0.9132438298381444, 'colsample_bytree': 0.7369922766057262, 'gamma': 0.18281477457695416, 'min_child_weight': 6, 'scale_pos_weight': 58}. Best is trial 7 with value: 0.8974358974358975.\n",
      "[I 2025-03-22 21:30:30,906] Trial 20 finished with value: 0.8722610722610723 and parameters: {'n_estimators': 207, 'max_depth': 3, 'learning_rate': 0.020130541517520802, 'subsample': 0.9940415821339667, 'colsample_bytree': 0.8957313162337762, 'gamma': 0.2679107649999762, 'min_child_weight': 4, 'scale_pos_weight': 58}. Best is trial 7 with value: 0.8974358974358975.\n",
      "[I 2025-03-22 21:30:42,189] Trial 21 finished with value: 0.894172494172494 and parameters: {'n_estimators': 365, 'max_depth': 4, 'learning_rate': 0.025009801434810387, 'subsample': 0.7503722854462732, 'colsample_bytree': 0.9679129908835709, 'gamma': 0.22958207892728053, 'min_child_weight': 2, 'scale_pos_weight': 70}. Best is trial 7 with value: 0.8974358974358975.\n",
      "[I 2025-03-22 21:30:54,633] Trial 22 finished with value: 0.888111888111888 and parameters: {'n_estimators': 393, 'max_depth': 4, 'learning_rate': 0.02076782185285404, 'subsample': 0.6748912633353806, 'colsample_bytree': 0.9070783734068865, 'gamma': 0.28654653964461224, 'min_child_weight': 1, 'scale_pos_weight': 66}. Best is trial 7 with value: 0.8974358974358975.\n",
      "[I 2025-03-22 21:31:07,006] Trial 23 finished with value: 0.9013986013986013 and parameters: {'n_estimators': 340, 'max_depth': 4, 'learning_rate': 0.010684439336636431, 'subsample': 0.8465856308780594, 'colsample_bytree': 0.8603923525295977, 'gamma': 0.24756861765393923, 'min_child_weight': 2, 'scale_pos_weight': 70}. Best is trial 23 with value: 0.9013986013986013.\n",
      "[I 2025-03-22 21:31:19,394] Trial 24 finished with value: 0.8898212898212898 and parameters: {'n_estimators': 331, 'max_depth': 5, 'learning_rate': 0.011392829480784657, 'subsample': 0.8290821065299003, 'colsample_bytree': 0.85572987051481, 'gamma': 0.29760658395469447, 'min_child_weight': 3, 'scale_pos_weight': 66}. Best is trial 23 with value: 0.9013986013986013.\n",
      "[I 2025-03-22 21:31:28,698] Trial 25 finished with value: 0.8486402486402487 and parameters: {'n_estimators': 302, 'max_depth': 4, 'learning_rate': 0.028612021759714716, 'subsample': 0.932139902800755, 'colsample_bytree': 0.8186249896912131, 'gamma': 0.2547151467220734, 'min_child_weight': 2, 'scale_pos_weight': 53}. Best is trial 23 with value: 0.9013986013986013.\n",
      "[I 2025-03-22 21:31:38,699] Trial 26 finished with value: 0.8863247863247864 and parameters: {'n_estimators': 350, 'max_depth': 3, 'learning_rate': 0.015933796573808133, 'subsample': 0.8308832492289534, 'colsample_bytree': 0.7479329596851181, 'gamma': 0.2519119546990828, 'min_child_weight': 1, 'scale_pos_weight': 63}. Best is trial 23 with value: 0.9013986013986013.\n",
      "[I 2025-03-22 21:31:47,446] Trial 27 finished with value: 0.8989121989121989 and parameters: {'n_estimators': 259, 'max_depth': 4, 'learning_rate': 0.010403041070638065, 'subsample': 0.8860898138157118, 'colsample_bytree': 0.8716451967757893, 'gamma': 0.20769373442267208, 'min_child_weight': 3, 'scale_pos_weight': 67}. Best is trial 23 with value: 0.9013986013986013.\n",
      "[I 2025-03-22 21:31:53,342] Trial 28 finished with value: 0.874980574980575 and parameters: {'n_estimators': 134, 'max_depth': 5, 'learning_rate': 0.017594224481883327, 'subsample': 0.8594563573279692, 'colsample_bytree': 0.8662043790028353, 'gamma': 0.20618064417017512, 'min_child_weight': 3, 'scale_pos_weight': 59}. Best is trial 23 with value: 0.9013986013986013.\n",
      "[I 2025-03-22 21:32:02,710] Trial 29 finished with value: 0.8951825951825952 and parameters: {'n_estimators': 261, 'max_depth': 4, 'learning_rate': 0.010211919148286987, 'subsample': 0.7347058515968478, 'colsample_bytree': 0.9412298960292204, 'gamma': 0.14170024035268777, 'min_child_weight': 4, 'scale_pos_weight': 66}. Best is trial 23 with value: 0.9013986013986013.\n",
      "[I 2025-03-22 21:32:08,991] Trial 30 finished with value: 0.8394716394716394 and parameters: {'n_estimators': 190, 'max_depth': 4, 'learning_rate': 0.05577495449967165, 'subsample': 0.8914039813789822, 'colsample_bytree': 0.8810371488623807, 'gamma': 0.17548067572578274, 'min_child_weight': 5, 'scale_pos_weight': 51}. Best is trial 23 with value: 0.9013986013986013.\n",
      "[I 2025-03-22 21:32:18,375] Trial 31 finished with value: 0.8946386946386946 and parameters: {'n_estimators': 307, 'max_depth': 4, 'learning_rate': 0.016594984329495223, 'subsample': 0.955457677080666, 'colsample_bytree': 0.8402321815208491, 'gamma': 0.27520261467889773, 'min_child_weight': 2, 'scale_pos_weight': 68}. Best is trial 23 with value: 0.9013986013986013.\n",
      "[I 2025-03-22 21:32:26,427] Trial 32 finished with value: 0.8902097902097902 and parameters: {'n_estimators': 243, 'max_depth': 4, 'learning_rate': 0.02956127192215602, 'subsample': 0.8937205167655824, 'colsample_bytree': 0.8181454794026313, 'gamma': 0.2472635777535675, 'min_child_weight': 3, 'scale_pos_weight': 67}. Best is trial 23 with value: 0.9013986013986013.\n",
      "[I 2025-03-22 21:32:36,646] Trial 33 finished with value: 0.8958041958041958 and parameters: {'n_estimators': 291, 'max_depth': 5, 'learning_rate': 0.02193036379194118, 'subsample': 0.8480214249570263, 'colsample_bytree': 0.9112141825518801, 'gamma': 0.2813710108624645, 'min_child_weight': 2, 'scale_pos_weight': 70}. Best is trial 23 with value: 0.9013986013986013.\n",
      "[I 2025-03-22 21:32:47,255] Trial 34 finished with value: 0.8704739704739705 and parameters: {'n_estimators': 266, 'max_depth': 6, 'learning_rate': 0.017422366270577062, 'subsample': 0.9485025175924156, 'colsample_bytree': 0.7880003487690421, 'gamma': 0.20878530294951192, 'min_child_weight': 4, 'scale_pos_weight': 60}. Best is trial 23 with value: 0.9013986013986013.\n",
      "[I 2025-03-22 21:32:55,871] Trial 35 finished with value: 0.8822843822843824 and parameters: {'n_estimators': 318, 'max_depth': 3, 'learning_rate': 0.03381990274921291, 'subsample': 0.8078632745461827, 'colsample_bytree': 0.8072899773966163, 'gamma': 0.07508943830567427, 'min_child_weight': 7, 'scale_pos_weight': 64}. Best is trial 23 with value: 0.9013986013986013.\n",
      "[I 2025-03-22 21:33:06,208] Trial 36 finished with value: 0.8592074592074592 and parameters: {'n_estimators': 353, 'max_depth': 4, 'learning_rate': 0.024636773905127488, 'subsample': 0.9728727204272108, 'colsample_bytree': 0.9254246544914537, 'gamma': 0.24559120020527817, 'min_child_weight': 1, 'scale_pos_weight': 56}. Best is trial 23 with value: 0.9013986013986013.\n",
      "[I 2025-03-22 21:33:13,894] Trial 37 finished with value: 0.9007770007770007 and parameters: {'n_estimators': 239, 'max_depth': 4, 'learning_rate': 0.01623490854608478, 'subsample': 0.9072810576392778, 'colsample_bytree': 0.6606659397944641, 'gamma': 0.22107883769591608, 'min_child_weight': 3, 'scale_pos_weight': 68}. Best is trial 23 with value: 0.9013986013986013.\n",
      "[I 2025-03-22 21:33:20,233] Trial 38 finished with value: 0.9113442113442114 and parameters: {'n_estimators': 173, 'max_depth': 4, 'learning_rate': 0.010324717596250733, 'subsample': 0.7944921576279421, 'colsample_bytree': 0.6054366799919146, 'gamma': 0.21562526743859164, 'min_child_weight': 4, 'scale_pos_weight': 65}. Best is trial 38 with value: 0.9113442113442114.\n",
      "[I 2025-03-22 21:33:25,842] Trial 39 finished with value: 0.7267288267288268 and parameters: {'n_estimators': 175, 'max_depth': 4, 'learning_rate': 0.09173489882093065, 'subsample': 0.7878070566029929, 'colsample_bytree': 0.6602795916346478, 'gamma': 0.1555690632884087, 'min_child_weight': 4, 'scale_pos_weight': 31}. Best is trial 38 with value: 0.9113442113442114.\n",
      "[I 2025-03-22 21:33:33,736] Trial 40 finished with value: 0.9067599067599069 and parameters: {'n_estimators': 233, 'max_depth': 4, 'learning_rate': 0.010818686028175213, 'subsample': 0.8810727477641518, 'colsample_bytree': 0.6019308084694615, 'gamma': 0.22087129627814955, 'min_child_weight': 3, 'scale_pos_weight': 67}. Best is trial 38 with value: 0.9113442113442114.\n",
      "[I 2025-03-22 21:33:41,450] Trial 41 finished with value: 0.905982905982906 and parameters: {'n_estimators': 225, 'max_depth': 4, 'learning_rate': 0.011577774432359631, 'subsample': 0.8755450580944094, 'colsample_bytree': 0.601161171161979, 'gamma': 0.2209872233738186, 'min_child_weight': 3, 'scale_pos_weight': 67}. Best is trial 38 with value: 0.9113442113442114.\n",
      "[I 2025-03-22 21:33:49,525] Trial 42 finished with value: 0.8944832944832946 and parameters: {'n_estimators': 236, 'max_depth': 4, 'learning_rate': 0.015200632406797601, 'subsample': 0.8411090332368218, 'colsample_bytree': 0.6050121353347334, 'gamma': 0.21642094583207028, 'min_child_weight': 4, 'scale_pos_weight': 65}. Best is trial 38 with value: 0.9113442113442114.\n",
      "[I 2025-03-22 21:33:56,649] Trial 43 finished with value: 0.8995337995337994 and parameters: {'n_estimators': 213, 'max_depth': 4, 'learning_rate': 0.020172926397550674, 'subsample': 0.8726659775128771, 'colsample_bytree': 0.6571595468362295, 'gamma': 0.19174316557676535, 'min_child_weight': 3, 'scale_pos_weight': 68}. Best is trial 38 with value: 0.9113442113442114.\n",
      "[I 2025-03-22 21:34:03,671] Trial 44 finished with value: 0.9203574203574204 and parameters: {'n_estimators': 194, 'max_depth': 4, 'learning_rate': 0.010116817541898346, 'subsample': 0.9010749898524433, 'colsample_bytree': 0.6022999388878147, 'gamma': 0.2235252748603042, 'min_child_weight': 3, 'scale_pos_weight': 70}. Best is trial 44 with value: 0.9203574203574204.\n",
      "[I 2025-03-22 21:34:10,090] Trial 45 finished with value: 0.9264957264957264 and parameters: {'n_estimators': 163, 'max_depth': 4, 'learning_rate': 0.010299526216417424, 'subsample': 0.7887416039181485, 'colsample_bytree': 0.6049693680044275, 'gamma': 0.23986638509728886, 'min_child_weight': 3, 'scale_pos_weight': 70}. Best is trial 45 with value: 0.9264957264957264.\n",
      "[I 2025-03-22 21:34:16,265] Trial 46 finished with value: 0.8667443667443667 and parameters: {'n_estimators': 159, 'max_depth': 5, 'learning_rate': 0.06865254857525624, 'subsample': 0.7808224311104819, 'colsample_bytree': 0.6104116328812661, 'gamma': 0.1894447298611071, 'min_child_weight': 5, 'scale_pos_weight': 61}. Best is trial 45 with value: 0.9264957264957264.\n",
      "[I 2025-03-22 21:34:24,141] Trial 47 finished with value: 0.7961926961926962 and parameters: {'n_estimators': 193, 'max_depth': 5, 'learning_rate': 0.013578212185250788, 'subsample': 0.7563433986309418, 'colsample_bytree': 0.6373247582566393, 'gamma': 0.23493747992780506, 'min_child_weight': 4, 'scale_pos_weight': 42}. Best is trial 45 with value: 0.9264957264957264.\n",
      "[I 2025-03-22 21:34:31,017] Trial 48 finished with value: 0.882905982905983 and parameters: {'n_estimators': 180, 'max_depth': 4, 'learning_rate': 0.03967105309294515, 'subsample': 0.792305228095304, 'colsample_bytree': 0.6873965019324646, 'gamma': 0.16601896748759087, 'min_child_weight': 3, 'scale_pos_weight': 64}. Best is trial 45 with value: 0.9264957264957264.\n",
      "[I 2025-03-22 21:34:36,629] Trial 49 finished with value: 0.8811188811188811 and parameters: {'n_estimators': 147, 'max_depth': 4, 'learning_rate': 0.03214627241123583, 'subsample': 0.7688949535825758, 'colsample_bytree': 0.6200666379778539, 'gamma': 0.13721516672472966, 'min_child_weight': 3, 'scale_pos_weight': 62}. Best is trial 45 with value: 0.9264957264957264.\n"
     ]
    },
    {
     "name": "stdout",
     "output_type": "stream",
     "text": [
      "Best hyperparameters: {'n_estimators': 163, 'max_depth': 4, 'learning_rate': 0.010299526216417424, 'subsample': 0.7887416039181485, 'colsample_bytree': 0.6049693680044275, 'gamma': 0.23986638509728886, 'min_child_weight': 3, 'scale_pos_weight': 70}\n",
      "Best recall: 0.9264957264957264\n"
     ]
    }
   ],
   "source": [
    "import optuna\n",
    "from sklearn.metrics import make_scorer, recall_score\n",
    "from sklearn.model_selection import cross_val_score\n",
    "\n",
    "def objective(trial):\n",
    "    params = {\n",
    "        'n_estimators': trial.suggest_int('n_estimators', 100, 400),\n",
    "        'max_depth': trial.suggest_int('max_depth', 3, 6),\n",
    "        'learning_rate': trial.suggest_float('learning_rate', 0.01, 0.1),\n",
    "        'subsample': trial.suggest_float('subsample', 0.6, 1.0),\n",
    "        'colsample_bytree': trial.suggest_float('colsample_bytree', 0.6, 1.0),\n",
    "        'gamma': trial.suggest_float('gamma', 0, 0.3),\n",
    "        'min_child_weight': trial.suggest_int('min_child_weight', 1, 7),\n",
    "        'scale_pos_weight': trial.suggest_int('scale_pos_weight', 30, 70)\n",
    "    }\n",
    "\n",
    "    model = XGBClassifier(**params, eval_metric=\"logloss\")\n",
    "    skf = StratifiedKFold(n_splits=5, shuffle=True, random_state=42)\n",
    "    scores = cross_val_score(model, X_train, y_train, cv=skf, scoring=make_scorer(recall_score))\n",
    "    return scores.mean()\n",
    "\n",
    "study = optuna.create_study(direction=\"maximize\")\n",
    "study.optimize(objective, n_trials=50)\n",
    "\n",
    "print(\"Best hyperparameters:\", study.best_params)\n",
    "print(\"Best recall:\", study.best_value)"
   ]
  },
  {
   "cell_type": "code",
   "execution_count": 140,
   "metadata": {},
   "outputs": [
    {
     "name": "stderr",
     "output_type": "stream",
     "text": [
      "/Library/Frameworks/Python.framework/Versions/3.13/lib/python3.13/site-packages/xgboost/core.py:158: UserWarning: [21:53:35] WARNING: /Users/runner/work/xgboost/xgboost/src/learner.cc:740: \n",
      "Parameters: { \"use_label_encoder\" } are not used.\n",
      "\n",
      "  warnings.warn(smsg, UserWarning)\n"
     ]
    },
    {
     "data": {
      "text/html": [
       "<style>#sk-container-id-4 {\n",
       "  /* Definition of color scheme common for light and dark mode */\n",
       "  --sklearn-color-text: #000;\n",
       "  --sklearn-color-text-muted: #666;\n",
       "  --sklearn-color-line: gray;\n",
       "  /* Definition of color scheme for unfitted estimators */\n",
       "  --sklearn-color-unfitted-level-0: #fff5e6;\n",
       "  --sklearn-color-unfitted-level-1: #f6e4d2;\n",
       "  --sklearn-color-unfitted-level-2: #ffe0b3;\n",
       "  --sklearn-color-unfitted-level-3: chocolate;\n",
       "  /* Definition of color scheme for fitted estimators */\n",
       "  --sklearn-color-fitted-level-0: #f0f8ff;\n",
       "  --sklearn-color-fitted-level-1: #d4ebff;\n",
       "  --sklearn-color-fitted-level-2: #b3dbfd;\n",
       "  --sklearn-color-fitted-level-3: cornflowerblue;\n",
       "\n",
       "  /* Specific color for light theme */\n",
       "  --sklearn-color-text-on-default-background: var(--sg-text-color, var(--theme-code-foreground, var(--jp-content-font-color1, black)));\n",
       "  --sklearn-color-background: var(--sg-background-color, var(--theme-background, var(--jp-layout-color0, white)));\n",
       "  --sklearn-color-border-box: var(--sg-text-color, var(--theme-code-foreground, var(--jp-content-font-color1, black)));\n",
       "  --sklearn-color-icon: #696969;\n",
       "\n",
       "  @media (prefers-color-scheme: dark) {\n",
       "    /* Redefinition of color scheme for dark theme */\n",
       "    --sklearn-color-text-on-default-background: var(--sg-text-color, var(--theme-code-foreground, var(--jp-content-font-color1, white)));\n",
       "    --sklearn-color-background: var(--sg-background-color, var(--theme-background, var(--jp-layout-color0, #111)));\n",
       "    --sklearn-color-border-box: var(--sg-text-color, var(--theme-code-foreground, var(--jp-content-font-color1, white)));\n",
       "    --sklearn-color-icon: #878787;\n",
       "  }\n",
       "}\n",
       "\n",
       "#sk-container-id-4 {\n",
       "  color: var(--sklearn-color-text);\n",
       "}\n",
       "\n",
       "#sk-container-id-4 pre {\n",
       "  padding: 0;\n",
       "}\n",
       "\n",
       "#sk-container-id-4 input.sk-hidden--visually {\n",
       "  border: 0;\n",
       "  clip: rect(1px 1px 1px 1px);\n",
       "  clip: rect(1px, 1px, 1px, 1px);\n",
       "  height: 1px;\n",
       "  margin: -1px;\n",
       "  overflow: hidden;\n",
       "  padding: 0;\n",
       "  position: absolute;\n",
       "  width: 1px;\n",
       "}\n",
       "\n",
       "#sk-container-id-4 div.sk-dashed-wrapped {\n",
       "  border: 1px dashed var(--sklearn-color-line);\n",
       "  margin: 0 0.4em 0.5em 0.4em;\n",
       "  box-sizing: border-box;\n",
       "  padding-bottom: 0.4em;\n",
       "  background-color: var(--sklearn-color-background);\n",
       "}\n",
       "\n",
       "#sk-container-id-4 div.sk-container {\n",
       "  /* jupyter's `normalize.less` sets `[hidden] { display: none; }`\n",
       "     but bootstrap.min.css set `[hidden] { display: none !important; }`\n",
       "     so we also need the `!important` here to be able to override the\n",
       "     default hidden behavior on the sphinx rendered scikit-learn.org.\n",
       "     See: https://github.com/scikit-learn/scikit-learn/issues/21755 */\n",
       "  display: inline-block !important;\n",
       "  position: relative;\n",
       "}\n",
       "\n",
       "#sk-container-id-4 div.sk-text-repr-fallback {\n",
       "  display: none;\n",
       "}\n",
       "\n",
       "div.sk-parallel-item,\n",
       "div.sk-serial,\n",
       "div.sk-item {\n",
       "  /* draw centered vertical line to link estimators */\n",
       "  background-image: linear-gradient(var(--sklearn-color-text-on-default-background), var(--sklearn-color-text-on-default-background));\n",
       "  background-size: 2px 100%;\n",
       "  background-repeat: no-repeat;\n",
       "  background-position: center center;\n",
       "}\n",
       "\n",
       "/* Parallel-specific style estimator block */\n",
       "\n",
       "#sk-container-id-4 div.sk-parallel-item::after {\n",
       "  content: \"\";\n",
       "  width: 100%;\n",
       "  border-bottom: 2px solid var(--sklearn-color-text-on-default-background);\n",
       "  flex-grow: 1;\n",
       "}\n",
       "\n",
       "#sk-container-id-4 div.sk-parallel {\n",
       "  display: flex;\n",
       "  align-items: stretch;\n",
       "  justify-content: center;\n",
       "  background-color: var(--sklearn-color-background);\n",
       "  position: relative;\n",
       "}\n",
       "\n",
       "#sk-container-id-4 div.sk-parallel-item {\n",
       "  display: flex;\n",
       "  flex-direction: column;\n",
       "}\n",
       "\n",
       "#sk-container-id-4 div.sk-parallel-item:first-child::after {\n",
       "  align-self: flex-end;\n",
       "  width: 50%;\n",
       "}\n",
       "\n",
       "#sk-container-id-4 div.sk-parallel-item:last-child::after {\n",
       "  align-self: flex-start;\n",
       "  width: 50%;\n",
       "}\n",
       "\n",
       "#sk-container-id-4 div.sk-parallel-item:only-child::after {\n",
       "  width: 0;\n",
       "}\n",
       "\n",
       "/* Serial-specific style estimator block */\n",
       "\n",
       "#sk-container-id-4 div.sk-serial {\n",
       "  display: flex;\n",
       "  flex-direction: column;\n",
       "  align-items: center;\n",
       "  background-color: var(--sklearn-color-background);\n",
       "  padding-right: 1em;\n",
       "  padding-left: 1em;\n",
       "}\n",
       "\n",
       "\n",
       "/* Toggleable style: style used for estimator/Pipeline/ColumnTransformer box that is\n",
       "clickable and can be expanded/collapsed.\n",
       "- Pipeline and ColumnTransformer use this feature and define the default style\n",
       "- Estimators will overwrite some part of the style using the `sk-estimator` class\n",
       "*/\n",
       "\n",
       "/* Pipeline and ColumnTransformer style (default) */\n",
       "\n",
       "#sk-container-id-4 div.sk-toggleable {\n",
       "  /* Default theme specific background. It is overwritten whether we have a\n",
       "  specific estimator or a Pipeline/ColumnTransformer */\n",
       "  background-color: var(--sklearn-color-background);\n",
       "}\n",
       "\n",
       "/* Toggleable label */\n",
       "#sk-container-id-4 label.sk-toggleable__label {\n",
       "  cursor: pointer;\n",
       "  display: flex;\n",
       "  width: 100%;\n",
       "  margin-bottom: 0;\n",
       "  padding: 0.5em;\n",
       "  box-sizing: border-box;\n",
       "  text-align: center;\n",
       "  align-items: start;\n",
       "  justify-content: space-between;\n",
       "  gap: 0.5em;\n",
       "}\n",
       "\n",
       "#sk-container-id-4 label.sk-toggleable__label .caption {\n",
       "  font-size: 0.6rem;\n",
       "  font-weight: lighter;\n",
       "  color: var(--sklearn-color-text-muted);\n",
       "}\n",
       "\n",
       "#sk-container-id-4 label.sk-toggleable__label-arrow:before {\n",
       "  /* Arrow on the left of the label */\n",
       "  content: \"▸\";\n",
       "  float: left;\n",
       "  margin-right: 0.25em;\n",
       "  color: var(--sklearn-color-icon);\n",
       "}\n",
       "\n",
       "#sk-container-id-4 label.sk-toggleable__label-arrow:hover:before {\n",
       "  color: var(--sklearn-color-text);\n",
       "}\n",
       "\n",
       "/* Toggleable content - dropdown */\n",
       "\n",
       "#sk-container-id-4 div.sk-toggleable__content {\n",
       "  max-height: 0;\n",
       "  max-width: 0;\n",
       "  overflow: hidden;\n",
       "  text-align: left;\n",
       "  /* unfitted */\n",
       "  background-color: var(--sklearn-color-unfitted-level-0);\n",
       "}\n",
       "\n",
       "#sk-container-id-4 div.sk-toggleable__content.fitted {\n",
       "  /* fitted */\n",
       "  background-color: var(--sklearn-color-fitted-level-0);\n",
       "}\n",
       "\n",
       "#sk-container-id-4 div.sk-toggleable__content pre {\n",
       "  margin: 0.2em;\n",
       "  border-radius: 0.25em;\n",
       "  color: var(--sklearn-color-text);\n",
       "  /* unfitted */\n",
       "  background-color: var(--sklearn-color-unfitted-level-0);\n",
       "}\n",
       "\n",
       "#sk-container-id-4 div.sk-toggleable__content.fitted pre {\n",
       "  /* unfitted */\n",
       "  background-color: var(--sklearn-color-fitted-level-0);\n",
       "}\n",
       "\n",
       "#sk-container-id-4 input.sk-toggleable__control:checked~div.sk-toggleable__content {\n",
       "  /* Expand drop-down */\n",
       "  max-height: 200px;\n",
       "  max-width: 100%;\n",
       "  overflow: auto;\n",
       "}\n",
       "\n",
       "#sk-container-id-4 input.sk-toggleable__control:checked~label.sk-toggleable__label-arrow:before {\n",
       "  content: \"▾\";\n",
       "}\n",
       "\n",
       "/* Pipeline/ColumnTransformer-specific style */\n",
       "\n",
       "#sk-container-id-4 div.sk-label input.sk-toggleable__control:checked~label.sk-toggleable__label {\n",
       "  color: var(--sklearn-color-text);\n",
       "  background-color: var(--sklearn-color-unfitted-level-2);\n",
       "}\n",
       "\n",
       "#sk-container-id-4 div.sk-label.fitted input.sk-toggleable__control:checked~label.sk-toggleable__label {\n",
       "  background-color: var(--sklearn-color-fitted-level-2);\n",
       "}\n",
       "\n",
       "/* Estimator-specific style */\n",
       "\n",
       "/* Colorize estimator box */\n",
       "#sk-container-id-4 div.sk-estimator input.sk-toggleable__control:checked~label.sk-toggleable__label {\n",
       "  /* unfitted */\n",
       "  background-color: var(--sklearn-color-unfitted-level-2);\n",
       "}\n",
       "\n",
       "#sk-container-id-4 div.sk-estimator.fitted input.sk-toggleable__control:checked~label.sk-toggleable__label {\n",
       "  /* fitted */\n",
       "  background-color: var(--sklearn-color-fitted-level-2);\n",
       "}\n",
       "\n",
       "#sk-container-id-4 div.sk-label label.sk-toggleable__label,\n",
       "#sk-container-id-4 div.sk-label label {\n",
       "  /* The background is the default theme color */\n",
       "  color: var(--sklearn-color-text-on-default-background);\n",
       "}\n",
       "\n",
       "/* On hover, darken the color of the background */\n",
       "#sk-container-id-4 div.sk-label:hover label.sk-toggleable__label {\n",
       "  color: var(--sklearn-color-text);\n",
       "  background-color: var(--sklearn-color-unfitted-level-2);\n",
       "}\n",
       "\n",
       "/* Label box, darken color on hover, fitted */\n",
       "#sk-container-id-4 div.sk-label.fitted:hover label.sk-toggleable__label.fitted {\n",
       "  color: var(--sklearn-color-text);\n",
       "  background-color: var(--sklearn-color-fitted-level-2);\n",
       "}\n",
       "\n",
       "/* Estimator label */\n",
       "\n",
       "#sk-container-id-4 div.sk-label label {\n",
       "  font-family: monospace;\n",
       "  font-weight: bold;\n",
       "  display: inline-block;\n",
       "  line-height: 1.2em;\n",
       "}\n",
       "\n",
       "#sk-container-id-4 div.sk-label-container {\n",
       "  text-align: center;\n",
       "}\n",
       "\n",
       "/* Estimator-specific */\n",
       "#sk-container-id-4 div.sk-estimator {\n",
       "  font-family: monospace;\n",
       "  border: 1px dotted var(--sklearn-color-border-box);\n",
       "  border-radius: 0.25em;\n",
       "  box-sizing: border-box;\n",
       "  margin-bottom: 0.5em;\n",
       "  /* unfitted */\n",
       "  background-color: var(--sklearn-color-unfitted-level-0);\n",
       "}\n",
       "\n",
       "#sk-container-id-4 div.sk-estimator.fitted {\n",
       "  /* fitted */\n",
       "  background-color: var(--sklearn-color-fitted-level-0);\n",
       "}\n",
       "\n",
       "/* on hover */\n",
       "#sk-container-id-4 div.sk-estimator:hover {\n",
       "  /* unfitted */\n",
       "  background-color: var(--sklearn-color-unfitted-level-2);\n",
       "}\n",
       "\n",
       "#sk-container-id-4 div.sk-estimator.fitted:hover {\n",
       "  /* fitted */\n",
       "  background-color: var(--sklearn-color-fitted-level-2);\n",
       "}\n",
       "\n",
       "/* Specification for estimator info (e.g. \"i\" and \"?\") */\n",
       "\n",
       "/* Common style for \"i\" and \"?\" */\n",
       "\n",
       ".sk-estimator-doc-link,\n",
       "a:link.sk-estimator-doc-link,\n",
       "a:visited.sk-estimator-doc-link {\n",
       "  float: right;\n",
       "  font-size: smaller;\n",
       "  line-height: 1em;\n",
       "  font-family: monospace;\n",
       "  background-color: var(--sklearn-color-background);\n",
       "  border-radius: 1em;\n",
       "  height: 1em;\n",
       "  width: 1em;\n",
       "  text-decoration: none !important;\n",
       "  margin-left: 0.5em;\n",
       "  text-align: center;\n",
       "  /* unfitted */\n",
       "  border: var(--sklearn-color-unfitted-level-1) 1pt solid;\n",
       "  color: var(--sklearn-color-unfitted-level-1);\n",
       "}\n",
       "\n",
       ".sk-estimator-doc-link.fitted,\n",
       "a:link.sk-estimator-doc-link.fitted,\n",
       "a:visited.sk-estimator-doc-link.fitted {\n",
       "  /* fitted */\n",
       "  border: var(--sklearn-color-fitted-level-1) 1pt solid;\n",
       "  color: var(--sklearn-color-fitted-level-1);\n",
       "}\n",
       "\n",
       "/* On hover */\n",
       "div.sk-estimator:hover .sk-estimator-doc-link:hover,\n",
       ".sk-estimator-doc-link:hover,\n",
       "div.sk-label-container:hover .sk-estimator-doc-link:hover,\n",
       ".sk-estimator-doc-link:hover {\n",
       "  /* unfitted */\n",
       "  background-color: var(--sklearn-color-unfitted-level-3);\n",
       "  color: var(--sklearn-color-background);\n",
       "  text-decoration: none;\n",
       "}\n",
       "\n",
       "div.sk-estimator.fitted:hover .sk-estimator-doc-link.fitted:hover,\n",
       ".sk-estimator-doc-link.fitted:hover,\n",
       "div.sk-label-container:hover .sk-estimator-doc-link.fitted:hover,\n",
       ".sk-estimator-doc-link.fitted:hover {\n",
       "  /* fitted */\n",
       "  background-color: var(--sklearn-color-fitted-level-3);\n",
       "  color: var(--sklearn-color-background);\n",
       "  text-decoration: none;\n",
       "}\n",
       "\n",
       "/* Span, style for the box shown on hovering the info icon */\n",
       ".sk-estimator-doc-link span {\n",
       "  display: none;\n",
       "  z-index: 9999;\n",
       "  position: relative;\n",
       "  font-weight: normal;\n",
       "  right: .2ex;\n",
       "  padding: .5ex;\n",
       "  margin: .5ex;\n",
       "  width: min-content;\n",
       "  min-width: 20ex;\n",
       "  max-width: 50ex;\n",
       "  color: var(--sklearn-color-text);\n",
       "  box-shadow: 2pt 2pt 4pt #999;\n",
       "  /* unfitted */\n",
       "  background: var(--sklearn-color-unfitted-level-0);\n",
       "  border: .5pt solid var(--sklearn-color-unfitted-level-3);\n",
       "}\n",
       "\n",
       ".sk-estimator-doc-link.fitted span {\n",
       "  /* fitted */\n",
       "  background: var(--sklearn-color-fitted-level-0);\n",
       "  border: var(--sklearn-color-fitted-level-3);\n",
       "}\n",
       "\n",
       ".sk-estimator-doc-link:hover span {\n",
       "  display: block;\n",
       "}\n",
       "\n",
       "/* \"?\"-specific style due to the `<a>` HTML tag */\n",
       "\n",
       "#sk-container-id-4 a.estimator_doc_link {\n",
       "  float: right;\n",
       "  font-size: 1rem;\n",
       "  line-height: 1em;\n",
       "  font-family: monospace;\n",
       "  background-color: var(--sklearn-color-background);\n",
       "  border-radius: 1rem;\n",
       "  height: 1rem;\n",
       "  width: 1rem;\n",
       "  text-decoration: none;\n",
       "  /* unfitted */\n",
       "  color: var(--sklearn-color-unfitted-level-1);\n",
       "  border: var(--sklearn-color-unfitted-level-1) 1pt solid;\n",
       "}\n",
       "\n",
       "#sk-container-id-4 a.estimator_doc_link.fitted {\n",
       "  /* fitted */\n",
       "  border: var(--sklearn-color-fitted-level-1) 1pt solid;\n",
       "  color: var(--sklearn-color-fitted-level-1);\n",
       "}\n",
       "\n",
       "/* On hover */\n",
       "#sk-container-id-4 a.estimator_doc_link:hover {\n",
       "  /* unfitted */\n",
       "  background-color: var(--sklearn-color-unfitted-level-3);\n",
       "  color: var(--sklearn-color-background);\n",
       "  text-decoration: none;\n",
       "}\n",
       "\n",
       "#sk-container-id-4 a.estimator_doc_link.fitted:hover {\n",
       "  /* fitted */\n",
       "  background-color: var(--sklearn-color-fitted-level-3);\n",
       "}\n",
       "</style><div id=\"sk-container-id-4\" class=\"sk-top-container\"><div class=\"sk-text-repr-fallback\"><pre>XGBClassifier(base_score=None, booster=None, callbacks=None,\n",
       "              colsample_bylevel=None, colsample_bynode=None,\n",
       "              colsample_bytree=0.6049693680044275, device=None,\n",
       "              early_stopping_rounds=None, enable_categorical=False,\n",
       "              eval_metric=&#x27;logloss&#x27;, feature_types=None,\n",
       "              gamma=0.23986638509728886, grow_policy=None, importance_type=None,\n",
       "              interaction_constraints=None, learning_rate=0.010299526216417424,\n",
       "              max_bin=None, max_cat_threshold=None, max_cat_to_onehot=None,\n",
       "              max_delta_step=None, max_depth=4, max_leaves=None,\n",
       "              min_child_weight=3, missing=nan, monotone_constraints=None,\n",
       "              multi_strategy=None, n_estimators=163, n_jobs=None,\n",
       "              num_parallel_tree=None, random_state=None, ...)</pre><b>In a Jupyter environment, please rerun this cell to show the HTML representation or trust the notebook. <br />On GitHub, the HTML representation is unable to render, please try loading this page with nbviewer.org.</b></div><div class=\"sk-container\" hidden><div class=\"sk-item\"><div class=\"sk-estimator fitted sk-toggleable\"><input class=\"sk-toggleable__control sk-hidden--visually\" id=\"sk-estimator-id-4\" type=\"checkbox\" checked><label for=\"sk-estimator-id-4\" class=\"sk-toggleable__label fitted sk-toggleable__label-arrow\"><div><div>XGBClassifier</div></div><div><span class=\"sk-estimator-doc-link fitted\">i<span>Fitted</span></span></div></label><div class=\"sk-toggleable__content fitted\"><pre>XGBClassifier(base_score=None, booster=None, callbacks=None,\n",
       "              colsample_bylevel=None, colsample_bynode=None,\n",
       "              colsample_bytree=0.6049693680044275, device=None,\n",
       "              early_stopping_rounds=None, enable_categorical=False,\n",
       "              eval_metric=&#x27;logloss&#x27;, feature_types=None,\n",
       "              gamma=0.23986638509728886, grow_policy=None, importance_type=None,\n",
       "              interaction_constraints=None, learning_rate=0.010299526216417424,\n",
       "              max_bin=None, max_cat_threshold=None, max_cat_to_onehot=None,\n",
       "              max_delta_step=None, max_depth=4, max_leaves=None,\n",
       "              min_child_weight=3, missing=nan, monotone_constraints=None,\n",
       "              multi_strategy=None, n_estimators=163, n_jobs=None,\n",
       "              num_parallel_tree=None, random_state=None, ...)</pre></div> </div></div></div></div>"
      ],
      "text/plain": [
       "XGBClassifier(base_score=None, booster=None, callbacks=None,\n",
       "              colsample_bylevel=None, colsample_bynode=None,\n",
       "              colsample_bytree=0.6049693680044275, device=None,\n",
       "              early_stopping_rounds=None, enable_categorical=False,\n",
       "              eval_metric='logloss', feature_types=None,\n",
       "              gamma=0.23986638509728886, grow_policy=None, importance_type=None,\n",
       "              interaction_constraints=None, learning_rate=0.010299526216417424,\n",
       "              max_bin=None, max_cat_threshold=None, max_cat_to_onehot=None,\n",
       "              max_delta_step=None, max_depth=4, max_leaves=None,\n",
       "              min_child_weight=3, missing=nan, monotone_constraints=None,\n",
       "              multi_strategy=None, n_estimators=163, n_jobs=None,\n",
       "              num_parallel_tree=None, random_state=None, ...)"
      ]
     },
     "execution_count": 140,
     "metadata": {},
     "output_type": "execute_result"
    }
   ],
   "source": [
    "best_params = study.best_params\n",
    "\n",
    "# Build final model with best params\n",
    "final_model = XGBClassifier(\n",
    "    **best_params,\n",
    "    use_label_encoder=False,\n",
    "    eval_metric=\"logloss\"\n",
    ")\n",
    "\n",
    "# Fit to full training data\n",
    "final_model.fit(X_train, y_train)"
   ]
  },
  {
   "cell_type": "code",
   "execution_count": 144,
   "metadata": {},
   "outputs": [
    {
     "name": "stdout",
     "output_type": "stream",
     "text": [
      "              precision    recall  f1-score   support\n",
      "\n",
      "           0       1.00      0.67      0.80    631626\n",
      "           1       0.05      0.90      0.10     12870\n",
      "\n",
      "    accuracy                           0.67    644496\n",
      "   macro avg       0.52      0.78      0.45    644496\n",
      "weighted avg       0.98      0.67      0.79    644496\n",
      "\n"
     ]
    },
    {
     "data": {
      "text/plain": [
       "['xgb_12.pkl']"
      ]
     },
     "execution_count": 144,
     "metadata": {},
     "output_type": "execute_result"
    }
   ],
   "source": [
    "print(classification_report(y_train, y_pred))\n",
    "joblib.dump((final_model, top_features), \"xgb_12.pkl\")"
   ]
  },
  {
   "cell_type": "code",
   "execution_count": 148,
   "metadata": {},
   "outputs": [
    {
     "name": "stdout",
     "output_type": "stream",
     "text": [
      "              precision    recall  f1-score   support\n",
      "\n",
      "           0       1.00      0.62      0.77    157907\n",
      "           1       0.05      0.93      0.09      3217\n",
      "\n",
      "    accuracy                           0.63    161124\n",
      "   macro avg       0.52      0.77      0.43    161124\n",
      "weighted avg       0.98      0.63      0.75    161124\n",
      "\n",
      "AUC-ROC: 0.874851111048218\n",
      "AUC-PR: 0.16455581946089815\n",
      "Top-5% Precision: 0.0474\n"
     ]
    }
   ],
   "source": [
    "y_pred = final_model.predict(X_test)\n",
    "y_pred_proba = final_model.predict_proba(X_test)[:, 1]\n",
    "\n",
    "print(classification_report(y_test, y_pred))\n",
    "print(f\"AUC-ROC: {roc_auc_score(y_test, y_pred_proba)}\")\n",
    "print(\"AUC-PR:\", average_precision_score(y_test, y_pred_proba))\n",
    "df_preds = precision_at_k(y_test, y_pred, k_percent=0.05)"
   ]
  },
  {
   "cell_type": "code",
   "execution_count": null,
   "metadata": {},
   "outputs": [],
   "source": []
  }
 ],
 "metadata": {
  "kernelspec": {
   "display_name": "Python 3",
   "language": "python",
   "name": "python3"
  },
  "language_info": {
   "codemirror_mode": {
    "name": "ipython",
    "version": 3
   },
   "file_extension": ".py",
   "mimetype": "text/x-python",
   "name": "python",
   "nbconvert_exporter": "python",
   "pygments_lexer": "ipython3",
   "version": "3.13.2"
  }
 },
 "nbformat": 4,
 "nbformat_minor": 2
}
